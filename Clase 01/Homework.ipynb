{
 "cells": [
  {
   "cell_type": "markdown",
   "metadata": {},
   "source": [
    "# Práctica Clase 1 "
   ]
  },
  {
   "cell_type": "markdown",
   "metadata": {},
   "source": [
    "1) Crear una función capaz de convertir números enteros de base 10 a base 2. Debe recibir como parámetro el número a convertir<br>\n",
    "Consideraciones:<br> \n",
    "a. Tratar de resolverlo sin usar la función format(nro,\"b\")<br>\n",
    "b. El pdf \"conversion-de-decimal-a-binario.pdf\" puede servir de ayuda.\n"
   ]
  },
  {
   "cell_type": "code",
<<<<<<< HEAD
   "execution_count": 18,
   "metadata": {},
   "outputs": [
    {
     "data": {
      "text/plain": [
       "11"
      ]
     },
     "execution_count": 18,
     "metadata": {},
     "output_type": "execute_result"
=======
   "execution_count": 59,
   "metadata": {},
   "outputs": [
    {
     "name": "stdout",
     "output_type": "stream",
     "text": [
      "\n"
     ]
>>>>>>> 71db5b4f60e313d6385e3554953c1a1146b640e5
    }
   ],
   "source": [
    "def NumeroBinario(numero):\n",
    "    '''\n",
    "    Esta función recibe como parámetro un número entero mayor ó igual a cero y lo devuelve en su \n",
    "    representación binaria. Debe recibir y devolver un valor de tipo entero.\n",
    "    En caso de que el parámetro no sea de tipo entero y mayor a -1 retorna nulo.\n",
    "    '''\n",
<<<<<<< HEAD
    "    num_binario=0\n",
    "    if (type(numero)!=int or numero<0): #es decir si el numero no es entero o es negativo, no vamos a hacer nada, return None.\n",
    "        return None\n",
    "    elif (numero==0 or numero==1): #ahora bien, si el numero es 0 o 1, vamos a retornar el numero propiamente dicho, ya que 0 binario = 0 decimal y 1 binario = 1 decimal\n",
    "        return numero\n",
    "    else:\n",
    "        num_binario=\"\"          #y por ultimo, si no se da ninguna de estas condiciones, quiere decir que se cumple que numero es un entero y que es mayor o igual a 0\n",
    "        while (numero>0):\n",
    "                caracter_bin=str(numero%2)\n",
    "                numero//=2\n",
    "                num_binario += caracter_bin\n",
    "        \n",
    "        num_binario=int(num_binario[::-1])\n",
    "    return num_binario\n",
    "\n",
    "NumeroBinario(3)\n"
=======
    "    cociente = 0\n",
    "    num_bin = \"\"\n",
    "\n",
    "    while (type(numero) == int and numero >= 0 and cociente != 0):\n",
    "        cociente = numero/2 #defino el cociente como un float para que no sea igual a numero\n",
    "        numero //= 2\n",
    "        caracter_bin = str(numero%2)\n",
    "        num_bin+=caracter_bin\n",
    "            \n",
    "return num_bin\n",
    "\n",
    "print(NumeroBinario(65))"
>>>>>>> 71db5b4f60e313d6385e3554953c1a1146b640e5
   ]
  },
  {
   "cell_type": "code",
<<<<<<< HEAD
   "execution_count": 19,
=======
   "execution_count": 49,
>>>>>>> 71db5b4f60e313d6385e3554953c1a1146b640e5
   "metadata": {},
   "outputs": [
    {
     "data": {
      "text/plain": [
       "29"
      ]
     },
<<<<<<< HEAD
     "execution_count": 19,
=======
     "execution_count": 49,
>>>>>>> 71db5b4f60e313d6385e3554953c1a1146b640e5
     "metadata": {},
     "output_type": "execute_result"
    }
   ],
   "source": [
    "#Ejemplo:\n",
    "NumeroBinario(29)"
   ]
  },
  {
   "cell_type": "markdown",
   "metadata": {},
   "source": [
    "2) Convertir de decimal a binario las fracciones 1/2, 1/3, 1/4, 1/5, 1/6, 1/7, 1/8, 1/9. Luego analizar los resultados y observar qué particularidad se encuentra en los mismos. Se puede usar Python o una calculadora, lo importante es ver si hay algo que podemos notar..."
   ]
  },
  {
   "cell_type": "markdown",
   "metadata": {},
   "source": [
    "Salida esperada:\n",
    "* Fraccion 1 / 2 :  0.5  y En binario:  0.1\n",
    "* Fraccion 1 / 3 :  0.3333333333333333  y En binario:  0.010101010101010101010101\n",
    "* Fraccion 1 / 4 :  0.25  y En binario:  0.01\n",
    "* Fraccion 1 / 5 :  0.2  y En binario:  0.001100110011001100110011\n",
    "* Fraccion 1 / 6 :  0.16666666666666666  y En binario:  0.001010101010101010101010\n",
    "* Fraccion 1 / 7 :  0.14285714285714285  y En binario:  0.001001001001001001001001\n",
    "* Fraccion 1 / 8 :  0.125  y En binario:  0.001\n",
    "* Fraccion 1 / 9 :  0.1111111111111111  y En binario:  0.000111000111000111000111"
   ]
  },
  {
   "cell_type": "code",
   "execution_count": null,
   "metadata": {},
   "outputs": [],
<<<<<<< HEAD
   "source": [
    "def fraccion_a_binario(fraccion):\n",
    "    numero_binario=\"0.\"\n",
    "    while fraccion>0:\n",
    "        #ponerle un tope para no entrar a un loop infinito"
   ]
  },
  {
   "cell_type": "code",
   "execution_count": null,
   "metadata": {},
   "outputs": [],
   "source": [
    "def num_a_binario(num):\n",
    "    parte_entera = int(num)\n",
    "    parte_decimal = num - parte_entera\n",
    "\n",
    "    binario_entero = NumeroBinario (parte_entera)\n",
    "    binario_decimal = fraccion_a_binario (parte_decimal)\n",
    "\n",
    "    binario_final = binario_entero + binario_decimal\n",
    "\n",
    "    return binario_final"
   ]
=======
   "source": []
>>>>>>> 71db5b4f60e313d6385e3554953c1a1146b640e5
  }
 ],
 "metadata": {
  "kernelspec": {
<<<<<<< HEAD
   "display_name": "environment_henry",
=======
   "display_name": "Python 3",
>>>>>>> 71db5b4f60e313d6385e3554953c1a1146b640e5
   "language": "python",
   "name": "python3"
  },
  "language_info": {
   "codemirror_mode": {
    "name": "ipython",
    "version": 3
   },
   "file_extension": ".py",
   "mimetype": "text/x-python",
   "name": "python",
   "nbconvert_exporter": "python",
   "pygments_lexer": "ipython3",
   "version": "3.11.1"
  },
  "orig_nbformat": 4,
  "vscode": {
   "interpreter": {
<<<<<<< HEAD
    "hash": "a340cac6e86a30fca2e486b1808e6740ce52c1e6b2b1df305a38899298e45c95"
=======
    "hash": "cde823daa362eef15ead0a0eae5429e5dd4c5c8fd52f568fcadebfec2887da44"
>>>>>>> 71db5b4f60e313d6385e3554953c1a1146b640e5
   }
  }
 },
 "nbformat": 4,
 "nbformat_minor": 2
}
