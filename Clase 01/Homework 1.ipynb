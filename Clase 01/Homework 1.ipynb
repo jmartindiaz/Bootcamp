{
 "cells": [
  {
   "attachments": {},
   "cell_type": "markdown",
   "metadata": {},
   "source": [
    "1) Crear una función capaz de convertir números enteros de base 10 a base 2. Debe recibir como parámetro el número a convertir.\n",
    "\n",
    "Consideraciones:\n",
    "a. Tratar de resolverlo sin usar la función format(nro)\n",
    "b. El pdf \"conversion-de-decimal-a-binario.pdf\" puede servir de ayuda."
   ]
  },
  {
   "cell_type": "code",
   "execution_count": 15,
   "metadata": {},
   "outputs": [
    {
     "data": {
      "text/plain": [
       "11"
      ]
     },
     "execution_count": 15,
     "metadata": {},
     "output_type": "execute_result"
    }
   ],
   "source": [
    "def NumeroBinario(numero):\n",
    "    '''\n",
    "    Esta función recibe como parámetro un número entero mayor ó igual a cero y lo devuelve en su \n",
    "    representación binaria. Debe recibir y devolver un valor de tipo entero.\n",
    "    En caso de que el parámetro no sea de tipo entero y mayor a -1 retorna nulo.\n",
    "    '''\n",
    "    if (type(numero)!=int or numero<0): #es decir si el numero no es entero o es negativo, no vamos a hacer nada, return None.\\n\",\n",
    "        return None\n",
    "    elif (numero==0 or numero==1): #ahora bien, si el numero es 0 o 1, vamos a retornar el numero propiamente dicho, ya que 0 binario = 0 decimal y 1 binario = 1 decimal\\n\",\n",
    "        return numero\n",
    "    else:\n",
    "        num_binario=\"\"      #y por ultimo, si no se da ninguna de estas condiciones, quiere decir que se cumple que numero es un entero y que es mayor o igual a 0\\n\",\n",
    "        while (numero>0):\n",
    "                caracter_bin=str(numero%2)\n",
    "                numero//=2\n",
    "                num_binario += caracter_bin\n",
    "\n",
    "        num_binario=int(num_binario[::-1])\n",
    "    return num_binario\n",
    "\n",
    "NumeroBinario(3)"
   ]
  },
  {
   "attachments": {},
   "cell_type": "markdown",
   "metadata": {},
   "source": [
    "2) Convertir de decimal a binario las fracciones 1/2, 1/3, 1/4, 1/5, 1/6, 1/7, 1/8, 1/9. Luego analizar los resultados y observar qué particularidad se encuentra en los mismos. Se puede usar Python o una calculadora, lo importante es ver si hay algo que podemos notar..."
   ]
  },
  {
   "attachments": {},
   "cell_type": "markdown",
   "metadata": {},
   "source": [
    "Salida esperada:\n",
    "Fraccion 1 / 2 :  0.5  y En binario:  0.1\n",
    "Fraccion 1 / 3 :  0.3333333333333333  y En binario:  0.010101010101010101010101\n",
    "Fraccion 1 / 4 :  0.25  y En binario:  0.01\n",
    "Fraccion 1 / 5 :  0.2  y En binario:  0.001100110011001100110011\n",
    "Fraccion 1 / 6 :  0.16666666666666666  y En binario:  0.001010101010101010101010 \n",
    "Fraccion 1 / 7 :  0.14285714285714285  y En binario:  0.001001001001001001001001\n",
    "Fraccion 1 / 8 :  0.125  y En binario:  0.001\n",
    "Fraccion 1 / 9 :  0.1111111111111111  y En binario:  0.000111000111000111000111"
   ]
  },
  {
   "cell_type": "code",
   "execution_count": 6,
   "metadata": {},
   "outputs": [],
   "source": [
    "#def fraccion_a_binario (fraccion):\n",
    "    # num_bin = \"0.\"\n",
    "# \n",
    "    # if (fraccion<1 and fraccion>0):\n",
    "        # \n",
    "        # count = 0   #con este contador voy a contar la cantidad de iteraciones/decimales despues de la coma\n",
    "# \n",
    "        # while True:   # debemos cuidar el espacio/memoria que tenemos en nuestro ordenador, por eso solo voy a almacenar 16 decimales despues de la coma\n",
    "            # fraccion *= 2\n",
    "            # \n",
    "            # parte_entera_int = int (fraccion)     # guardo la parte entera de la multiplicacio\n",
    "            # parte_entera_str = str (parte_entera_int)   # transformo la parte entera en CADENA\n",
    "# \n",
    "            # num_bin += parte_entera_str     # concateno el digito binario con mi numero binario previamente creado \"0.\"\n",
    "# \n",
    "#            Para poder salir del While:\n",
    "            # if (count==5 or fraccion==1):    #si el contador es 16 voy a decidir no gastar mas memoria y cortar el bucle, no buscar mas decimales\n",
    "#               si la fraccion es =1 entonces quiere decir que encontre el decimal exacto\n",
    "                # break\n",
    "            # \n",
    "            # elif (fraccion>1):   # aqui aseguro que en la proxima iteracion voy a usar solo la parte decimal\n",
    "                # fraccion-=1\n",
    "                # count += 1\n",
    "            # \n",
    "            # else:\n",
    "                # count += 1\n",
    "                # continue\n",
    "        # \n",
    "        ## con 0.3: 0.010011\n",
    "        # return float (num_bin)\n",
    "# \n",
    "    # else:\n",
    "        # return None\n",
    "    \n",
    "\n",
    "#fraccion_a_binario(1/3)\n",
    "\n"
   ]
  },
  {
   "cell_type": "code",
   "execution_count": 20,
   "metadata": {},
   "outputs": [
    {
     "data": {
      "text/plain": [
       "0.0011001100110011"
      ]
     },
     "execution_count": 20,
     "metadata": {},
     "output_type": "execute_result"
    }
   ],
   "source": [
    "def fraccion_a_binario(fraccion):\n",
    "    num_bin = \"0.\"  # creamos un string que sera nuestro numero binario, le ponemos \"0.\" para facilitar su concatenado con los digitos binarios despues de la coma\n",
    "    count = 0   # creamos u contador para limitar la cantidad de iteraciones en caso de tener un numero con decimales infinitos\n",
    "\n",
    "    while (fraccion > 0):\n",
    "        ### SI NOS FIJAMOS EN EL COFIGO ANTERIOR, EN NUESTRO WHILE PUSIMOS DOS CONDICIONES, ESO NOS COMPLICA PARA LUEGO TENER QUE SALIR DEL WHILE\n",
    "        ### EN ESTE BUCLE NO CONVIENE ESCRIBIR TAN ESPECIFICAMENTE CUANDO QUEREMOS QUE SE INGRESE AL WHILE, SI HACEMOS ESTO, LUEGO NOS COSTARA\n",
    "        ### PENSAR EN UNA CONDICION QUE SE PUEDA DAR PARA QUE SE ROMPA ESTE BUCLE\n",
    "\n",
    "        ### POR LO TANTO CONCLUYO QUE LO MEJOR ES ESCRIBIR LA CONDICION PARA QUE ENTRE FACILMENTE Y SER MUCHO MAS ESPECIFICO EN LA CONDICION QUE SE \n",
    "        ### REQUIERE PARA SALIR DEL BUCLE\n",
    "\n",
    "        fraccion *= 2  #por metodo de multiplicacion sucesiva, debemos multiplicar por 2 la fraccion reiteradas veces \n",
    "        count += 1  # contamos las iteraciones/cantidad de decimales despues de la coma\n",
    "\n",
    "        parte_entera = int(fraccion)   # creamos el digito binario que ira despues de la coma\n",
    "        digito_bin = str(parte_entera)   # luego lo transformamos en un string\n",
    "        num_bin += digito_bin # concatenamos el digito binario con nuestro numero binario\n",
    "\n",
    "        fraccion -= parte_entera # aca especificamos que en cada iteracion nos vamos a quedar con nada mas que la parte decimal\n",
    "\n",
    "        if (fraccion==1):\n",
    "            break\n",
    "        elif (count == 16):\n",
    "            break\n",
    "    return float (num_bin)\n",
    "\n",
    "fraccion_a_binario(1/5)\n",
    "\n",
    "\n",
    "        \n",
    "\n",
    "\n",
    "\n"
   ]
  },
  {
   "attachments": {},
   "cell_type": "markdown",
   "metadata": {},
   "source": [
    "Si quisiera hacer una funcion que transforme cualquier numero a binario (enteros o decimales)..."
   ]
  },
  {
   "cell_type": "code",
   "execution_count": 19,
   "metadata": {},
   "outputs": [
    {
     "data": {
      "text/plain": [
       "1.001100110011001"
      ]
     },
     "execution_count": 19,
     "metadata": {},
     "output_type": "execute_result"
    }
   ],
   "source": [
    "def num_a_binario(num):\n",
    "    parte_entera = int(num)\n",
    "    parte_decimal = num - parte_entera\n",
    "\n",
    "    binario_entero = NumeroBinario (parte_entera)\n",
    "    binario_decimal = fraccion_a_binario (parte_decimal)\n",
    "    \n",
    "    binario_final = binario_entero + binario_decimal\n",
    "    \n",
    "    return binario_final\n",
    "\n",
    "num_a_binario(1.2)\n",
    "\n"
   ]
  }
 ],
 "metadata": {
  "kernelspec": {
   "display_name": "Python 3",
   "language": "python",
   "name": "python3"
  },
  "language_info": {
   "codemirror_mode": {
    "name": "ipython",
    "version": 3
   },
   "file_extension": ".py",
   "mimetype": "text/x-python",
   "name": "python",
   "nbconvert_exporter": "python",
   "pygments_lexer": "ipython3",
   "version": "3.11.1"
  },
  "orig_nbformat": 4,
  "vscode": {
   "interpreter": {
    "hash": "cde823daa362eef15ead0a0eae5429e5dd4c5c8fd52f568fcadebfec2887da44"
   }
  }
 },
 "nbformat": 4,
 "nbformat_minor": 2
}
