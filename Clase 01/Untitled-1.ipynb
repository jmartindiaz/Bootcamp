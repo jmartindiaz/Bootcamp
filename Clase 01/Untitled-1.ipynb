{
 "cells": [
  {
   "attachments": {},
   "cell_type": "markdown",
   "metadata": {},
   "source": [
    "1) Crear una función capaz de convertir números enteros de base 10 a base 2. Debe recibir como parámetro el número a convertir.\n",
    "\n",
    "Consideraciones:\n",
    "a. Tratar de resolverlo sin usar la función format(nro)\n",
    "b. El pdf \"conversion-de-decimal-a-binario.pdf\" puede servir de ayuda."
   ]
  },
  {
   "cell_type": "code",
   "execution_count": 2,
   "metadata": {},
   "outputs": [
    {
     "data": {
      "text/plain": [
       "11"
      ]
     },
     "execution_count": 2,
     "metadata": {},
     "output_type": "execute_result"
    }
   ],
   "source": [
    "def NumeroBinario(numero):\n",
    "    '''\n",
    "    Esta función recibe como parámetro un número entero mayor ó igual a cero y lo devuelve en su \n",
    "    representación binaria. Debe recibir y devolver un valor de tipo entero.\n",
    "    En caso de que el parámetro no sea de tipo entero y mayor a -1 retorna nulo.\n",
    "    '''\n",
    "    if (type(numero)!=int or numero<0): #es decir si el numero no es entero o es negativo, no vamos a hacer nada, return None.\\n\",\n",
    "        return None\n",
    "    elif (numero==0 or numero==1): #ahora bien, si el numero es 0 o 1, vamos a retornar el numero propiamente dicho, ya que 0 binario = 0 decimal y 1 binario = 1 decimal\\n\",\n",
    "        return numero\n",
    "    else:\n",
    "        num_binario=\"\"      #y por ultimo, si no se da ninguna de estas condiciones, quiere decir que se cumple que numero es un entero y que es mayor o igual a 0\\n\",\n",
    "        while (numero>0):\n",
    "                caracter_bin=str(numero%2)\n",
    "                numero//=2\n",
    "                num_binario += caracter_bin\n",
    "\n",
    "        num_binario=int(num_binario[::-1])\n",
    "    return num_binario\n",
    "\n",
    "NumeroBinario(3)"
   ]
  }
 ],
 "metadata": {
  "kernelspec": {
   "display_name": "Python 3",
   "language": "python",
   "name": "python3"
  },
  "language_info": {
   "codemirror_mode": {
    "name": "ipython",
    "version": 3
   },
   "file_extension": ".py",
   "mimetype": "text/x-python",
   "name": "python",
   "nbconvert_exporter": "python",
   "pygments_lexer": "ipython3",
   "version": "3.11.1"
  },
  "orig_nbformat": 4,
  "vscode": {
   "interpreter": {
    "hash": "cde823daa362eef15ead0a0eae5429e5dd4c5c8fd52f568fcadebfec2887da44"
   }
  }
 },
 "nbformat": 4,
 "nbformat_minor": 2
}
