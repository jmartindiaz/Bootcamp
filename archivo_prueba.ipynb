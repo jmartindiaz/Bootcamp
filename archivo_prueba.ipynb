{
 "cells": [
  {
   "cell_type": "code",
   "execution_count": 13,
   "metadata": {},
   "outputs": [
    {
     "data": {
      "text/plain": [
       "True"
      ]
     },
     "execution_count": 13,
     "metadata": {},
     "output_type": "execute_result"
    }
   ],
   "source": [
    "dic={\"color\":\"rojo\",\"edad\":\"24\",\"cosas\":\"perro\"}\n",
    "tupla=(1,2,\"perro\",\"jeropa\")\n",
    "cadena=\"hola mundo\"\n",
    "lista=[1,2,3,4,5,5,\"pacu\"]\n",
    "\n",
    "\"perro\" in tupla\n",
    "\n",
    "#  ACTUALIZACION DE ARCHIVOS MEDIANTE Git en consola #\n"
   ]
  }
 ],
 "metadata": {
  "kernelspec": {
   "display_name": "Python 3",
   "language": "python",
   "name": "python3"
  },
  "language_info": {
   "codemirror_mode": {
    "name": "ipython",
    "version": 3
   },
   "file_extension": ".py",
   "mimetype": "text/x-python",
   "name": "python",
   "nbconvert_exporter": "python",
   "pygments_lexer": "ipython3",
   "version": "3.11.1"
  },
  "orig_nbformat": 4,
  "vscode": {
   "interpreter": {
    "hash": "cde823daa362eef15ead0a0eae5429e5dd4c5c8fd52f568fcadebfec2887da44"
   }
  }
 },
 "nbformat": 4,
 "nbformat_minor": 2
}
