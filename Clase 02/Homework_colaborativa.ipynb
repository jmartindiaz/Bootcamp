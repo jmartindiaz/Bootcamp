{
 "cells": [
  {
   "cell_type": "markdown",
   "metadata": {},
   "source": [
    "# Práctica Clase 2"
   ]
  },
  {
   "cell_type": "markdown",
   "metadata": {},
   "source": [
    "1) Abrir el archivo \"Emisiones_CO2.csv\" y cargar sus datos en un diccionario."
   ]
  },
  {
   "cell_type": "code",
   "execution_count": null,
   "metadata": {},
   "outputs": [],
   "source": [
    "diccio_emisiones"
   ]
  },
  {
   "cell_type": "code",
   "execution_count": null,
   "metadata": {},
   "outputs": [],
   "source": [
    "for lineas in dicc_emisiones.values():\n",
    "    if lineas[2] == 'América Latina y Caribe':\n",
    "        "
   ]
  },
  {
   "cell_type": "code",
   "execution_count": null,
   "metadata": {},
   "outputs": [],
   "source": [
    "dicc_emisiones['region']"
   ]
  },
  {
   "cell_type": "code",
   "execution_count": null,
   "metadata": {},
   "outputs": [],
   "source": [
    "archivo = 'Emisiones_CO2.csv'"
   ]
  },
  {
   "cell_type": "code",
   "execution_count": null,
   "metadata": {},
   "outputs": [],
   "source": [
    "dicc_emisiones = {  'cod_pais' : [],  \n",
    "                    'nom_pais' : [],  \n",
    "                    'region' : [],\n",
    "                    'anio' : [],\n",
    "                    'co2' : [],\n",
    "                    'co2_percapita' : []}"
   ]
  },
  {
   "cell_type": "code",
   "execution_count": null,
   "metadata": {},
   "outputs": [],
   "source": [
    "mylist = iter([\"apple\", \"banana\", \"cherry\"])\n",
    "x = next(mylist)\n",
    "print(x)\n",
    "x = next(mylist)\n",
    "print(x)\n",
    "x = next(mylist)\n",
    "print(x)"
   ]
  },
  {
   "cell_type": "code",
   "execution_count": null,
   "metadata": {},
   "outputs": [],
   "source": [
    "nombre = 'Gustavo,Kildegaard,32'\n",
    "nombre2 = nombre.split(',')\n",
    "print(nombre2)"
   ]
  },
  {
   "cell_type": "code",
   "execution_count": null,
   "metadata": {},
   "outputs": [],
   "source": [
    "cod_paises = []\n",
    "paises = []\n",
    "region = []\n",
    "anio = []\n",
    "co2 = []\n",
    "co2_per = []"
   ]
  },
  {
   "cell_type": "code",
   "execution_count": null,
   "metadata": {},
   "outputs": [],
   "source": [
    "pepito = dicc_emisiones.keys()\n",
    "for algo in pepito:\n",
    "    print(algo)"
   ]
  },
  {
   "cell_type": "code",
   "execution_count": 120,
   "metadata": {},
   "outputs": [],
   "source": [
    "dicc_emisiones = {  'cod_pais' : [],  \n",
    "                    'nom_pais' : [],  \n",
    "                    'region' : [],\n",
    "                    'anio' : [],\n",
    "                    'co2' : [],\n",
    "                    'co2_percapita' : []}\n",
    "# sacamos lineas del archivo CSV y queda cada linea en listas.\n",
    "\n",
    "# dicc_emisiones = {}\n",
    "with open(archivo, 'rt') as file:\n",
    "\n",
    "### PRIMER PASO: EXTRAIGO LOS ENCABEZADOS\n",
    "\n",
    "    headers = next(file)        # El modo de apertura sera \"rd\" (read text), \n",
    "                                # por ende el puntero arrancara en el Inicio del archivo, \n",
    "                                # por lo tanto usando la funcion next()\n",
    "                                # saltaremos la PRIMER LINEA (encabezados). Esta linea que \n",
    "                                # salteamos quedara guardada en la variable headers\n",
    "\n",
    "### SEGUNDO PASO: TRANSFORMO CADA LINEA DEL ARCHIVO EN UNA LISTA\n",
    "\n",
    "    lineas = file.readlines()   # .readlines() crea una lista en la que \n",
    "                                # cada elemento es una linea del archivo\n",
    "    for linea in lineas:        # aqui, voy a transformar cada uno de esos elementos en una lista   \n",
    "        linea = linea.strip().split('|') ## Con strip le saco el caracter \"\\n\" \n",
    "                                        #y con split saco el caracter \"|\". Estos metodos \n",
    "                                        #transforman a linea en lista.\n",
    "        \n",
    "        dicc_emisiones['cod_pais'].append(linea[0]) ## \n",
    "        dicc_emisiones['nom_pais'].append(linea[1])\n",
    "        dicc_emisiones['region'].append(linea[2])\n",
    "        dicc_emisiones['anio'].append(linea[3])\n",
    "        dicc_emisiones['co2'].append(linea[4])\n",
    "        dicc_emisiones['co2_percapita'].append(linea[5])"
   ]
  },
  {
   "attachments": {},
   "cell_type": "markdown",
   "metadata": {},
   "source": [
    "2) a) ¿Cuántas variables hay? <br>\n",
    "b) ¿Qué tipos de datos usa para cada una? <br>\n",
    "c) ¿Qué tipo de variables son? <br>\n",
    "d) ¿Hay valores faltantes? <br>\n",
    "e) ¿Cuál es el total de emisiones de CO2 para 'América Latina y Caribe' en el año 2010?"
   ]
  },
  {
   "cell_type": "code",
   "execution_count": null,
   "metadata": {},
   "outputs": [],
   "source": [
    "# 2.a)      El número de varibles en este diccionario es de : 66762     *** Recordar reinicializar el diccionario para que solo tenga el valor de las keys al comenzar.\n",
    "\n",
    "# CONDICIONES: region == \"America Latina y Caribe\" and anio == 2010, OUTPUT: Suma de 'co2'\n",
    "\n",
    "# LAS LISTAS QUE VOY A TENER QUE USAR SON values DEL dicc_emisiones{}:\n",
    "dicc_emisiones['anio']\n",
    "dicc_emisiones['region']\n",
    "dicc_emisiones['co2']\n",
    "\n",
    "    if (dicc_emisiones['anio'][]==2010 and dicc_emisiones['region'][]==\"América Latina y Caribe\"):\n",
    "        print(dicc_emisiones[co2][i])\n",
    "\n",
    "### INCORRECTO: LA CANTIDAD DE VARIABLES NO ES LA CANTIDAD DE CELDAS DE MI TABLA, ES LA CANTIDAD DE CAMPOS QUE TENEMOS\n",
    "### EN ESTE CASO TENEMOS 6 ENCABEZADOS, ENTONCES TENEMOS 6 VARIABLES\n"
   ]
  },
  {
   "cell_type": "code",
   "execution_count": null,
   "metadata": {},
   "outputs": [],
   "source": [
    "\n",
    "print(dicc_emisiones['region'])\n",
    "total_emisiones_co2 = 0\n",
    "\n",
    "for keys in dicc_emisiones\n",
    "    if dicc_emisiones[keys] == 'América Latina y Caribe':\n",
    "        if dicc_emisiones[keys] == 'anio':\n",
    "            total_emisiones_co2 + = dicc_emisiones[]\n",
    "\n",
    "\n",
    "numero = '1.234,67'\n",
    "float(numero.replace('.', '').replace(',', '.'))"
   ]
  },
  {
   "cell_type": "code",
   "execution_count": 167,
   "metadata": {},
   "outputs": [
    {
     "name": "stdout",
     "output_type": "stream",
     "text": [
      "Emisión de LATAM: 1691634.80\n"
     ]
    }
   ],
   "source": [
    "#2.e ¿Cuál es el total de emisiones de CO2 para 'América Latina y Caribe' en el año 2010? \n",
    "\n",
    "\n",
    "\n",
    "# sacamos lineas del archivo CSV y queda cada linea en listas.\n",
    "\n",
    "# dicc_emisiones = {}\n",
    "\n",
    "sumatoria_co2 = 0.0\n",
    "string_temporal = ''\n",
    "float_temporal = 0.0\n",
    "with open(archivo, 'rt') as file:\n",
    "\n",
    "### PRIMER PASO: EXTRAIGO LOS ENCABEZADOS\n",
    "\n",
    "    headers = next(file)        # El modo de apertura sera \"rd\" (read text), \n",
    "                                # por ende el puntero arrancara en el Inicio del archivo, \n",
    "                                # por lo tanto usando la funcion next()\n",
    "                                # saltaremos la PRIMER LINEA (encabezados). Esta linea que \n",
    "                                # salteamos quedara guardada en la variable headers\n",
    "\n",
    "### SEGUNDO PASO: TRANSFORMO CADA LINEA DEL ARCHIVO EN UNA LISTA\n",
    "\n",
    "    lineas = file.readlines()   # .readlines() crea una lista en la que \n",
    "                                # cada elemento es una linea del archivo\n",
    "    for linea in lineas:        # aqui, voy a transformar cada uno de esos elementos en una lista   \n",
    "        linea = linea.strip().split('|') ## Con strip le saco el caracter \"\\n\" \n",
    "                                        #y con split saco el caracter \"|\". Estos metodos \n",
    "                                        #transforman a linea en lista.     \n",
    "        if linea[2] == 'América Latina y Caribe' and linea[3] == '2010':\n",
    "            if linea[4] == '':\n",
    "                continue\n",
    "            else:\n",
    "                string_temporal = linea[4]  #1.234,67\n",
    "                string_temporal = string_temporal.replace('.', '').replace(',', '.') #1234.67\n",
    "                float_temporal = float(string_temporal)\n",
    "                sumatoria_co2 += float_temporal\n",
    "\n",
    "    print(f'Emisión de LATAM: {sumatoria_co2:.2f}')"
   ]
  },
  {
   "attachments": {},
   "cell_type": "markdown",
   "metadata": {},
   "source": [
    "2.b )\n",
    "\n",
    "Código:                 cualitativo - categórico\n",
    "nombre país:            cualitativo - categórico\n",
    "región:                 cualitativo - categórico\n",
    "año:                    cualitativo - ordinal\n",
    "co2:                    cuantitativo - contínuo\n",
    "co2 per capita:         cuantitativo - contínuo"
   ]
  },
  {
   "attachments": {},
   "cell_type": "markdown",
   "metadata": {},
   "source": [
    "2.c )\n",
    "\n",
    "Código:                 string\n",
    "nombre país:            string\n",
    "región:                 string\n",
    "año:                    int\n",
    "co2:                    float\n",
    "co2 per capita:         float\n"
   ]
  },
  {
   "attachments": {},
   "cell_type": "markdown",
   "metadata": {},
   "source": [
    "2.d) Sí, porquie no hay registro de el \"co2\" y el \"co2 per capita\" en algunos celdas de el diccionario que se representan como un valor vacio."
   ]
  },
  {
   "cell_type": "code",
   "execution_count": 138,
   "metadata": {},
   "outputs": [
    {
     "data": {
      "text/plain": [
       "'730833'"
      ]
     },
     "execution_count": 138,
     "metadata": {},
     "output_type": "execute_result"
    }
   ],
   "source": [
    "dicc_emisiones['co2'][230]"
   ]
  },
  {
   "cell_type": "code",
   "execution_count": 135,
   "metadata": {},
   "outputs": [],
   "source": [
    "dicc_emisiones['co2'][230] = dicc_emisiones['co2'][230].replace('.', '')"
   ]
  },
  {
   "cell_type": "code",
   "execution_count": 136,
   "metadata": {},
   "outputs": [],
   "source": [
    "dicc_emisiones['co2'][230] = dicc_emisiones['co2'][230].replace(',', '.')"
   ]
  },
  {
   "cell_type": "code",
   "execution_count": 137,
   "metadata": {},
   "outputs": [
    {
     "data": {
      "text/plain": [
       "'730833'"
      ]
     },
     "execution_count": 137,
     "metadata": {},
     "output_type": "execute_result"
    }
   ],
   "source": [
    "float(dicc_emisiones['co2'][230])"
   ]
  },
  {
   "cell_type": "code",
   "execution_count": 144,
   "metadata": {},
   "outputs": [
    {
     "data": {
      "text/plain": [
       "1234.67"
      ]
     },
     "execution_count": 144,
     "metadata": {},
     "output_type": "execute_result"
    }
   ],
   "source": [
    "numero = '1.234,67'\n",
    "float(numero.replace('.', '').replace(',', '.'))"
   ]
  },
  {
   "cell_type": "code",
   "execution_count": 140,
   "metadata": {},
   "outputs": [],
   "source": [
    "def transf(numero):\n",
    "    if (type(numero)==str)\n",
    "        if ('.')\n",
    "    return float(numero.replace('.', '').replace(',', '.'))"
   ]
  }
 ],
 "metadata": {
  "kernelspec": {
   "display_name": "Python 3",
   "language": "python",
   "name": "python3"
  },
  "language_info": {
   "codemirror_mode": {
    "name": "ipython",
    "version": 3
   },
   "file_extension": ".py",
   "mimetype": "text/x-python",
   "name": "python",
   "nbconvert_exporter": "python",
   "pygments_lexer": "ipython3",
   "version": "3.11.1"
  },
  "orig_nbformat": 4,
  "vscode": {
   "interpreter": {
    "hash": "cde823daa362eef15ead0a0eae5429e5dd4c5c8fd52f568fcadebfec2887da44"
   }
  }
 },
 "nbformat": 4,
 "nbformat_minor": 2
}
