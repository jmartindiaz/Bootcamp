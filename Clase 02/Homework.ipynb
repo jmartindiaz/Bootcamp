{
 "cells": [
  {
   "cell_type": "markdown",
   "metadata": {},
   "source": [
    "# Práctica Clase 2"
   ]
  },
  {
   "cell_type": "markdown",
   "metadata": {},
   "source": [
    "1) Abrir el archivo \"Emisiones_CO2.csv\" y cargar sus datos en un diccionario."
   ]
  },
  {
   "cell_type": "code",
   "execution_count": 13,
   "metadata": {},
   "outputs": [],
   "source": [
    "import os\n",
    "archivo = open('Emisiones_CO2.csv', 'r') ### El primer argumento sera el nombre del archivo que quiero leer\n",
    "### el segundo argumento sera el modo de apertura del archivo, en este caso sera \"r\" de read, solo LEEREMOS el archivo\n",
    "### RECORDAR SIEMPRE QUE NO SE DEBE ESCRIBIR (write) EN LA FUENTE DE DATOS PROPIAMENTE DICHA, SINO QUE DEBEMOS LEERLA (read)\n",
    "### Nunca se debe editar la fuente de datos, la fuente queda como esta y se trabaja por fuera de ella."
   ]
  },
  {
   "cell_type": "code",
   "execution_count": null,
   "metadata": {},
   "outputs": [],
   "source": [
    "#  import os # no es necesario importar la libreria, podriamos ponerlo solamente para especificar con que libreria trabajamos\n",
    "\n",
    "### El archivo lo puedo abrir mediante solo \"open\": \n",
    "\n",
    "#  archivo = open('Emisiones_CO2.csv', 'r') \n",
    "\n",
    "# 1er argumento: ruta del archivo\n",
    "# 2do argumento: modo de apertura del archivo, en este caso, sera solo lectura (r=read).\n",
    "# Una vez terminado mi codigo debo cerrar el archivo haciendo:\n",
    "\n",
    "#  archivo.close()\n",
    "\n",
    "### o sino mediante:\n",
    "#  with open('Emisiones_CO2.csv','rt'):\n",
    "\n",
    "    # 1er argumento: ruta del archivo\n",
    "    # 2do argumento: modo de apertura del archivo, en este caso, sera lectura (r=read) de texto (t=text).\n",
    "    \n",
    "    # Aqui dentro codeo lo que quiero que haga mi proceso con este archivo\n",
    "    # La ventaja del with es que no necesito indicar que tengo que cerrar el archivo, una accion que si la olvidamos, puede tirarnos error al ejecutar nuestro codigo."
   ]
  },
  {
   "cell_type": "code",
   "execution_count": 20,
   "metadata": {},
   "outputs": [
    {
     "name": "stdout",
     "output_type": "stream",
     "text": [
      "{'cod_pais': ['ABW', 'ABW', 'ABW', 'ABW', 'ABW', 'ABW'], 'nom_pais': ['Aruba', 'Aruba', 'Aruba', 'Aruba', 'Aruba', 'Aruba'], 'region': ['América Latina y Caribe', 'América Latina y Caribe', 'América Latina y Caribe', 'América Latina y Caribe', 'América Latina y Caribe', 'América Latina y Caribe'], 'anio': ['1960', '1961', '1962', '1963', '1964', '1965'], 'co2': ['', '', '', '', '', ''], 'co2_percapita': ['', '', '', '', '', '']}\n"
     ]
    }
   ],
   "source": [
    "dicc_emisiones = {  'cod_pais' : [],\n",
    "                    'nom_pais' : [],\n",
    "                    'region' : [],\n",
    "                    'anio' : [],\n",
    "                    'co2' : [],\n",
    "                    'co2_percapita' : []}\n",
    "\n",
    "# Cada key o clave es un encabezado de mi tabla en el que su value sera una lista\n",
    "# Cada uno de los values del diccionario sera una lista que contendra todos los registros de la tabla\n",
    "# A su vez cada uno de los elementos de esta lista value, esta reacionado con los elementos de otra lista value.\n",
    "\n",
    "CodigoPais = []\n",
    "Nombre_Pais = []\n",
    "Region = []\n",
    "Anio = []\n",
    "Co2 = []\n",
    "Co2_Percapita= []\n",
    "\n",
    "dicc_emisiones = {  'cod_pais' : CodigoPais,\n",
    "                    'nom_pais' : Nombre_Pais,\n",
    "                    'region' : Region,\n",
    "                    'anio' : Anio,\n",
    "                    'co2' : Co2,\n",
    "                    'co2_percapita' : Co2_Percapita}\n",
    "\n",
    "### ABRIMOS EL ARCHIVO ###\n",
    "with open('Emisiones_CO2.csv','rt') as file:\n",
    "    \n",
    "    ### PRIMER PASO: EXTRAIGO LOS ENCABEZADOS ###\n",
    "\n",
    "    headers = next(file)        # El modo de apertura sera \"rd\" (read text), por ende el puntero arrancara en el Inicio del archivo,\n",
    "                                # por lo tanto usando la funcion next() saltaremos la PRIMER LINEA (encabezados). Esta linea que \n",
    "                                # salteamos quedara guardada en la variable headers\n",
    "    headers = headers.strip()   # Eliminamos de la cadena el caracter \"\\n\"\n",
    "    headers = headers.split('|')  # Creamos una lista con los encabezados                             \n",
    "\n",
    "    ### SEGUNDO PASO: TRANSFORMO CADA LINEA DEL ARCHIVO EN UNA LISTA ###\n",
    "\n",
    "    lineas = file.readlines()   # .readlines() crea una lista en la que cada elemento es una linea del archivo\n",
    "    lineas = lineas[0:6]        # LO PONGO PARA NO ESTAR CONSTANTEMENTE PRINTEANDO LA BASE DE DATOS COMPLETA\n",
    "\n",
    "    for linea in lineas:        # aqui, voy a transformar cada uno de esos elementos en una lista   \n",
    "        linea = linea.strip()   # Con strip, elimino el caracter \"\\n\" de mi linea y devuelvo una CADENA\n",
    "        linea= linea.split('|') ## Con split genero una lista de elementos separados por un caracter especial, en este caso \"|\" \n",
    "    \n",
    "        ### TERCER PASO: AGREGO CADA UNA DE ESTAS LINEAS A SU CAMPO CORRESPONDIENTE\n",
    "\n",
    "        CodigoPais.append(linea[0]) ## dicc_emisiones['cod_pais'] INGRESO A EL value DE ESA key. \n",
    "        # COMO EL value ES UNA LISTA ENTONCES USO EL METODO append PARA AGREGARLE EL ELEMENTO EN LA COLUMNA CORRESPONDIENTE. LO MISMO HAGO CON LAS DEMAS COLUMNAS\n",
    "        Nombre_Pais.append(linea[1])\n",
    "        Region.append(linea[2])\n",
    "        Anio.append(linea[3])\n",
    "        Co2.append(linea[4])\n",
    "        Co2_Percapita.append(linea[5])\n",
    "\n",
    "### ACA YA TENGO MI DICCIONARIO CARGADO CON TODOS SUS DATOS ###\n",
    "\n",
    "print (dicc_emisiones)\n"
   ]
  },
  {
   "cell_type": "markdown",
   "metadata": {},
   "source": [
    "2) a) ¿Cuántas variables hay? <br>\n",
    "b) ¿Qué tipos de datos usar para cada una? <br>\n",
    "c) ¿Qué tipo de variables son? <br>\n",
    "d) ¿Hay valores faltantes? <br>\n",
    "e) ¿Cuál es el total de emisiones de CO2 para 'América Latina y Caribe' en el año 2010?"
   ]
  },
  {
   "cell_type": "code",
   "execution_count": 21,
   "metadata": {},
   "outputs": [
    {
     "name": "stdout",
     "output_type": "stream",
     "text": [
      "['Código de país', 'Nombre del país', 'Región', 'Año', 'CO2 (kt)', 'CO2 per cápita (toneladas métricas)']\n",
      "6\n",
      "La cantidad de variables en nuestra fuente de datos es de 36 variable\n"
     ]
    }
   ],
   "source": [
    "### 2.a ¿Cuantas variables hay?\n",
    "\n",
    "cant_headers = len (headers)    # Averiguamos la cantidad de encabezados que tenemos\n",
    "\n",
    "cant_registros = len(CodigoPais) # Averiguamos la cantidad de registros\n",
    "\n",
    "### Entonces la cantidad de variables o cantidad de celdas será:\n",
    "\n",
    "cant_var = cant_headers * cant_registros\n",
    "print (f\"La cantidad de variables en nuestra fuente de datos es de {cant_var} variables\")"
   ]
  },
  {
   "attachments": {},
   "cell_type": "markdown",
   "metadata": {},
   "source": [
    "2.b ¿Qué tipos de datos usara para cada una?\n",
    "\n",
    "Código:                 cualitativo - categórico\n",
    "nombre país:            cualitativo - categórico\n",
    "región:                 cualitativo - categórico\n",
    "año:                    cualitativo - ordinal\n",
    "co2:                    cuantitativo - contínuo\n",
    "co2 per capita:         cuantitativo - contínuo"
   ]
  },
  {
   "attachments": {},
   "cell_type": "markdown",
   "metadata": {},
   "source": [
    "2.c \n",
    "\n",
    "Código:                 string\n",
    "nombre país:            string\n",
    "región:                 string\n",
    "año:                    int\n",
    "co2:                    float\n",
    "co2 per capita:         float"
   ]
  }
 ],
 "metadata": {
  "kernelspec": {
   "display_name": "Python 3",
   "language": "python",
   "name": "python3"
  },
  "language_info": {
   "codemirror_mode": {
    "name": "ipython",
    "version": 3
   },
   "file_extension": ".py",
   "mimetype": "text/x-python",
   "name": "python",
   "nbconvert_exporter": "python",
   "pygments_lexer": "ipython3",
   "version": "3.11.1"
  },
  "orig_nbformat": 4,
  "vscode": {
   "interpreter": {
    "hash": "cde823daa362eef15ead0a0eae5429e5dd4c5c8fd52f568fcadebfec2887da44"
   }
  }
 },
 "nbformat": 4,
 "nbformat_minor": 2
}
