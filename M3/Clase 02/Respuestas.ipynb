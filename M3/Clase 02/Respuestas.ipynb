{
 "cells": [
  {
   "attachments": {},
   "cell_type": "markdown",
   "metadata": {},
   "source": [
    "1) ¿Qué tan actualizada está la información? ¿La forma en que se actualiza ó mantiene esa información se puede mejorar?"
   ]
  },
  {
   "attachments": {},
   "cell_type": "markdown",
   "metadata": {},
   "source": [
    "S epuede hacer con MAX y MIN"
   ]
  },
  {
   "attachments": {},
   "cell_type": "markdown",
   "metadata": {},
   "source": [
    "- Toda la informacion de *clientes* data del 1 de enero de 2015, hace 8 años."
   ]
  },
  {
   "attachments": {},
   "cell_type": "markdown",
   "metadata": {},
   "source": [
    "- El ultimo registro de *compras* data del 25 de diciembre de 2020."
   ]
  },
  {
   "attachments": {},
   "cell_type": "markdown",
   "metadata": {},
   "source": [
    "-  El ultimo registro de *gastos* data del 1 de diciembre de 2020"
   ]
  },
  {
   "cell_type": "code",
   "execution_count": null,
   "metadata": {
    "vscode": {
     "languageId": "sql"
    }
   },
   "outputs": [],
   "source": [
    "-- ESTE CODIGO USAMOS PARA SABER SI LA TABLA CLIENTES SE ENCUENTRA ACTUALIZADO, SI NINGUNO HAY 'IDCliente' en la tabla venta\n",
    "-- QUE NO SE ENCUENTRAN EN LA TABLA CLIENTES, ENTONCES QUIERE DECIR QUE NO ESTA ACTUALIZADA. \n",
    "SELECT * \n",
    "FROM\n",
    "ventas\n",
    "WHERE \n",
    "IdCliente NOT IN\n",
    "(SELECT DISTINCT ID FROM Cliente) \n",
    "\n",
    "\n",
    "-- CAST --> cambiar el tipo de dato de una columna\n"
   ]
  },
  {
   "cell_type": "code",
   "execution_count": null,
   "metadata": {
    "vscode": {
     "languageId": "sql"
    }
   },
   "outputs": [],
   "source": [
    "-- PARA LA TABLA PRODUCTOS USAMOS EL MISMO RAZONAMIENTO, SI HAY 'IdProductos' EN LA TABLA ventas, QUE NO ESTAN EN LA TABLA PRODUCTOS\n",
    "-- ENTONCES LA TABLA PRODUCTOS ESTA DESACTUALIZADA"
   ]
  },
  {
   "cell_type": "code",
   "execution_count": null,
   "metadata": {
    "vscode": {
     "languageId": "sql"
    }
   },
   "outputs": [],
   "source": [
    "-- IDEM PARA TABLA EMPLEADOS."
   ]
  },
  {
   "attachments": {},
   "cell_type": "markdown",
   "metadata": {},
   "source": [
    "- El ultimo registro de *venta* concretada data del 30 de diciembre del 2020\n",
    "- El ultimo registro de *entrega* data del 6 de enero del 2021"
   ]
  },
  {
   "attachments": {},
   "cell_type": "markdown",
   "metadata": {},
   "source": [
    "En conclusion, los datos estan bastante desactualizados. En base a la tabla *clientes*, se puede determinar que desde 2015 no se dan ingresos de nuevos clientes a la base de datos."
   ]
  },
  {
   "attachments": {},
   "cell_type": "markdown",
   "metadata": {},
   "source": [
    "2) ¿Los datos están completos en todas las tablas?"
   ]
  },
  {
   "attachments": {},
   "cell_type": "markdown",
   "metadata": {},
   "source": [
    "Se puede decir que los datos estan completos. La tabla madre, en este caso VENTAS tiene todas sus FK completas, no le faltan datos\n",
    "por lo que se puede decir que sus datos mantienen una *INTEGRIDAD REFERENCIAL*"
   ]
  },
  {
   "attachments": {},
   "cell_type": "markdown",
   "metadata": {},
   "source": [
    "En la tabla *clientes* los datos estan completos, no hay ningun dato vacio."
   ]
  },
  {
   "attachments": {},
   "cell_type": "markdown",
   "metadata": {},
   "source": [
    "En la tabla *compras* los datos estan completos, no hay ningun dato vacio."
   ]
  },
  {
   "attachments": {},
   "cell_type": "markdown",
   "metadata": {},
   "source": [
    "En la tabla *empleados* los datos estan completos, no hay ningun dato vacio."
   ]
  },
  {
   "attachments": {},
   "cell_type": "markdown",
   "metadata": {},
   "source": [
    "Tabla *gastos* completa, ningun dato vacio"
   ]
  },
  {
   "attachments": {},
   "cell_type": "markdown",
   "metadata": {},
   "source": [
    "La tabla *proveedores* posee dos datos vacios."
   ]
  },
  {
   "attachments": {},
   "cell_type": "markdown",
   "metadata": {},
   "source": [
    "La tabla *productos* posee 12 datos vacios."
   ]
  },
  {
   "attachments": {},
   "cell_type": "markdown",
   "metadata": {},
   "source": [
    "La tabla *ventas* posee 924 datos vacios."
   ]
  },
  {
   "cell_type": "code",
   "execution_count": null,
   "metadata": {
    "vscode": {
     "languageId": "sql"
    }
   },
   "outputs": [],
   "source": [
    "TRIM(apellido) = ''\n",
    "-- TRIM() Borra los valores o espacios en blanco que se encuentran al principio y al final de una cadena string\n",
    "-- Basicamente te saca los caracteres en blanco."
   ]
  },
  {
   "attachments": {},
   "cell_type": "markdown",
   "metadata": {},
   "source": [
    "3) ¿Se conocen las fuentes de los datos?"
   ]
  },
  {
   "attachments": {},
   "cell_type": "markdown",
   "metadata": {},
   "source": [
    "Si, las fuentes de los datos podrian ser areas de una empresa como lo son: Marketin, RRHH, Ventas, Compras, Contabilidad, etc."
   ]
  },
  {
   "attachments": {},
   "cell_type": "markdown",
   "metadata": {},
   "source": [
    "*<h1>Un modelo relacional busca integridad referencial, es una forma de decir que busca que los datos no se repitan. Busca relaionar datos de forma coherente sin hacer que se repitan. A este proceso de busqueda de integridad referencial se le puede llamar normalizacion.<h1>*"
   ]
  },
  {
   "attachments": {},
   "cell_type": "markdown",
   "metadata": {},
   "source": [
    "4) Al integrar éstos datos, es prudente que haya una normalización respecto de nombrar las tablas y sus campos?\n"
   ]
  },
  {
   "attachments": {},
   "cell_type": "markdown",
   "metadata": {},
   "source": [
    "Si, se debe efectuar la correcta normalizacion de las tablas y sus campos. Esto es para ejecutar consultas mas legibles.\n"
   ]
  },
  {
   "attachments": {},
   "cell_type": "markdown",
   "metadata": {},
   "source": [
    "Hay homologar los campos de las tablas\n"
   ]
  },
  {
   "attachments": {},
   "cell_type": "markdown",
   "metadata": {},
   "source": [
    "5) Es importante revisar la consistencia de los datos:"
   ]
  },
  {
   "attachments": {},
   "cell_type": "markdown",
   "metadata": {},
   "source": [
    "    - ¿Se pueden relacionar todas las tablas al modelo? \n",
    "Las tablas entre si se podrian relacionar? SI. Hay alguna tabla que no tenga nada que ver? NO\n",
    "Entonces si se pueden relacionar la totalidad de las tablas al modelo.\n",
    "\n",
    "    - ¿Cuáles son las tablas de hechos y las tablas dimensionales o maestros? \n",
    "Las tablas de hechos son: *compra*, *gastos* y *venta*. Las tablas de dimensiones o maestros son *empleados*, *tipo de gasto*, *canal de venta*, *proveedores*, *sucursales*, *producto*.\n",
    "\n",
    "    - ¿Podemos hacer esa separación en los datos que tenemos (tablas de hecho y dimensiones)? \n",
    "\n",
    "    \n",
    "    - ¿Hay claves duplicadas? \n",
    "    - ¿Cuáles son variables cualitativas y cuáles son cuantitativas? \n",
    "    - ¿Qué acciones podemos aplicar sobre las mismas?"
   ]
  }
 ],
 "metadata": {
  "language_info": {
   "name": "python"
  },
  "orig_nbformat": 4
 },
 "nbformat": 4,
 "nbformat_minor": 2
}
