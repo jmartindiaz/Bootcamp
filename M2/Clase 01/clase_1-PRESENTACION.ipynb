{
 "cells": [
  {
   "cell_type": "code",
   "execution_count": 111,
   "id": "a01dfdbb",
   "metadata": {},
   "outputs": [],
   "source": [
    "import pandas as pd\n",
    "import numpy as np\n",
    "from scipy import stats\n",
    "import matplotlib.pyplot as plt\n",
    "import random"
   ]
  },
  {
   "cell_type": "markdown",
   "id": "af69a699",
   "metadata": {},
   "source": [
    "# Módulo 2 - Clase 1"
   ]
  },
  {
   "cell_type": "markdown",
   "id": "44605079",
   "metadata": {},
   "source": [
    "## Población y muestra: ejemplos\n",
    "\n",
    "1. Si el conjunto de datos de interés está constituido por **todos los estudiantes** de licenciatura en el Tecnológico de Tlalnepantla, \n",
    "    - cada uno de los estudiantes será un **individuo** estadístico\n",
    "    - el conjunto de todos los estudiantes será la **población**. \n",
    "    - Una **muestra** podría ser el conjunto de todos los estudiantes del cuarto semestre de la licenciatura en administración.\n",
    "\n",
    "2. La producción de autos de una armadora ubicada en Morelos. En este ejemplo, \n",
    "    - la **población** son todos los autos ensamblados en esa planta.\n",
    "    - cada uno de los autos ensamblados es un **individuos** estadístico\n",
    "    - una **muestra** se puede proponer como los autos subcompactos fabricados en mayo.\n",
    "\n",
    "3. El estudio de ciertos experimentos químicos. En este caso, \n",
    "    - cada uno de los experimentos será un **individuo** estadístico y \n",
    "    - el conjunto de todos los posibles experimentos en esas condiciones será la **población** \n",
    "    - una **muestra** podría ser un conjunto de resultados experimentales en ciertas condiciones.  \n",
    "\n",
    "4. El conjunto de mediciones, en toneladas, de la carga máxima soportada por los cables de acero producidos por la compañía CM. En este caso, los individuos se refieren a los cables producidos por esta empresa durante un periodo determinado."
   ]
  },
  {
   "cell_type": "markdown",
   "id": "be7ab27b",
   "metadata": {},
   "source": [
    "## Tipos de datos\n",
    "\n",
    "Ver M1 - clase 02\n",
    "\n",
    "Cuando trabajamos con estadísticas, es importante reconocer los diferentes tipos de datos: \n",
    "\n",
    "- **Cuantitativos**:\n",
    "    - discretos\n",
    "    - continuos\n",
    "\n",
    "- **Cualitativos**\n",
    "    - **categóricos**\n",
    "    - **ordinales**"
   ]
  },
  {
   "cell_type": "markdown",
   "id": "bae397fe",
   "metadata": {},
   "source": [
    "## tipos de datos: ejemplos\n",
    "\n",
    "1. Si los individuos son personas, entonces el sexo, el estado civil, el número de hermanos o su estatura son caracteres.\n",
    "2. Si los individuos son computadoras, entonces un carácter podría ser la rapidez del procesador y la capacidad del disco duro, entre otras.\n",
    "3. Si el individuo es una reacción química, entonces el tiempo de la reacción, la cantidad de producto obtenido o si éste es ácido o básico son posibles caracteres."
   ]
  },
  {
   "cell_type": "markdown",
   "id": "65c8530e",
   "metadata": {},
   "source": [
    "### Cualitativos categóricos\n",
    "1. El **sector económico** se clasifica en: primario, industrial y de servicios.\n",
    "2. **Profesión**: ingeniero, médico, matemático, abogado, etcétera.\n",
    "3. **Colores de un objeto**: blanco, negro, rojo, entre otros."
   ]
  },
  {
   "cell_type": "markdown",
   "id": "b5c5078e",
   "metadata": {},
   "source": [
    "### Cualitativos ordinales\n",
    "1. Diferentes **niveles de satisfacción** de una persona sobre un producto: muy satisfecho, medio satisfecho y no muy satisfecho.\n",
    "2. **Niveles de estudio** de un candidato a ocupar un puesto en la empresa: pasante, licenciado, maestría, doctorado.\n",
    "3. **Clases sociales** respecto a su poder adquisitivo: baja, media y alta."
   ]
  },
  {
   "cell_type": "markdown",
   "id": "ada96d75",
   "metadata": {},
   "source": [
    "![Tipos de datos](img/tiposDatos.png)"
   ]
  },
  {
   "cell_type": "code",
   "execution_count": 113,
   "id": "69e5a1f9",
   "metadata": {},
   "outputs": [],
   "source": [
    "emisiones = pd.read_csv('Emisiones_CO2.csv', sep='|', decimal=',', thousands='.', encoding='Latin-1')"
   ]
  },
  {
   "cell_type": "code",
   "execution_count": 114,
   "id": "d2821554",
   "metadata": {},
   "outputs": [],
   "source": [
    "emisiones.dropna(inplace=True)"
   ]
  },
  {
   "cell_type": "code",
   "execution_count": 115,
   "id": "65434005",
   "metadata": {},
   "outputs": [
    {
     "data": {
      "text/html": [
       "<div>\n",
       "<style scoped>\n",
       "    .dataframe tbody tr th:only-of-type {\n",
       "        vertical-align: middle;\n",
       "    }\n",
       "\n",
       "    .dataframe tbody tr th {\n",
       "        vertical-align: top;\n",
       "    }\n",
       "\n",
       "    .dataframe thead th {\n",
       "        text-align: right;\n",
       "    }\n",
       "</style>\n",
       "<table border=\"1\" class=\"dataframe\">\n",
       "  <thead>\n",
       "    <tr style=\"text-align: right;\">\n",
       "      <th></th>\n",
       "      <th>Código de país</th>\n",
       "      <th>Nombre del país</th>\n",
       "      <th>Región</th>\n",
       "      <th>Año</th>\n",
       "      <th>CO2 (kt)</th>\n",
       "      <th>CO2 per cápita (toneladas métricas)</th>\n",
       "    </tr>\n",
       "  </thead>\n",
       "  <tbody>\n",
       "    <tr>\n",
       "      <th>26</th>\n",
       "      <td>ABW</td>\n",
       "      <td>Aruba</td>\n",
       "      <td>América Latina y Caribe</td>\n",
       "      <td>1986</td>\n",
       "      <td>179.683</td>\n",
       "      <td>2.868319</td>\n",
       "    </tr>\n",
       "    <tr>\n",
       "      <th>27</th>\n",
       "      <td>ABW</td>\n",
       "      <td>Aruba</td>\n",
       "      <td>América Latina y Caribe</td>\n",
       "      <td>1987</td>\n",
       "      <td>447.374</td>\n",
       "      <td>7.234964</td>\n",
       "    </tr>\n",
       "    <tr>\n",
       "      <th>28</th>\n",
       "      <td>ABW</td>\n",
       "      <td>Aruba</td>\n",
       "      <td>América Latina y Caribe</td>\n",
       "      <td>1988</td>\n",
       "      <td>612.389</td>\n",
       "      <td>10.026508</td>\n",
       "    </tr>\n",
       "    <tr>\n",
       "      <th>29</th>\n",
       "      <td>ABW</td>\n",
       "      <td>Aruba</td>\n",
       "      <td>América Latina y Caribe</td>\n",
       "      <td>1989</td>\n",
       "      <td>649.059</td>\n",
       "      <td>10.634733</td>\n",
       "    </tr>\n",
       "    <tr>\n",
       "      <th>30</th>\n",
       "      <td>ABW</td>\n",
       "      <td>Aruba</td>\n",
       "      <td>América Latina y Caribe</td>\n",
       "      <td>1990</td>\n",
       "      <td>1840.830</td>\n",
       "      <td>29.620165</td>\n",
       "    </tr>\n",
       "  </tbody>\n",
       "</table>\n",
       "</div>"
      ],
      "text/plain": [
       "   Código de país Nombre del país                   Región   Año  CO2 (kt)  \\\n",
       "26            ABW           Aruba  América Latina y Caribe  1986   179.683   \n",
       "27            ABW           Aruba  América Latina y Caribe  1987   447.374   \n",
       "28            ABW           Aruba  América Latina y Caribe  1988   612.389   \n",
       "29            ABW           Aruba  América Latina y Caribe  1989   649.059   \n",
       "30            ABW           Aruba  América Latina y Caribe  1990  1840.830   \n",
       "\n",
       "    CO2 per cápita (toneladas métricas)  \n",
       "26                             2.868319  \n",
       "27                             7.234964  \n",
       "28                            10.026508  \n",
       "29                            10.634733  \n",
       "30                            29.620165  "
      ]
     },
     "execution_count": 115,
     "metadata": {},
     "output_type": "execute_result"
    }
   ],
   "source": [
    "emisiones.head()"
   ]
  },
  {
   "cell_type": "markdown",
   "id": "fbd9fa4f",
   "metadata": {},
   "source": [
    "## Distribución de frecuencias"
   ]
  },
  {
   "cell_type": "markdown",
   "id": "a6cf4dde",
   "metadata": {},
   "source": [
    "### Ejemplo 1"
   ]
  },
  {
   "cell_type": "code",
   "execution_count": 116,
   "id": "18d079df",
   "metadata": {},
   "outputs": [],
   "source": [
    "# Datos de autos vendidos\n",
    "autos_vendidos = {\n",
    "    \"Marca\": ['Audi', 'BMW', 'Mercedes'],\n",
    "    \"Cantidad\": [124, 98, 113]\n",
    "}\n",
    "\n",
    "autos_df = pd.DataFrame(autos_vendidos)"
   ]
  },
  {
   "cell_type": "code",
   "execution_count": 118,
   "id": "79238f8c",
   "metadata": {},
   "outputs": [
    {
     "data": {
      "text/html": [
       "<div>\n",
       "<style scoped>\n",
       "    .dataframe tbody tr th:only-of-type {\n",
       "        vertical-align: middle;\n",
       "    }\n",
       "\n",
       "    .dataframe tbody tr th {\n",
       "        vertical-align: top;\n",
       "    }\n",
       "\n",
       "    .dataframe thead th {\n",
       "        text-align: right;\n",
       "    }\n",
       "</style>\n",
       "<table border=\"1\" class=\"dataframe\">\n",
       "  <thead>\n",
       "    <tr style=\"text-align: right;\">\n",
       "      <th></th>\n",
       "      <th>Marca</th>\n",
       "      <th>Cantidad</th>\n",
       "    </tr>\n",
       "  </thead>\n",
       "  <tbody>\n",
       "    <tr>\n",
       "      <th>0</th>\n",
       "      <td>Audi</td>\n",
       "      <td>124</td>\n",
       "    </tr>\n",
       "    <tr>\n",
       "      <th>1</th>\n",
       "      <td>BMW</td>\n",
       "      <td>98</td>\n",
       "    </tr>\n",
       "    <tr>\n",
       "      <th>2</th>\n",
       "      <td>Mercedes</td>\n",
       "      <td>113</td>\n",
       "    </tr>\n",
       "  </tbody>\n",
       "</table>\n",
       "</div>"
      ],
      "text/plain": [
       "      Marca  Cantidad\n",
       "0      Audi       124\n",
       "1       BMW        98\n",
       "2  Mercedes       113"
      ]
     },
     "execution_count": 118,
     "metadata": {},
     "output_type": "execute_result"
    }
   ],
   "source": [
    "autos_df"
   ]
  },
  {
   "cell_type": "code",
   "execution_count": 120,
   "id": "e12feb3d",
   "metadata": {},
   "outputs": [
    {
     "name": "stdout",
     "output_type": "stream",
     "text": [
      "335\n"
     ]
    }
   ],
   "source": [
    "total_vendidos = autos_df['Cantidad'].sum()\n",
    "\n",
    "print(total_vendidos)"
   ]
  },
  {
   "cell_type": "code",
   "execution_count": 129,
   "id": "da5dc537",
   "metadata": {},
   "outputs": [],
   "source": [
    "def frecuencia_relativa(datos:list):\n",
    "    total = sum(datos)\n",
    "    return datos / total"
   ]
  },
  {
   "cell_type": "code",
   "execution_count": 130,
   "id": "b79e25d8",
   "metadata": {},
   "outputs": [
    {
     "data": {
      "text/plain": [
       "0    0.370149\n",
       "1    0.292537\n",
       "2    0.337313\n",
       "Name: Cantidad, dtype: float64"
      ]
     },
     "execution_count": 130,
     "metadata": {},
     "output_type": "execute_result"
    }
   ],
   "source": [
    "frecuencia_relativa(autos_df['Cantidad'])"
   ]
  },
  {
   "cell_type": "code",
   "execution_count": 131,
   "id": "27471d58",
   "metadata": {},
   "outputs": [],
   "source": [
    "autos_df['Frecuencia relativa'] = frecuencia_relativa(autos_df['Cantidad'])"
   ]
  },
  {
   "cell_type": "code",
   "execution_count": 133,
   "id": "812889b7",
   "metadata": {},
   "outputs": [
    {
     "data": {
      "text/html": [
       "<div>\n",
       "<style scoped>\n",
       "    .dataframe tbody tr th:only-of-type {\n",
       "        vertical-align: middle;\n",
       "    }\n",
       "\n",
       "    .dataframe tbody tr th {\n",
       "        vertical-align: top;\n",
       "    }\n",
       "\n",
       "    .dataframe thead th {\n",
       "        text-align: right;\n",
       "    }\n",
       "</style>\n",
       "<table border=\"1\" class=\"dataframe\">\n",
       "  <thead>\n",
       "    <tr style=\"text-align: right;\">\n",
       "      <th></th>\n",
       "      <th>Marca</th>\n",
       "      <th>Cantidad</th>\n",
       "      <th>Frecuencia relativa</th>\n",
       "    </tr>\n",
       "  </thead>\n",
       "  <tbody>\n",
       "    <tr>\n",
       "      <th>0</th>\n",
       "      <td>Audi</td>\n",
       "      <td>124</td>\n",
       "      <td>0.370149</td>\n",
       "    </tr>\n",
       "    <tr>\n",
       "      <th>1</th>\n",
       "      <td>BMW</td>\n",
       "      <td>98</td>\n",
       "      <td>0.292537</td>\n",
       "    </tr>\n",
       "    <tr>\n",
       "      <th>2</th>\n",
       "      <td>Mercedes</td>\n",
       "      <td>113</td>\n",
       "      <td>0.337313</td>\n",
       "    </tr>\n",
       "  </tbody>\n",
       "</table>\n",
       "</div>"
      ],
      "text/plain": [
       "      Marca  Cantidad  Frecuencia relativa\n",
       "0      Audi       124             0.370149\n",
       "1       BMW        98             0.292537\n",
       "2  Mercedes       113             0.337313"
      ]
     },
     "execution_count": 133,
     "metadata": {},
     "output_type": "execute_result"
    }
   ],
   "source": [
    "autos_df"
   ]
  },
  {
   "cell_type": "code",
   "execution_count": 138,
   "id": "dfcf589c",
   "metadata": {},
   "outputs": [
    {
     "data": {
      "text/plain": [
       "Text(0.5, 1.0, 'Cantidad de autos vendidos por marca')"
      ]
     },
     "execution_count": 138,
     "metadata": {},
     "output_type": "execute_result"
    },
    {
     "data": {
      "image/png": "[encoded data removed]",
      "text/plain": [
       "<Figure size 640x480 with 1 Axes>"
      ]
     },
     "metadata": {},
     "output_type": "display_data"
    }
   ],
   "source": [
    "plt.bar(autos_df['Marca'], autos_df['Cantidad'])\n",
    "\n",
    "plt.xlabel('Marcas')\n",
    "plt.ylabel(' Cantidad')\n",
    "plt.title('Cantidad de autos vendidos por marca')"
   ]
  },
  {
   "cell_type": "code",
   "execution_count": null,
   "id": "0cbd19b0",
   "metadata": {},
   "outputs": [],
   "source": []
  },
  {
   "cell_type": "markdown",
   "id": "2ab92396",
   "metadata": {},
   "source": [
    "### Ejemplo 2"
   ]
  },
  {
   "cell_type": "code",
   "execution_count": 140,
   "id": "38ca97c6",
   "metadata": {},
   "outputs": [],
   "source": [
    "valores = ['M', 'R', 'B', 'MB', 'E']"
   ]
  },
  {
   "cell_type": "code",
   "execution_count": 145,
   "id": "319dc0bd",
   "metadata": {},
   "outputs": [],
   "source": [
    "calificaciones = [random.choice(valores) for i in range(75)]"
   ]
  },
  {
   "cell_type": "code",
   "execution_count": 150,
   "id": "5618ae21",
   "metadata": {},
   "outputs": [
    {
     "name": "stdout",
     "output_type": "stream",
     "text": [
      "[17, 13, 14, 15, 16]\n",
      "['M', 'R', 'B', 'MB', 'E']\n"
     ]
    }
   ],
   "source": [
    "conteo = [calificaciones.count(i) for i in valores]\n",
    "\n",
    "print(conteo)\n",
    "print(valores)"
   ]
  },
  {
   "cell_type": "code",
   "execution_count": 152,
   "id": "2a422a56",
   "metadata": {},
   "outputs": [],
   "source": [
    "conteo_dict = {\n",
    "    \"Calificación\": valores,\n",
    "    \"Cantidad\": conteo\n",
    "}"
   ]
  },
  {
   "cell_type": "code",
   "execution_count": 154,
   "id": "ddbb4661",
   "metadata": {},
   "outputs": [
    {
     "data": {
      "text/html": [
       "<div>\n",
       "<style scoped>\n",
       "    .dataframe tbody tr th:only-of-type {\n",
       "        vertical-align: middle;\n",
       "    }\n",
       "\n",
       "    .dataframe tbody tr th {\n",
       "        vertical-align: top;\n",
       "    }\n",
       "\n",
       "    .dataframe thead th {\n",
       "        text-align: right;\n",
       "    }\n",
       "</style>\n",
       "<table border=\"1\" class=\"dataframe\">\n",
       "  <thead>\n",
       "    <tr style=\"text-align: right;\">\n",
       "      <th></th>\n",
       "      <th>Calificación</th>\n",
       "      <th>Cantidad</th>\n",
       "    </tr>\n",
       "  </thead>\n",
       "  <tbody>\n",
       "    <tr>\n",
       "      <th>0</th>\n",
       "      <td>M</td>\n",
       "      <td>17</td>\n",
       "    </tr>\n",
       "    <tr>\n",
       "      <th>1</th>\n",
       "      <td>R</td>\n",
       "      <td>13</td>\n",
       "    </tr>\n",
       "    <tr>\n",
       "      <th>2</th>\n",
       "      <td>B</td>\n",
       "      <td>14</td>\n",
       "    </tr>\n",
       "    <tr>\n",
       "      <th>3</th>\n",
       "      <td>MB</td>\n",
       "      <td>15</td>\n",
       "    </tr>\n",
       "    <tr>\n",
       "      <th>4</th>\n",
       "      <td>E</td>\n",
       "      <td>16</td>\n",
       "    </tr>\n",
       "  </tbody>\n",
       "</table>\n",
       "</div>"
      ],
      "text/plain": [
       "  Calificación  Cantidad\n",
       "0            M        17\n",
       "1            R        13\n",
       "2            B        14\n",
       "3           MB        15\n",
       "4            E        16"
      ]
     },
     "execution_count": 154,
     "metadata": {},
     "output_type": "execute_result"
    }
   ],
   "source": [
    "conteo_df = pd.DataFrame(conteo_dict)\n",
    "conteo_df"
   ]
  },
  {
   "cell_type": "code",
   "execution_count": 157,
   "id": "84fa6214",
   "metadata": {},
   "outputs": [],
   "source": [
    "def frecuencia_abs_acumulada(datos):\n",
    "    return datos.cumsum()"
   ]
  },
  {
   "cell_type": "code",
   "execution_count": 158,
   "id": "890c1a90",
   "metadata": {},
   "outputs": [
    {
     "data": {
      "text/plain": [
       "0    17\n",
       "1    30\n",
       "2    44\n",
       "3    59\n",
       "4    75\n",
       "Name: Cantidad, dtype: int64"
      ]
     },
     "execution_count": 158,
     "metadata": {},
     "output_type": "execute_result"
    }
   ],
   "source": [
    "frecuencia_abs_acumulada(conteo_df['Cantidad'])"
   ]
  },
  {
   "cell_type": "code",
   "execution_count": 160,
   "id": "e20fb069",
   "metadata": {},
   "outputs": [
    {
     "data": {
      "text/plain": [
       "0    0.226667\n",
       "1    0.173333\n",
       "2    0.186667\n",
       "3    0.200000\n",
       "4    0.213333\n",
       "Name: Cantidad, dtype: float64"
      ]
     },
     "execution_count": 160,
     "metadata": {},
     "output_type": "execute_result"
    }
   ],
   "source": [
    "frecuencia_relativa(conteo_df['Cantidad'])"
   ]
  },
  {
   "cell_type": "code",
   "execution_count": 161,
   "id": "4397d67c",
   "metadata": {},
   "outputs": [],
   "source": [
    "def frecuencia_relativa_acumulada(datos):\n",
    "    return"
   ]
  },
  {
   "cell_type": "code",
   "execution_count": null,
   "id": "3a158534",
   "metadata": {},
   "outputs": [],
   "source": []
  },
  {
   "cell_type": "markdown",
   "id": "596b3f33",
   "metadata": {},
   "source": [
    "## Histograma"
   ]
  },
  {
   "cell_type": "code",
   "execution_count": 162,
   "id": "2c53b642",
   "metadata": {},
   "outputs": [],
   "source": [
    "data = [1, 2, 2, 3, 5, 6, 7, 8, 8, 9, 9]"
   ]
  },
  {
   "cell_type": "code",
   "execution_count": 163,
   "id": "7fbd2df4",
   "metadata": {},
   "outputs": [
    {
     "name": "stdout",
     "output_type": "stream",
     "text": [
      "[3 1 1 2 4] [1.  2.6 4.2 5.8 7.4 9. ]\n"
     ]
    }
   ],
   "source": [
    "frecuencias, extremos = np.histogram(data, bins=5)\n",
    "print(frecuencias, extremos)"
   ]
  },
  {
   "cell_type": "code",
   "execution_count": 168,
   "id": "8aaeb632",
   "metadata": {},
   "outputs": [
    {
     "data": {
      "text/plain": [
       "(array([3., 1., 1., 2., 4.]),\n",
       " array([1. , 2.6, 4.2, 5.8, 7.4, 9. ]),\n",
       " <BarContainer object of 5 artists>)"
      ]
     },
     "execution_count": 168,
     "metadata": {},
     "output_type": "execute_result"
    },
    {
     "data": {
      "image/png": "[encoded data removed]",
      "text/plain": [
       "<Figure size 640x480 with 1 Axes>"
      ]
     },
     "metadata": {},
     "output_type": "display_data"
    }
   ],
   "source": [
    "plt.hist(x=data, bins=5, rwidth=0.85)"
   ]
  },
  {
   "cell_type": "code",
   "execution_count": 108,
   "id": "385fdb2b",
   "metadata": {},
   "outputs": [],
   "source": [
    "# Calificaciones de 15 alumnos de un curso\n",
    "calificaciones_alumnos = [90, 94, 53, 68, 79, 84, 87, 72, 70, 69, 65, 89, 85, 83, 72]"
   ]
  },
  {
   "cell_type": "markdown",
   "id": "c8e5ba09",
   "metadata": {},
   "source": [
    "## Medidas de tendencia central"
   ]
  },
  {
   "cell_type": "markdown",
   "id": "40e66b9d",
   "metadata": {},
   "source": [
    "### Media aritmética"
   ]
  },
  {
   "cell_type": "markdown",
   "id": "fd7e1d69",
   "metadata": {},
   "source": [
    "**Media aritmética de la población**\n",
    "\n",
    "$$\\mu = \\sum_{i} \\frac{x_{i}}{N}$$"
   ]
  },
  {
   "cell_type": "markdown",
   "id": "afd6cc31",
   "metadata": {},
   "source": [
    "**Media aritmética de la muestra**\n",
    "\n",
    "$$\\bar{x} = \\sum_{i} \\frac{x_{i}}{n}$$"
   ]
  },
  {
   "cell_type": "code",
   "execution_count": 169,
   "id": "b1e44ef8",
   "metadata": {},
   "outputs": [],
   "source": [
    "def media(datos):\n",
    "    return sum(datos) / len(datos)"
   ]
  },
  {
   "cell_type": "code",
   "execution_count": 171,
   "id": "43e83319",
   "metadata": {},
   "outputs": [
    {
     "data": {
      "text/plain": [
       "77.33333333333333"
      ]
     },
     "execution_count": 171,
     "metadata": {},
     "output_type": "execute_result"
    }
   ],
   "source": [
    "media(calificaciones_alumnos)"
   ]
  },
  {
   "cell_type": "code",
   "execution_count": 174,
   "id": "641b6831",
   "metadata": {},
   "outputs": [
    {
     "data": {
      "text/plain": [
       "77.33333333333333"
      ]
     },
     "execution_count": 174,
     "metadata": {},
     "output_type": "execute_result"
    }
   ],
   "source": [
    "np.mean(calificaciones_alumnos)"
   ]
  },
  {
   "cell_type": "code",
   "execution_count": 176,
   "id": "6dd8d91c",
   "metadata": {},
   "outputs": [
    {
     "data": {
      "text/html": [
       "<div>\n",
       "<style scoped>\n",
       "    .dataframe tbody tr th:only-of-type {\n",
       "        vertical-align: middle;\n",
       "    }\n",
       "\n",
       "    .dataframe tbody tr th {\n",
       "        vertical-align: top;\n",
       "    }\n",
       "\n",
       "    .dataframe thead th {\n",
       "        text-align: right;\n",
       "    }\n",
       "</style>\n",
       "<table border=\"1\" class=\"dataframe\">\n",
       "  <thead>\n",
       "    <tr style=\"text-align: right;\">\n",
       "      <th></th>\n",
       "      <th>Código de país</th>\n",
       "      <th>Nombre del país</th>\n",
       "      <th>Región</th>\n",
       "      <th>Año</th>\n",
       "      <th>CO2 (kt)</th>\n",
       "      <th>CO2 per cápita (toneladas métricas)</th>\n",
       "    </tr>\n",
       "  </thead>\n",
       "  <tbody>\n",
       "    <tr>\n",
       "      <th>26</th>\n",
       "      <td>ABW</td>\n",
       "      <td>Aruba</td>\n",
       "      <td>América Latina y Caribe</td>\n",
       "      <td>1986</td>\n",
       "      <td>179.683</td>\n",
       "      <td>2.868319</td>\n",
       "    </tr>\n",
       "    <tr>\n",
       "      <th>27</th>\n",
       "      <td>ABW</td>\n",
       "      <td>Aruba</td>\n",
       "      <td>América Latina y Caribe</td>\n",
       "      <td>1987</td>\n",
       "      <td>447.374</td>\n",
       "      <td>7.234964</td>\n",
       "    </tr>\n",
       "    <tr>\n",
       "      <th>28</th>\n",
       "      <td>ABW</td>\n",
       "      <td>Aruba</td>\n",
       "      <td>América Latina y Caribe</td>\n",
       "      <td>1988</td>\n",
       "      <td>612.389</td>\n",
       "      <td>10.026508</td>\n",
       "    </tr>\n",
       "    <tr>\n",
       "      <th>29</th>\n",
       "      <td>ABW</td>\n",
       "      <td>Aruba</td>\n",
       "      <td>América Latina y Caribe</td>\n",
       "      <td>1989</td>\n",
       "      <td>649.059</td>\n",
       "      <td>10.634733</td>\n",
       "    </tr>\n",
       "    <tr>\n",
       "      <th>30</th>\n",
       "      <td>ABW</td>\n",
       "      <td>Aruba</td>\n",
       "      <td>América Latina y Caribe</td>\n",
       "      <td>1990</td>\n",
       "      <td>1840.830</td>\n",
       "      <td>29.620165</td>\n",
       "    </tr>\n",
       "  </tbody>\n",
       "</table>\n",
       "</div>"
      ],
      "text/plain": [
       "   Código de país Nombre del país                   Región   Año  CO2 (kt)  \\\n",
       "26            ABW           Aruba  América Latina y Caribe  1986   179.683   \n",
       "27            ABW           Aruba  América Latina y Caribe  1987   447.374   \n",
       "28            ABW           Aruba  América Latina y Caribe  1988   612.389   \n",
       "29            ABW           Aruba  América Latina y Caribe  1989   649.059   \n",
       "30            ABW           Aruba  América Latina y Caribe  1990  1840.830   \n",
       "\n",
       "    CO2 per cápita (toneladas métricas)  \n",
       "26                             2.868319  \n",
       "27                             7.234964  \n",
       "28                            10.026508  \n",
       "29                            10.634733  \n",
       "30                            29.620165  "
      ]
     },
     "execution_count": 176,
     "metadata": {},
     "output_type": "execute_result"
    }
   ],
   "source": [
    "emisiones.head()"
   ]
  },
  {
   "cell_type": "code",
   "execution_count": 178,
   "id": "d47afb98",
   "metadata": {},
   "outputs": [
    {
     "data": {
      "text/plain": [
       "4.3408217041042105"
      ]
     },
     "execution_count": 178,
     "metadata": {},
     "output_type": "execute_result"
    }
   ],
   "source": [
    "media(emisiones['CO2 per cápita (toneladas métricas)'])"
   ]
  },
  {
   "cell_type": "code",
   "execution_count": 180,
   "id": "a8948bac",
   "metadata": {},
   "outputs": [
    {
     "data": {
      "text/plain": [
       "4.3408217041042105"
      ]
     },
     "execution_count": 180,
     "metadata": {},
     "output_type": "execute_result"
    }
   ],
   "source": [
    "np.mean(emisiones['CO2 per cápita (toneladas métricas)'])"
   ]
  },
  {
   "cell_type": "code",
   "execution_count": null,
   "id": "2f1e11aa",
   "metadata": {},
   "outputs": [],
   "source": []
  },
  {
   "cell_type": "markdown",
   "id": "3b87d661",
   "metadata": {},
   "source": [
    "### Promedio ponderado\n",
    "\n",
    "$$\\bar{x}_w = \\frac{\\sum_{i=1}^{n} w_{i}x_{i}}{\\sum_{i=1}^{n} w_{i}}$$"
   ]
  },
  {
   "cell_type": "code",
   "execution_count": 181,
   "id": "9b569a88",
   "metadata": {},
   "outputs": [],
   "source": [
    "emisiones_2 = pd.read_csv('datos_y_pesos.csv')"
   ]
  },
  {
   "cell_type": "code",
   "execution_count": 185,
   "id": "538f5d5a",
   "metadata": {},
   "outputs": [
    {
     "data": {
      "text/html": [
       "<div>\n",
       "<style scoped>\n",
       "    .dataframe tbody tr th:only-of-type {\n",
       "        vertical-align: middle;\n",
       "    }\n",
       "\n",
       "    .dataframe tbody tr th {\n",
       "        vertical-align: top;\n",
       "    }\n",
       "\n",
       "    .dataframe thead th {\n",
       "        text-align: right;\n",
       "    }\n",
       "</style>\n",
       "<table border=\"1\" class=\"dataframe\">\n",
       "  <thead>\n",
       "    <tr style=\"text-align: right;\">\n",
       "      <th></th>\n",
       "      <th>Unnamed: 0</th>\n",
       "      <th>CO2 per cápita (toneladas métricas)</th>\n",
       "      <th>intervalos</th>\n",
       "      <th>frecuencias</th>\n",
       "    </tr>\n",
       "  </thead>\n",
       "  <tbody>\n",
       "    <tr>\n",
       "      <th>0</th>\n",
       "      <td>26</td>\n",
       "      <td>2.868319</td>\n",
       "      <td>(-0.00042, 19.969]</td>\n",
       "      <td>8744.0</td>\n",
       "    </tr>\n",
       "    <tr>\n",
       "      <th>1</th>\n",
       "      <td>27</td>\n",
       "      <td>7.234964</td>\n",
       "      <td>(-0.00042, 19.969]</td>\n",
       "      <td>8744.0</td>\n",
       "    </tr>\n",
       "    <tr>\n",
       "      <th>2</th>\n",
       "      <td>28</td>\n",
       "      <td>10.026508</td>\n",
       "      <td>(-0.00042, 19.969]</td>\n",
       "      <td>8744.0</td>\n",
       "    </tr>\n",
       "    <tr>\n",
       "      <th>3</th>\n",
       "      <td>29</td>\n",
       "      <td>10.634733</td>\n",
       "      <td>(-0.00042, 19.969]</td>\n",
       "      <td>8744.0</td>\n",
       "    </tr>\n",
       "    <tr>\n",
       "      <th>4</th>\n",
       "      <td>30</td>\n",
       "      <td>29.620165</td>\n",
       "      <td>(19.969, 39.937]</td>\n",
       "      <td>216.0</td>\n",
       "    </tr>\n",
       "  </tbody>\n",
       "</table>\n",
       "</div>"
      ],
      "text/plain": [
       "   Unnamed: 0  CO2 per cápita (toneladas métricas)          intervalos  \\\n",
       "0          26                             2.868319  (-0.00042, 19.969]   \n",
       "1          27                             7.234964  (-0.00042, 19.969]   \n",
       "2          28                            10.026508  (-0.00042, 19.969]   \n",
       "3          29                            10.634733  (-0.00042, 19.969]   \n",
       "4          30                            29.620165    (19.969, 39.937]   \n",
       "\n",
       "   frecuencias  \n",
       "0       8744.0  \n",
       "1       8744.0  \n",
       "2       8744.0  \n",
       "3       8744.0  \n",
       "4        216.0  "
      ]
     },
     "execution_count": 185,
     "metadata": {},
     "output_type": "execute_result"
    }
   ],
   "source": [
    "emisiones_2.head()"
   ]
  },
  {
   "cell_type": "code",
   "execution_count": 186,
   "id": "d6a75525",
   "metadata": {},
   "outputs": [
    {
     "data": {
      "text/plain": [
       "array([8.744e+03, 2.160e+02, 7.000e+00, 2.600e+01, 3.600e+01])"
      ]
     },
     "execution_count": 186,
     "metadata": {},
     "output_type": "execute_result"
    }
   ],
   "source": [
    "emisiones_2['frecuencias'].unique()"
   ]
  },
  {
   "cell_type": "code",
   "execution_count": 187,
   "id": "eb338e2a",
   "metadata": {},
   "outputs": [],
   "source": [
    "def promedio_ponderado(datos, pesos):\n",
    "    numerador = sum([datos[i] * pesos[i] for i in range(len(datos))])\n",
    "    denominador = sum(pesos)\n",
    "    \n",
    "    return numerador / denominador"
   ]
  },
  {
   "cell_type": "code",
   "execution_count": 189,
   "id": "e41f599a",
   "metadata": {},
   "outputs": [],
   "source": [
    "datos = emisiones_2['CO2 per cápita (toneladas métricas)'].to_list()\n",
    "pesos = emisiones_2['frecuencias'].to_list()"
   ]
  },
  {
   "cell_type": "code",
   "execution_count": 191,
   "id": "e75dc881",
   "metadata": {},
   "outputs": [
    {
     "data": {
      "text/plain": [
       "3.3347795067768233"
      ]
     },
     "execution_count": 191,
     "metadata": {},
     "output_type": "execute_result"
    }
   ],
   "source": [
    "promedio_ponderado(datos, pesos)"
   ]
  },
  {
   "cell_type": "markdown",
   "id": "c56ed859",
   "metadata": {},
   "source": [
    "### Media geométrica\n",
    "\n",
    "$$MG = (\\prod_{i=1}^{n} x_{i})^{\\frac{1}{n}} = \\sqrt[n]{x_{1}x_{2}...x_{n}}$$"
   ]
  },
  {
   "cell_type": "code",
   "execution_count": 192,
   "id": "15ed485a",
   "metadata": {},
   "outputs": [],
   "source": [
    "def media_geométrica(datos):\n",
    "    return"
   ]
  },
  {
   "cell_type": "markdown",
   "id": "c36f5cda",
   "metadata": {},
   "source": [
    "## La Mediana\n",
    "\n",
    "$$\n",
    " mediana = \n",
    "  \\begin{cases} \n",
    "   \\frac{x_{[n+1]}}{2} & \\text{si } n \\text{ es impar}\\\\\n",
    "   \\frac{x_{[x/2]} + x_{[x/2] + 1}}{2}       & \\text{si } n \\text{ es par}\n",
    "  \\end{cases}\n",
    "$$"
   ]
  },
  {
   "cell_type": "code",
   "execution_count": 193,
   "id": "1fb540da",
   "metadata": {},
   "outputs": [],
   "source": [
    "data_1 = [1, 2, 2, 3, 5, 6, 7, 8, 8, 9, 9] # cantidad impar de datos\n",
    "\n",
    "\n",
    "data_2 = [1, 2, 2, 3, 5, 6, 7, 8, 8, 9] # cantidad par de datos"
   ]
  },
  {
   "cell_type": "code",
   "execution_count": 194,
   "id": "a86c2098",
   "metadata": {},
   "outputs": [
    {
     "data": {
      "text/plain": [
       "6.0"
      ]
     },
     "execution_count": 194,
     "metadata": {},
     "output_type": "execute_result"
    }
   ],
   "source": [
    "np.median(data_1)"
   ]
  },
  {
   "cell_type": "code",
   "execution_count": 197,
   "id": "bc095a6b",
   "metadata": {},
   "outputs": [
    {
     "data": {
      "text/plain": [
       "5.5"
      ]
     },
     "execution_count": 197,
     "metadata": {},
     "output_type": "execute_result"
    }
   ],
   "source": [
    "np.median(data_2)"
   ]
  },
  {
   "cell_type": "code",
   "execution_count": 199,
   "id": "5fca1e07",
   "metadata": {},
   "outputs": [],
   "source": [
    "def mediana(datos):\n",
    "    datos_ordenados = sorted(datos)\n",
    "    if len(datos_ordenados) % 2 == 1:\n",
    "        return (len(datos_ordenados) + 1)/2\n",
    "    else:\n",
    "        posicion = len(datos_ordenados)/2\n",
    "        return (datos_ordenados[int(posicion)-1] + datos_ordenados[int(posicion)])/2"
   ]
  },
  {
   "cell_type": "code",
   "execution_count": 201,
   "id": "a051b665",
   "metadata": {},
   "outputs": [
    {
     "data": {
      "text/plain": [
       "6.0"
      ]
     },
     "execution_count": 201,
     "metadata": {},
     "output_type": "execute_result"
    }
   ],
   "source": [
    "mediana(data_1)"
   ]
  },
  {
   "cell_type": "code",
   "execution_count": 202,
   "id": "f4a357f1",
   "metadata": {},
   "outputs": [
    {
     "data": {
      "text/plain": [
       "5.5"
      ]
     },
     "execution_count": 202,
     "metadata": {},
     "output_type": "execute_result"
    }
   ],
   "source": [
    "mediana(data_2)"
   ]
  },
  {
   "cell_type": "code",
   "execution_count": null,
   "id": "3993abb2",
   "metadata": {},
   "outputs": [],
   "source": []
  },
  {
   "cell_type": "markdown",
   "id": "51b4ef7b",
   "metadata": {},
   "source": [
    "## La Moda"
   ]
  },
  {
   "cell_type": "code",
   "execution_count": 214,
   "id": "8ec69210",
   "metadata": {},
   "outputs": [
    {
     "name": "stdout",
     "output_type": "stream",
     "text": [
      "[1, 2, 2, 3, 5, 6, 7, 8, 8, 9]\n",
      "[1, 2, 2, 1, 1, 1, 1, 2, 2, 1, 1]\n"
     ]
    }
   ],
   "source": [
    "conteo_datos = [data_2.count(i) for i in data_1]\n",
    "\n",
    "print(data_2)\n",
    "print(conteo_datos)"
   ]
  },
  {
   "cell_type": "code",
   "execution_count": 215,
   "id": "6a300466",
   "metadata": {},
   "outputs": [
    {
     "name": "stdout",
     "output_type": "stream",
     "text": [
      "2\n"
     ]
    }
   ],
   "source": [
    "maximo = max(conteo_datos)\n",
    "\n",
    "print(maximo)"
   ]
  },
  {
   "cell_type": "code",
   "execution_count": 216,
   "id": "1358917d",
   "metadata": {},
   "outputs": [
    {
     "data": {
      "text/plain": [
       "{2, 8}"
      ]
     },
     "execution_count": 216,
     "metadata": {},
     "output_type": "execute_result"
    }
   ],
   "source": [
    "set([i for i in data_2 if (data_2.count(i) == maximo)])"
   ]
  },
  {
   "cell_type": "code",
   "execution_count": 218,
   "id": "2b195781",
   "metadata": {},
   "outputs": [
    {
     "data": {
      "text/plain": [
       "ModeResult(mode=array([2]), count=array([2]))"
      ]
     },
     "execution_count": 218,
     "metadata": {},
     "output_type": "execute_result"
    }
   ],
   "source": [
    "stats.mode(data_1, keepdims=1)"
   ]
  },
  {
   "cell_type": "markdown",
   "id": "98b06fc8",
   "metadata": {},
   "source": [
    "## La dispersión"
   ]
  },
  {
   "cell_type": "markdown",
   "id": "0ed81b7c",
   "metadata": {},
   "source": [
    "### El Rango"
   ]
  },
  {
   "cell_type": "code",
   "execution_count": 219,
   "id": "96680fd6",
   "metadata": {},
   "outputs": [
    {
     "data": {
      "text/plain": [
       "1"
      ]
     },
     "execution_count": 219,
     "metadata": {},
     "output_type": "execute_result"
    }
   ],
   "source": [
    "min(data_1)"
   ]
  },
  {
   "cell_type": "code",
   "execution_count": 220,
   "id": "02b12fc1",
   "metadata": {},
   "outputs": [
    {
     "data": {
      "text/plain": [
       "9"
      ]
     },
     "execution_count": 220,
     "metadata": {},
     "output_type": "execute_result"
    }
   ],
   "source": [
    "max(data_1)"
   ]
  },
  {
   "cell_type": "code",
   "execution_count": 222,
   "id": "7a8844b9",
   "metadata": {},
   "outputs": [
    {
     "name": "stdout",
     "output_type": "stream",
     "text": [
      "8\n"
     ]
    }
   ],
   "source": [
    "rango = max(data_1) - min(data_1)\n",
    "\n",
    "print(rango)"
   ]
  },
  {
   "cell_type": "code",
   "execution_count": null,
   "id": "49658a65",
   "metadata": {},
   "outputs": [],
   "source": []
  },
  {
   "cell_type": "code",
   "execution_count": null,
   "id": "635a8fcb",
   "metadata": {},
   "outputs": [],
   "source": []
  },
  {
   "cell_type": "markdown",
   "id": "9d02bd8d",
   "metadata": {},
   "source": [
    "### La Varianza\n",
    "\n",
    "$$\\sigma^2 = \\frac{1}{N} \\sum_{i=1}^{N} (x_{i} - \\mu)^2 $$"
   ]
  },
  {
   "cell_type": "code",
   "execution_count": 223,
   "id": "450d5d34",
   "metadata": {},
   "outputs": [
    {
     "data": {
      "text/plain": [
       "[1, 2, 2, 3, 5, 6, 7, 8, 8, 9, 9]"
      ]
     },
     "execution_count": 223,
     "metadata": {},
     "output_type": "execute_result"
    }
   ],
   "source": [
    "data_1 # N = 11"
   ]
  },
  {
   "cell_type": "code",
   "execution_count": 232,
   "id": "57ae440d",
   "metadata": {},
   "outputs": [
    {
     "data": {
      "text/plain": [
       "8.247933884297522"
      ]
     },
     "execution_count": 232,
     "metadata": {},
     "output_type": "execute_result"
    }
   ],
   "source": [
    "def varianza(datos):\n",
    "    media = np.mean(datos)\n",
    "    diferencias = [(i - media)**2 for i in datos]\n",
    "    suma = sum(diferencias)\n",
    "    return suma/len(datos)\n",
    "\n",
    "varianza(data_1)"
   ]
  },
  {
   "cell_type": "markdown",
   "id": "b2c6d7cf",
   "metadata": {},
   "source": [
    "### La Desviación Estándar\n",
    "\n",
    "$$\\sigma = \\sqrt{\\sigma^2} = \\sqrt{ \\frac{1}{N} \\sum_{i=1}^{N} (x_{i} - \\mu)^2 }$$"
   ]
  },
  {
   "cell_type": "code",
   "execution_count": 234,
   "id": "06e8fab6",
   "metadata": {},
   "outputs": [
    {
     "data": {
      "text/plain": [
       "2.87192163616933"
      ]
     },
     "execution_count": 234,
     "metadata": {},
     "output_type": "execute_result"
    }
   ],
   "source": [
    "np.std(data_1)"
   ]
  },
  {
   "cell_type": "code",
   "execution_count": 235,
   "id": "99ca6f5c",
   "metadata": {},
   "outputs": [],
   "source": [
    "def desviacion_estandar(datos):\n",
    "    var = varianza(datos)\n",
    "    return np.sqrt(var)"
   ]
  },
  {
   "cell_type": "code",
   "execution_count": 236,
   "id": "e655fc15",
   "metadata": {},
   "outputs": [
    {
     "data": {
      "text/plain": [
       "2.87192163616933"
      ]
     },
     "execution_count": 236,
     "metadata": {},
     "output_type": "execute_result"
    }
   ],
   "source": [
    "desviacion_estandar(data_1)"
   ]
  },
  {
   "cell_type": "markdown",
   "id": "00763904",
   "metadata": {},
   "source": [
    "### Coeficiente de variación\n",
    "\n",
    "$$CV = \\frac{\\sigma}{\\mu} \\times 100$$"
   ]
  },
  {
   "cell_type": "code",
   "execution_count": 238,
   "id": "e1c889ad",
   "metadata": {},
   "outputs": [
    {
     "data": {
      "text/plain": [
       "0.5265189666310439"
      ]
     },
     "execution_count": 238,
     "metadata": {},
     "output_type": "execute_result"
    }
   ],
   "source": [
    "np.std(data_1) / np.mean(data_1)"
   ]
  },
  {
   "cell_type": "code",
   "execution_count": null,
   "id": "f29c085c",
   "metadata": {},
   "outputs": [],
   "source": []
  }
 ],
 "metadata": {
  "kernelspec": {
   "display_name": "Python 3 (ipykernel)",
   "language": "python",
   "name": "python3"
  },
  "language_info": {
   "codemirror_mode": {
    "name": "ipython",
    "version": 3
   },
   "file_extension": ".py",
   "mimetype": "text/x-python",
   "name": "python",
   "nbconvert_exporter": "python",
   "pygments_lexer": "ipython3",
   "version": "3.9.13"
  }
 },
 "nbformat": 4,
 "nbformat_minor": 5
}
