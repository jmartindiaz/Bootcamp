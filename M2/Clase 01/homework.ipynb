{
 "cells": [
  {
   "attachments": {},
   "cell_type": "markdown",
   "id": "de119747",
   "metadata": {},
   "source": [
    "# Homework\n",
    "\n",
    "Considere el siguiente areglo que contiene la altura de un grupo de estudiantes de Henry:\n",
    "\n",
    "```python\n",
    "muestra = np.array( [[1.85, 1.8, 1.8 , 1.8],\n",
    "                    [1.73,  1.7, 1.75, 1.76],\n",
    "                    [ 1.65, 1.69,  1.67 ,  1.6],\n",
    "                    [1.54,  1.57, 1.58, 1.59],\n",
    "                    [ 1.4 , 1.42,  1.45, 1.48]]) \n",
    "```\n",
    "\n",
    "1) Calcule\n",
    "\n",
    "- Media.\n",
    "- Mediana.\n",
    "- Moda\n",
    "- Varianza\n",
    "- Desvío estándar.\n",
    "\n",
    "2) Convierta el arreglo en una lista y realice un Histograma de 5 intervalos. ¿Tiene distribución normal?.\n",
    "\n",
    "3) Con los siguientes datos construye un df y un array que permitan describir adecuadamente la muestra.\n",
    "    'Ingreso en miles' : 10.5 6.8 20.7 18.2 8.6 25.8 22.2 5.9 7.6 11.8\n",
    "    'Años de estudio': 17 18 21 16 16 21 16 14 18 18\n",
    "\n",
    "4) Utilizando pandas describa el dataframe.\n",
    "\n",
    "5) Realice un histograma para de 6 secciones para 'Ingreso en miles' y 'Años de estudio'.\n",
    "\n",
    "6) Calcula la media de 'Ingreso en miles' (df) utilizando pandas.\n",
    "\n",
    "7) Calcula la media de 'Ingreso en miles' (array) utilizando numpy.\n",
    "\n",
    "8) Agregue los siguientes valores extremos al df \\[ 50, 35 \\], \\[ 120, 30 \\]. ¿En cuanto vario la media?, ¿Qué conclusiones obtiene de este resultado sobre la media?."
   ]
  },
  {
   "cell_type": "code",
   "execution_count": 2,
   "id": "d2af2ebf",
   "metadata": {},
   "outputs": [],
   "source": [
    "import pandas as pd\n",
    "import numpy as np\n",
    "import matplotlib.pyplot as plt\n",
    "from scipy import stats # importando scipy.stats"
   ]
  },
  {
   "cell_type": "code",
   "execution_count": 3,
   "id": "7368892d",
   "metadata": {},
   "outputs": [],
   "source": [
    "muestra = np.array( [[1.85, 1.8, 1.8 , 1.8],\n",
    "                    [1.73,  1.7, 1.75, 1.76],\n",
    "                    [ 1.65, 1.69,  1.67 ,  1.6],\n",
    "                    [1.54,  1.57, 1.58, 1.59],\n",
    "                    [ 1.4 , 1.42,  1.45, 1.48]]) "
   ]
  },
  {
   "attachments": {},
   "cell_type": "markdown",
   "id": "bf24a9ad",
   "metadata": {},
   "source": [
    "1) Calcule\n",
    "\n",
    "- Media.\n",
    "- Mediana.\n",
    "- Moda\n",
    "- Varianza\n",
    "- Desvío estándar."
   ]
  },
  {
   "cell_type": "code",
   "execution_count": 9,
   "id": "1c4fa002",
   "metadata": {},
   "outputs": [
    {
     "data": {
      "text/plain": [
       "array([1, 2, 3])"
      ]
     },
     "execution_count": 9,
     "metadata": {},
     "output_type": "execute_result"
    }
   ],
   "source": [
    "prueba = np.array([[1,2,3]])\n",
    "prueba.sum()\n",
    "sum(prueba)\n"
   ]
  },
  {
   "cell_type": "code",
   "execution_count": 4,
   "id": "0c3f381f",
   "metadata": {},
   "outputs": [],
   "source": [
    "### MEDIA ARITMETICA ###\n",
    "\n",
    "def media_aritmetica(lista):\n",
    "    if (lista.ndim > 1):\n",
    "        lista = lista.flatten()\n",
    "        total = sum(lista)\n",
    "        return total/len(lista)\n",
    "    else:\n",
    "        total = sum(lista)\n",
    "        return total/len(lista)"
   ]
  },
  {
   "cell_type": "code",
   "execution_count": 5,
   "id": "a7d47675",
   "metadata": {},
   "outputs": [
    {
     "name": "stdout",
     "output_type": "stream",
     "text": [
      "1.6415\n",
      "1.6415\n"
     ]
    }
   ],
   "source": [
    "print(media_aritmetica(muestra))\n",
    "print(np.mean(muestra))"
   ]
  },
  {
   "cell_type": "code",
   "execution_count": 6,
   "id": "014f6ffe",
   "metadata": {},
   "outputs": [],
   "source": [
    "### MEDIA GEOMETRICA ###\n",
    "\n",
    "def media_geometrica(lista):\n",
    "    radicando = 1\n",
    "    if (lista.ndim > 1):\n",
    "        lista = lista.flatten()\n",
    "        for i in range(len(lista)):\n",
    "            radicando *= lista[i] \n",
    "        return radicando ** (1/len(lista))\n",
    "    else:\n",
    "        for i in range(len(lista)):\n",
    "            radicando *= lista[i] \n",
    "        return radicando ** (1/len(lista))"
   ]
  },
  {
   "cell_type": "code",
   "execution_count": 7,
   "id": "0640a2bd",
   "metadata": {},
   "outputs": [
    {
     "name": "stdout",
     "output_type": "stream",
     "text": [
      "1.6360182292940844\n"
     ]
    }
   ],
   "source": [
    "print(media_geometrica(muestra))"
   ]
  },
  {
   "cell_type": "code",
   "execution_count": 8,
   "id": "4a7fbaac",
   "metadata": {},
   "outputs": [],
   "source": [
    "### MEDIANA ###\n",
    "\n",
    "def mediana(lista):\n",
    "    lista = lista.flatten() # aplano el array\n",
    "    lista = np.sort(lista)\n",
    "    n = len(lista)\n",
    "    if (n % 2 == 1): # cant de datos IMPAR\n",
    "        posicion = (n+1)/2\n",
    "        return lista[posicion]\n",
    "    else:\n",
    "        posicion1 = (n // 2) - 1    # recordemos que las listas arrancan desde 0, por eso hay que restarle una unidad\n",
    "        posicion2 = posicion1 + 1\n",
    "    return (lista[posicion1] + lista[posicion2]) / 2"
   ]
  },
  {
   "cell_type": "code",
   "execution_count": 9,
   "id": "8120a710",
   "metadata": {},
   "outputs": [
    {
     "name": "stdout",
     "output_type": "stream",
     "text": [
      "1.66\n",
      "1.66\n"
     ]
    }
   ],
   "source": [
    "print(mediana(muestra))\n",
    "print(np.median(muestra))\n"
   ]
  },
  {
   "cell_type": "code",
   "execution_count": 10,
   "id": "4aebb0f8",
   "metadata": {},
   "outputs": [],
   "source": [
    "### MODA ###\n",
    "\n",
    "def moda(arr):\n",
    "    \n",
    "    # debemos buscar el/los valores que mas se repiten\n",
    "    lista = list(arr.flatten())\n",
    "\n",
    "    unicos = list(set(lista))\n",
    "    max ,  moda = 0 , 0\n",
    "\n",
    "    for indice, num in enumerate(unicos):\n",
    "        conteo = lista.count(num)\n",
    "        if (conteo > max):\n",
    "            max = conteo\n",
    "            moda = unicos[indice]\n",
    "    return moda\n",
    "\n",
    "def obtenerModa(arreglo):\n",
    "   numeros = [numero for fila in arreglo for numero in fila] #Paso la matriz a una lista\n",
    "   unicos = list(set(numeros)) #Obtengo valores únicos\n",
    "   moda, maximo = 0,0\n",
    "   for indice, numero in enumerate(unicos):\n",
    "      conteo = numeros.count(numero) #Busco la mayor repetición de ese valor\n",
    "      if conteo > maximo:\n",
    "         maximo = conteo\n",
    "         moda = unicos[indice]\n",
    "   return moda\n",
    "\n"
   ]
  },
  {
   "cell_type": "code",
   "execution_count": 11,
   "id": "de6d673a",
   "metadata": {},
   "outputs": [
    {
     "data": {
      "text/plain": [
       "1.8"
      ]
     },
     "execution_count": 11,
     "metadata": {},
     "output_type": "execute_result"
    }
   ],
   "source": [
    "obtenerModa(muestra)"
   ]
  },
  {
   "cell_type": "code",
   "execution_count": 12,
   "id": "4a6332de",
   "metadata": {},
   "outputs": [
    {
     "data": {
      "text/plain": [
       "1.8"
      ]
     },
     "execution_count": 12,
     "metadata": {},
     "output_type": "execute_result"
    }
   ],
   "source": [
    "moda (muestra)"
   ]
  },
  {
   "cell_type": "code",
   "execution_count": 13,
   "id": "448c718d",
   "metadata": {},
   "outputs": [],
   "source": [
    "### VARIANZA ###\n",
    "\n",
    "def varianza(arr):\n",
    "    lista = list(arr.flatten())\n",
    "    suma_cuadrada = 0\n",
    "    for xi in lista:\n",
    "        suma_cuadrada += (xi - media_aritmetica(arr))**2\n",
    "    return suma_cuadrada/len(lista)"
   ]
  },
  {
   "cell_type": "code",
   "execution_count": 14,
   "id": "ac1d8e62",
   "metadata": {},
   "outputs": [
    {
     "name": "stdout",
     "output_type": "stream",
     "text": [
      "0.017642750000000006\n",
      "0.017642750000000006\n"
     ]
    }
   ],
   "source": [
    "print(varianza(muestra))\n",
    "print(np.var(muestra))"
   ]
  },
  {
   "cell_type": "code",
   "execution_count": 15,
   "id": "67af94d9",
   "metadata": {},
   "outputs": [],
   "source": [
    "### DESVIACION ESTANDAR ###\n",
    "\n",
    "def desv_std(arr):\n",
    "    return varianza(arr)**0.5"
   ]
  },
  {
   "cell_type": "code",
   "execution_count": 16,
   "id": "066e7791",
   "metadata": {},
   "outputs": [
    {
     "name": "stdout",
     "output_type": "stream",
     "text": [
      "0.13282601401833907\n",
      "0.13282601401833907\n"
     ]
    }
   ],
   "source": [
    "print(desv_std(muestra))\n",
    "print(np.std(muestra))"
   ]
  },
  {
   "attachments": {},
   "cell_type": "markdown",
   "id": "29f8f4c8",
   "metadata": {},
   "source": [
    "2) Convierta el arreglo en una lista y realice un Histograma de 5 intervalos. ¿Tiene distribución normal?.\n"
   ]
  },
  {
   "cell_type": "code",
   "execution_count": 19,
   "id": "0b2b7f9a",
   "metadata": {},
   "outputs": [
    {
     "data": {
      "text/plain": [
       "array([1.85, 1.8 , 1.8 , 1.8 , 1.73, 1.7 , 1.75, 1.76, 1.65, 1.69, 1.67,\n",
       "       1.6 , 1.54, 1.57, 1.58, 1.59, 1.4 , 1.42, 1.45, 1.48])"
      ]
     },
     "execution_count": 19,
     "metadata": {},
     "output_type": "execute_result"
    }
   ],
   "source": [
    "aplanado = muestra.flatten()\n",
    "aplanado"
   ]
  },
  {
   "cell_type": "code",
   "execution_count": 20,
   "id": "0ece3377",
   "metadata": {},
   "outputs": [
    {
     "name": "stdout",
     "output_type": "stream",
     "text": [
      "[1.4, 1.42, 1.45, 1.48, 1.54, 1.57, 1.58, 1.59, 1.6, 1.65, 1.67, 1.69, 1.7, 1.73, 1.75, 1.76, 1.8, 1.8, 1.8, 1.85]\n",
      "<class 'list'>\n"
     ]
    }
   ],
   "source": [
    "lista = list(aplanado)\n",
    "lista.sort()\n",
    "print (lista)\n",
    "print (type(lista))"
   ]
  },
  {
   "cell_type": "code",
   "execution_count": 21,
   "id": "bf7d3060",
   "metadata": {},
   "outputs": [
    {
     "data": {
      "image/png": "[encoded data removed]",
      "text/plain": [
       "<Figure size 640x480 with 1 Axes>"
      ]
     },
     "metadata": {},
     "output_type": "display_data"
    }
   ],
   "source": [
    "plt.hist(lista, bins=5, rwidth=0.5, color='green')\n",
    "plt.title(\"Histograma con 5 intervalos\")\n",
    "plt.xlabel(\"Alturas\")\n",
    "plt.ylabel(\"Frecuencias Absolutas\")\n",
    "plt.show()"
   ]
  },
  {
   "attachments": {},
   "cell_type": "markdown",
   "id": "9e0221c4",
   "metadata": {},
   "source": [
    "En conclusion, nuestra muestr NO TIENE DISTRIBUCION NORMAL: no se parece a una campana, su moda, media y mediana no tienen el mismo valor, no es simetrica ni alcanza su maximo en la media."
   ]
  },
  {
   "attachments": {},
   "cell_type": "markdown",
   "id": "7427a370",
   "metadata": {},
   "source": [
    "3) Con los siguientes datos construye un df y un array que permitan describir adecuadamente la muestra.\n",
    "    'Ingreso en miles' : 10.5 6.8 20.7 18.2 8.6 25.8 22.2 5.9 7.6 11.8\n",
    "    'Años de estudio': 17 18 21 16 16 21 16 14 18 18\n"
   ]
  },
  {
   "cell_type": "code",
   "execution_count": 23,
   "id": "6c2604ac",
   "metadata": {},
   "outputs": [
    {
     "data": {
      "text/html": [
       "<div>\n",
       "<style scoped>\n",
       "    .dataframe tbody tr th:only-of-type {\n",
       "        vertical-align: middle;\n",
       "    }\n",
       "\n",
       "    .dataframe tbody tr th {\n",
       "        vertical-align: top;\n",
       "    }\n",
       "\n",
       "    .dataframe thead th {\n",
       "        text-align: right;\n",
       "    }\n",
       "</style>\n",
       "<table border=\"1\" class=\"dataframe\">\n",
       "  <thead>\n",
       "    <tr style=\"text-align: right;\">\n",
       "      <th></th>\n",
       "      <th>Ingreso en miles</th>\n",
       "      <th>Años de estudio</th>\n",
       "    </tr>\n",
       "  </thead>\n",
       "  <tbody>\n",
       "    <tr>\n",
       "      <th>0</th>\n",
       "      <td>10.5</td>\n",
       "      <td>17</td>\n",
       "    </tr>\n",
       "    <tr>\n",
       "      <th>1</th>\n",
       "      <td>6.8</td>\n",
       "      <td>18</td>\n",
       "    </tr>\n",
       "    <tr>\n",
       "      <th>2</th>\n",
       "      <td>20.7</td>\n",
       "      <td>21</td>\n",
       "    </tr>\n",
       "    <tr>\n",
       "      <th>3</th>\n",
       "      <td>18.2</td>\n",
       "      <td>16</td>\n",
       "    </tr>\n",
       "    <tr>\n",
       "      <th>4</th>\n",
       "      <td>8.6</td>\n",
       "      <td>16</td>\n",
       "    </tr>\n",
       "    <tr>\n",
       "      <th>5</th>\n",
       "      <td>25.8</td>\n",
       "      <td>21</td>\n",
       "    </tr>\n",
       "    <tr>\n",
       "      <th>6</th>\n",
       "      <td>22.2</td>\n",
       "      <td>16</td>\n",
       "    </tr>\n",
       "    <tr>\n",
       "      <th>7</th>\n",
       "      <td>5.9</td>\n",
       "      <td>14</td>\n",
       "    </tr>\n",
       "    <tr>\n",
       "      <th>8</th>\n",
       "      <td>7.6</td>\n",
       "      <td>18</td>\n",
       "    </tr>\n",
       "    <tr>\n",
       "      <th>9</th>\n",
       "      <td>11.8</td>\n",
       "      <td>18</td>\n",
       "    </tr>\n",
       "  </tbody>\n",
       "</table>\n",
       "</div>"
      ],
      "text/plain": [
       "   Ingreso en miles  Años de estudio\n",
       "0              10.5               17\n",
       "1               6.8               18\n",
       "2              20.7               21\n",
       "3              18.2               16\n",
       "4               8.6               16\n",
       "5              25.8               21\n",
       "6              22.2               16\n",
       "7               5.9               14\n",
       "8               7.6               18\n",
       "9              11.8               18"
      ]
     },
     "execution_count": 23,
     "metadata": {},
     "output_type": "execute_result"
    }
   ],
   "source": [
    "df = pd.DataFrame({\n",
    "    'Ingreso en miles': [10.5, 6.8, 20.7, 18.2, 8.6, 25.8, 22.2, 5.9, 7.6, 11.8],\n",
    "    'Años de estudio': [17, 18, 21, 16, 16, 21, 16, 14, 18, 18]\n",
    "})\n",
    "df"
   ]
  },
  {
   "attachments": {},
   "cell_type": "markdown",
   "id": "7f82dcbb",
   "metadata": {},
   "source": [
    "4) Utilizando pandas describa el dataframe."
   ]
  },
  {
   "cell_type": "code",
   "execution_count": 24,
   "id": "6da009b0",
   "metadata": {},
   "outputs": [
    {
     "data": {
      "text/plain": [
       "'El promedio de años de estudio es de : 17.5'"
      ]
     },
     "execution_count": 24,
     "metadata": {},
     "output_type": "execute_result"
    }
   ],
   "source": [
    "f\"El promedio de años de estudio es de : {np.mean(df['Años de estudio'])}\""
   ]
  },
  {
   "cell_type": "code",
   "execution_count": 25,
   "id": "3b6233a9",
   "metadata": {},
   "outputs": [
    {
     "data": {
      "text/plain": [
       "'El promedio de ingresos es de : 13810.0 pesos argentinos'"
      ]
     },
     "execution_count": 25,
     "metadata": {},
     "output_type": "execute_result"
    }
   ],
   "source": [
    "f\"El promedio de ingresos es de : {np.mean(df['Ingreso en miles']*1000)} pesos argentinos\""
   ]
  },
  {
   "cell_type": "code",
   "execution_count": 26,
   "id": "f51df304",
   "metadata": {},
   "outputs": [
    {
     "name": "stdout",
     "output_type": "stream",
     "text": [
      "La cantidad de años de estudio que le tomo a la persona que tiene el mayor de los ingresos fue de: 21 años\n"
     ]
    }
   ],
   "source": [
    "query1 = df['Años de estudio'].loc[df['Ingreso en miles'] == df['Ingreso en miles'].max()].values\n",
    "\n",
    "print(f'La cantidad de años de estudio que le tomo a la persona que tiene el mayor de los ingresos fue de: {int(query1)} años')"
   ]
  },
  {
   "cell_type": "code",
   "execution_count": 27,
   "id": "c0680e91",
   "metadata": {},
   "outputs": [
    {
     "data": {
      "text/plain": [
       "array([21], dtype=int64)"
      ]
     },
     "execution_count": 27,
     "metadata": {},
     "output_type": "execute_result"
    }
   ],
   "source": [
    "query1"
   ]
  },
  {
   "attachments": {},
   "cell_type": "markdown",
   "id": "162f2c48",
   "metadata": {},
   "source": [
    "5) Realice un histograma para de 6 secciones para 'Ingreso en miles' y 'Años de estudio'."
   ]
  },
  {
   "cell_type": "code",
   "execution_count": 172,
   "id": "d8a8e84e",
   "metadata": {},
   "outputs": [
    {
     "data": {
      "text/plain": [
       "(array([1., 3., 1., 3., 0., 2.]),\n",
       " array([14.        , 15.16666667, 16.33333333, 17.5       , 18.66666667,\n",
       "        19.83333333, 21.        ]),\n",
       " <BarContainer object of 6 artists>)"
      ]
     },
     "execution_count": 172,
     "metadata": {},
     "output_type": "execute_result"
    },
    {
     "data": {
      "image/png": "[encoded data removed]",
      "text/plain": [
       "<Figure size 640x480 with 1 Axes>"
      ]
     },
     "metadata": {},
     "output_type": "display_data"
    }
   ],
   "source": [
    "plt.hist(df['Años de estudio'], bins=6, rwidth=0.9)"
   ]
  },
  {
   "cell_type": "code",
   "execution_count": 173,
   "id": "72660be7",
   "metadata": {},
   "outputs": [
    {
     "data": {
      "text/plain": [
       "(array([4., 2., 0., 1., 2., 1.]),\n",
       " array([ 5.9       ,  9.21666667, 12.53333333, 15.85      , 19.16666667,\n",
       "        22.48333333, 25.8       ]),\n",
       " <BarContainer object of 6 artists>)"
      ]
     },
     "execution_count": 173,
     "metadata": {},
     "output_type": "execute_result"
    },
    {
     "data": {
      "image/png": "[encoded data removed]",
      "text/plain": [
       "<Figure size 640x480 with 1 Axes>"
      ]
     },
     "metadata": {},
     "output_type": "display_data"
    }
   ],
   "source": [
    "plt.hist(df['Ingreso en miles'], bins=6, rwidth=0.9)"
   ]
  },
  {
   "cell_type": "code",
   "execution_count": 174,
   "id": "80cacc98",
   "metadata": {},
   "outputs": [
    {
     "data": {
      "text/plain": [
       "Text(0.5, 1.0, 'Caso de estudio 1')"
      ]
     },
     "execution_count": 174,
     "metadata": {},
     "output_type": "execute_result"
    },
    {
     "data": {
      "image/png": "[encoded data removed]",
      "text/plain": [
       "<Figure size 640x480 with 1 Axes>"
      ]
     },
     "metadata": {},
     "output_type": "display_data"
    }
   ],
   "source": [
    "plt.hist(df, bins=6, rwidth=0.9)\n",
    "\n",
    "plt.xlabel('Ingreso en miles / Años de estudio')\n",
    "plt.ylabel('Frecuencia')\n",
    "plt.title('Caso de estudio 1')"
   ]
  },
  {
   "attachments": {},
   "cell_type": "markdown",
   "id": "02f83a38",
   "metadata": {},
   "source": [
    "6) Calcula la media de 'Ingreso en miles' (df) utilizando pandas."
   ]
  },
  {
   "cell_type": "code",
   "execution_count": 175,
   "id": "5a66db01",
   "metadata": {},
   "outputs": [
    {
     "data": {
      "text/plain": [
       "13.809999999999999"
      ]
     },
     "execution_count": 175,
     "metadata": {},
     "output_type": "execute_result"
    }
   ],
   "source": [
    "df['Ingreso en miles'].mean()"
   ]
  },
  {
   "attachments": {},
   "cell_type": "markdown",
   "id": "08d373b2",
   "metadata": {},
   "source": [
    "7) Calcula la media de 'Ingreso en miles' (array) utilizando numpy."
   ]
  },
  {
   "cell_type": "code",
   "execution_count": 28,
   "id": "3a6a7c46",
   "metadata": {},
   "outputs": [
    {
     "data": {
      "text/plain": [
       "array([[10.5, 17. ],\n",
       "       [ 6.8, 18. ],\n",
       "       [20.7, 21. ],\n",
       "       [18.2, 16. ],\n",
       "       [ 8.6, 16. ],\n",
       "       [25.8, 21. ],\n",
       "       [22.2, 16. ],\n",
       "       [ 5.9, 14. ],\n",
       "       [ 7.6, 18. ],\n",
       "       [11.8, 18. ]])"
      ]
     },
     "execution_count": 28,
     "metadata": {},
     "output_type": "execute_result"
    }
   ],
   "source": [
    "arr = df.to_numpy() # transformamos el dataframe en un numpy array\n",
    "arr"
   ]
  },
  {
   "cell_type": "code",
   "execution_count": 29,
   "id": "c7c7a3d1",
   "metadata": {},
   "outputs": [
    {
     "data": {
      "text/plain": [
       "array([10.5,  6.8, 20.7, 18.2,  8.6, 25.8, 22.2,  5.9,  7.6, 11.8])"
      ]
     },
     "execution_count": 29,
     "metadata": {},
     "output_type": "execute_result"
    }
   ],
   "source": [
    "ingreso_en_miles = arr[:,0] # creamos nuestro array 'Ingreso en miles' mediante slicing\n",
    "# quiero todos los elementos que se encuentran dentro del corchete de mayor jerarquia( : ) y de\n",
    "# cada uno de esos elementos voy a querer su primer elemento ( 0 )\n",
    "ingreso_en_miles"
   ]
  },
  {
   "cell_type": "code",
   "execution_count": 31,
   "id": "5cca004d",
   "metadata": {},
   "outputs": [
    {
     "data": {
      "text/plain": [
       "13.809999999999999"
      ]
     },
     "execution_count": 31,
     "metadata": {},
     "output_type": "execute_result"
    }
   ],
   "source": [
    "ingreso_en_miles.mean() # uso el metodo mean() de Numpy para calcular promedio"
   ]
  },
  {
   "attachments": {},
   "cell_type": "markdown",
   "id": "ee5cbc33",
   "metadata": {},
   "source": [
    "8) Agregue los siguientes valores extremos al df \\[ 50, 35 \\], \\[ 120, 30 \\]. ¿En cuanto vario la media?, ¿Qué conclusiones obtiene de este resultado sobre la media?"
   ]
  },
  {
   "cell_type": "code",
   "execution_count": 33,
   "id": "0e802465",
   "metadata": {},
   "outputs": [
    {
     "data": {
      "text/html": [
       "<div>\n",
       "<style scoped>\n",
       "    .dataframe tbody tr th:only-of-type {\n",
       "        vertical-align: middle;\n",
       "    }\n",
       "\n",
       "    .dataframe tbody tr th {\n",
       "        vertical-align: top;\n",
       "    }\n",
       "\n",
       "    .dataframe thead th {\n",
       "        text-align: right;\n",
       "    }\n",
       "</style>\n",
       "<table border=\"1\" class=\"dataframe\">\n",
       "  <thead>\n",
       "    <tr style=\"text-align: right;\">\n",
       "      <th></th>\n",
       "      <th>Ingreso en miles</th>\n",
       "      <th>Años de estudio</th>\n",
       "    </tr>\n",
       "  </thead>\n",
       "  <tbody>\n",
       "    <tr>\n",
       "      <th>0</th>\n",
       "      <td>50</td>\n",
       "      <td>35</td>\n",
       "    </tr>\n",
       "    <tr>\n",
       "      <th>1</th>\n",
       "      <td>120</td>\n",
       "      <td>30</td>\n",
       "    </tr>\n",
       "  </tbody>\n",
       "</table>\n",
       "</div>"
      ],
      "text/plain": [
       "   Ingreso en miles  Años de estudio\n",
       "0                50               35\n",
       "1               120               30"
      ]
     },
     "execution_count": 33,
     "metadata": {},
     "output_type": "execute_result"
    }
   ],
   "source": [
    "a1 = pd.DataFrame({\n",
    "    'Ingreso en miles': [50, 120],\n",
    "    'Años de estudio': [35, 30]\n",
    "})\n",
    "a1"
   ]
  },
  {
   "cell_type": "code",
   "execution_count": 34,
   "id": "b3c9cc95",
   "metadata": {},
   "outputs": [
    {
     "data": {
      "text/html": [
       "<div>\n",
       "<style scoped>\n",
       "    .dataframe tbody tr th:only-of-type {\n",
       "        vertical-align: middle;\n",
       "    }\n",
       "\n",
       "    .dataframe tbody tr th {\n",
       "        vertical-align: top;\n",
       "    }\n",
       "\n",
       "    .dataframe thead th {\n",
       "        text-align: right;\n",
       "    }\n",
       "</style>\n",
       "<table border=\"1\" class=\"dataframe\">\n",
       "  <thead>\n",
       "    <tr style=\"text-align: right;\">\n",
       "      <th></th>\n",
       "      <th>Ingreso en miles</th>\n",
       "      <th>Años de estudio</th>\n",
       "    </tr>\n",
       "  </thead>\n",
       "  <tbody>\n",
       "    <tr>\n",
       "      <th>0</th>\n",
       "      <td>10.5</td>\n",
       "      <td>17</td>\n",
       "    </tr>\n",
       "    <tr>\n",
       "      <th>1</th>\n",
       "      <td>6.8</td>\n",
       "      <td>18</td>\n",
       "    </tr>\n",
       "    <tr>\n",
       "      <th>2</th>\n",
       "      <td>20.7</td>\n",
       "      <td>21</td>\n",
       "    </tr>\n",
       "    <tr>\n",
       "      <th>3</th>\n",
       "      <td>18.2</td>\n",
       "      <td>16</td>\n",
       "    </tr>\n",
       "    <tr>\n",
       "      <th>4</th>\n",
       "      <td>8.6</td>\n",
       "      <td>16</td>\n",
       "    </tr>\n",
       "    <tr>\n",
       "      <th>5</th>\n",
       "      <td>25.8</td>\n",
       "      <td>21</td>\n",
       "    </tr>\n",
       "    <tr>\n",
       "      <th>6</th>\n",
       "      <td>22.2</td>\n",
       "      <td>16</td>\n",
       "    </tr>\n",
       "    <tr>\n",
       "      <th>7</th>\n",
       "      <td>5.9</td>\n",
       "      <td>14</td>\n",
       "    </tr>\n",
       "    <tr>\n",
       "      <th>8</th>\n",
       "      <td>7.6</td>\n",
       "      <td>18</td>\n",
       "    </tr>\n",
       "    <tr>\n",
       "      <th>9</th>\n",
       "      <td>11.8</td>\n",
       "      <td>18</td>\n",
       "    </tr>\n",
       "    <tr>\n",
       "      <th>10</th>\n",
       "      <td>50.0</td>\n",
       "      <td>35</td>\n",
       "    </tr>\n",
       "    <tr>\n",
       "      <th>11</th>\n",
       "      <td>120.0</td>\n",
       "      <td>30</td>\n",
       "    </tr>\n",
       "  </tbody>\n",
       "</table>\n",
       "</div>"
      ],
      "text/plain": [
       "    Ingreso en miles  Años de estudio\n",
       "0               10.5               17\n",
       "1                6.8               18\n",
       "2               20.7               21\n",
       "3               18.2               16\n",
       "4                8.6               16\n",
       "5               25.8               21\n",
       "6               22.2               16\n",
       "7                5.9               14\n",
       "8                7.6               18\n",
       "9               11.8               18\n",
       "10              50.0               35\n",
       "11             120.0               30"
      ]
     },
     "execution_count": 34,
     "metadata": {},
     "output_type": "execute_result"
    }
   ],
   "source": [
    "new_df = pd.concat([df,a1])\n",
    "new_df = new_df.reset_index(drop=True)\n",
    "new_df\n"
   ]
  },
  {
   "cell_type": "code",
   "execution_count": 35,
   "id": "5db38b6d",
   "metadata": {},
   "outputs": [
    {
     "data": {
      "text/html": [
       "<div>\n",
       "<style scoped>\n",
       "    .dataframe tbody tr th:only-of-type {\n",
       "        vertical-align: middle;\n",
       "    }\n",
       "\n",
       "    .dataframe tbody tr th {\n",
       "        vertical-align: top;\n",
       "    }\n",
       "\n",
       "    .dataframe thead th {\n",
       "        text-align: right;\n",
       "    }\n",
       "</style>\n",
       "<table border=\"1\" class=\"dataframe\">\n",
       "  <thead>\n",
       "    <tr style=\"text-align: right;\">\n",
       "      <th></th>\n",
       "      <th>Ingreso en miles</th>\n",
       "      <th>Años de estudio</th>\n",
       "    </tr>\n",
       "  </thead>\n",
       "  <tbody>\n",
       "    <tr>\n",
       "      <th>0</th>\n",
       "      <td>10.5</td>\n",
       "      <td>17</td>\n",
       "    </tr>\n",
       "    <tr>\n",
       "      <th>1</th>\n",
       "      <td>6.8</td>\n",
       "      <td>18</td>\n",
       "    </tr>\n",
       "    <tr>\n",
       "      <th>2</th>\n",
       "      <td>20.7</td>\n",
       "      <td>21</td>\n",
       "    </tr>\n",
       "    <tr>\n",
       "      <th>3</th>\n",
       "      <td>18.2</td>\n",
       "      <td>16</td>\n",
       "    </tr>\n",
       "    <tr>\n",
       "      <th>4</th>\n",
       "      <td>8.6</td>\n",
       "      <td>16</td>\n",
       "    </tr>\n",
       "    <tr>\n",
       "      <th>5</th>\n",
       "      <td>25.8</td>\n",
       "      <td>21</td>\n",
       "    </tr>\n",
       "    <tr>\n",
       "      <th>6</th>\n",
       "      <td>22.2</td>\n",
       "      <td>16</td>\n",
       "    </tr>\n",
       "    <tr>\n",
       "      <th>7</th>\n",
       "      <td>5.9</td>\n",
       "      <td>14</td>\n",
       "    </tr>\n",
       "    <tr>\n",
       "      <th>8</th>\n",
       "      <td>7.6</td>\n",
       "      <td>18</td>\n",
       "    </tr>\n",
       "    <tr>\n",
       "      <th>9</th>\n",
       "      <td>11.8</td>\n",
       "      <td>18</td>\n",
       "    </tr>\n",
       "    <tr>\n",
       "      <th>10</th>\n",
       "      <td>50.0</td>\n",
       "      <td>35</td>\n",
       "    </tr>\n",
       "    <tr>\n",
       "      <th>11</th>\n",
       "      <td>120.0</td>\n",
       "      <td>30</td>\n",
       "    </tr>\n",
       "  </tbody>\n",
       "</table>\n",
       "</div>"
      ],
      "text/plain": [
       "    Ingreso en miles  Años de estudio\n",
       "0               10.5               17\n",
       "1                6.8               18\n",
       "2               20.7               21\n",
       "3               18.2               16\n",
       "4                8.6               16\n",
       "5               25.8               21\n",
       "6               22.2               16\n",
       "7                5.9               14\n",
       "8                7.6               18\n",
       "9               11.8               18\n",
       "10              50.0               35\n",
       "11             120.0               30"
      ]
     },
     "execution_count": 35,
     "metadata": {},
     "output_type": "execute_result"
    }
   ],
   "source": [
    "# tambien podemos usar el parametro 'ignore_index' dentro del metodo ''concat'\n",
    "\n",
    "new_df = pd.concat([df, a1], ignore_index=True)\n",
    "new_df"
   ]
  }
 ],
 "metadata": {
  "kernelspec": {
   "display_name": "Python 3 (ipykernel)",
   "language": "python",
   "name": "python3"
  },
  "language_info": {
   "codemirror_mode": {
    "name": "ipython",
    "version": 3
   },
   "file_extension": ".py",
   "mimetype": "text/x-python",
   "name": "python",
   "nbconvert_exporter": "python",
   "pygments_lexer": "ipython3",
   "version": "3.11.1"
  }
 },
 "nbformat": 4,
 "nbformat_minor": 5
}
