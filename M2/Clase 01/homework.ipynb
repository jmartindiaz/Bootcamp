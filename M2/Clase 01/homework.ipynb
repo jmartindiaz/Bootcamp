{
 "cells": [
  {
   "attachments": {},
   "cell_type": "markdown",
   "id": "de119747",
   "metadata": {},
   "source": [
    "# Homework\n",
    "\n",
    "Considere el siguiente areglo que contiene la altura de un grupo de estudiantes de Henry:\n",
    "\n",
    "```python\n",
    "muestra = np.array( [[1.85, 1.8, 1.8 , 1.8],\n",
    "                    [1.73,  1.7, 1.75, 1.76],\n",
    "                    [ 1.65, 1.69,  1.67 ,  1.6],\n",
    "                    [1.54,  1.57, 1.58, 1.59],\n",
    "                    [ 1.4 , 1.42,  1.45, 1.48]]) \n",
    "```\n",
    "\n",
    "1) Calcule\n",
    "\n",
    "- Media.\n",
    "- Mediana.\n",
    "- Moda\n",
    "- Varianza\n",
    "- Desvío estándar.\n",
    "\n",
    "2) Convierta el arreglo en una lista y realice un Histograma de 5 intervalos. ¿Tiene distribución normal?.\n",
    "\n",
    "3) Con los siguientes datos construye un df y un array que permitan describir adecuadamente la muestra.\n",
    "    'Ingreso en miles' : 10.5 6.8 20.7 18.2 8.6 25.8 22.2 5.9 7.6 11.8\n",
    "    'Años de estudio': 17 18 21 16 16 21 16 14 18 18\n",
    "\n",
    "4) Utilizando pandas describa el dataframe.\n",
    "\n",
    "5) Realice un histograma para de 6 secciones para 'Ingreso en miles' y 'Años de estudio'.\n",
    "\n",
    "6) Calcula la media de 'Ingreso en miles' (df) utilizando pandas.\n",
    "\n",
    "7) Calcula la media de 'Ingreso en miles' (array) utilizando numpy.\n",
    "\n",
    "8) Agregue los siguientes valores extremos al df \\[ 50, 35 \\], \\[ 120, 30 \\]. ¿En cuanto vario la media?, ¿Qué conclusiones obtiene de este resultado sobre la media?."
   ]
  },
  {
   "cell_type": "code",
   "execution_count": 1,
   "id": "d2af2ebf",
   "metadata": {},
   "outputs": [],
   "source": [
    "import pandas as pd\n",
    "import numpy as np\n",
    "import matplotlib as plt"
   ]
  },
  {
   "cell_type": "code",
   "execution_count": 98,
   "id": "7368892d",
   "metadata": {},
   "outputs": [],
   "source": [
    "muestra = np.array( [[1.85, 1.8, 1.8 , 1.8],\n",
    "                    [1.73,  1.7, 1.75, 1.76],\n",
    "                    [ 1.65, 1.69,  1.67 ,  1.6],\n",
    "                    [1.54,  1.57, 1.58, 1.59],\n",
    "                    [ 1.4 , 1.42,  1.45, 1.48]]) "
   ]
  },
  {
   "attachments": {},
   "cell_type": "markdown",
   "id": "bf24a9ad",
   "metadata": {},
   "source": [
    "1) Calcule\n",
    "\n",
    "- Media.\n",
    "- Mediana.\n",
    "- Moda\n",
    "- Varianza\n",
    "- Desvío estándar."
   ]
  },
  {
   "cell_type": "code",
   "execution_count": 18,
   "id": "1c4fa002",
   "metadata": {},
   "outputs": [
    {
     "data": {
      "text/plain": [
       "array([1, 2, 3])"
      ]
     },
     "execution_count": 18,
     "metadata": {},
     "output_type": "execute_result"
    }
   ],
   "source": [
    "prueba = np.array([[1,2,3]])\n",
    "prueba.sum()\n",
    "sum(prueba)\n"
   ]
  },
  {
   "cell_type": "code",
   "execution_count": 19,
   "id": "0c3f381f",
   "metadata": {},
   "outputs": [],
   "source": [
    "### MEDIA ARITMETICA ###\n",
    "\n",
    "def media_aritmetica(lista):\n",
    "    if (lista.ndim > 1):\n",
    "        lista = lista.flatten()\n",
    "        total = sum(lista)\n",
    "        return total/len(lista)\n",
    "    else:\n",
    "        total = sum(lista)\n",
    "        return total/len(lista)"
   ]
  },
  {
   "cell_type": "code",
   "execution_count": 74,
   "id": "a7d47675",
   "metadata": {},
   "outputs": [
    {
     "name": "stdout",
     "output_type": "stream",
     "text": [
      "1.6415\n",
      "1.6415\n"
     ]
    }
   ],
   "source": [
    "print(media_aritmetica(muestra))\n",
    "print(np.mean(muestra))"
   ]
  },
  {
   "cell_type": "code",
   "execution_count": 56,
   "id": "014f6ffe",
   "metadata": {},
   "outputs": [],
   "source": [
    "### MEDIA GEOMETRICA ###\n",
    "\n",
    "def media_geometrica(lista):\n",
    "    radicando = 1\n",
    "    if (lista.ndim > 1):\n",
    "        lista = lista.flatten()\n",
    "        for i in range(len(lista)):\n",
    "            radicando *= lista[i] \n",
    "        return radicando ** (1/len(lista))\n",
    "    else:\n",
    "        for i in range(len(lista)):\n",
    "            radicando *= lista[i] \n",
    "        return radicando ** (1/len(lista))"
   ]
  },
  {
   "cell_type": "code",
   "execution_count": 23,
   "id": "0640a2bd",
   "metadata": {},
   "outputs": [
    {
     "data": {
      "text/plain": [
       "1.6360182292940844"
      ]
     },
     "execution_count": 23,
     "metadata": {},
     "output_type": "execute_result"
    }
   ],
   "source": [
    "print(media_geometrica(muestra))"
   ]
  },
  {
   "cell_type": "code",
   "execution_count": 92,
   "id": "4a7fbaac",
   "metadata": {},
   "outputs": [],
   "source": [
    "### MEDIANA ###\n",
    "\n",
    "def mediana(lista):\n",
    "    lista = lista.flatten() # aplano el array\n",
    "    lista = np.sort(lista)\n",
    "    n = len(lista)\n",
    "    if (n % 2 == 1): # cant de datos IMPAR\n",
    "        posicion = (n+1)/2\n",
    "        return lista[posicion]\n",
    "    else:\n",
    "        posicion1 = (n // 2) - 1    # recordemos que las listas arrancan desde 0, por eso hay que restarle una unidad\n",
    "        posicion2 = posicion1 + 1\n",
    "    return (lista[posicion1] + lista[posicion2]) / 2"
   ]
  },
  {
   "cell_type": "code",
   "execution_count": 93,
   "id": "8120a710",
   "metadata": {},
   "outputs": [
    {
     "name": "stdout",
     "output_type": "stream",
     "text": [
      "1.66\n",
      "1.66\n"
     ]
    }
   ],
   "source": [
    "print(mediana(muestra))\n",
    "print(np.median(muestra))\n"
   ]
  },
  {
   "attachments": {},
   "cell_type": "markdown",
   "id": "29f8f4c8",
   "metadata": {},
   "source": [
    "2) Convierta el arreglo en una lista y realice un Histograma de 5 intervalos. ¿Tiene distribución normal?.\n"
   ]
  },
  {
   "cell_type": "code",
   "execution_count": 101,
   "id": "0b2b7f9a",
   "metadata": {},
   "outputs": [
    {
     "data": {
      "text/plain": [
       "array([1.85, 1.8 , 1.8 , 1.8 , 1.73, 1.7 , 1.75, 1.76, 1.65, 1.69, 1.67,\n",
       "       1.6 , 1.54, 1.57, 1.58, 1.59, 1.4 , 1.42, 1.45, 1.48])"
      ]
     },
     "execution_count": 101,
     "metadata": {},
     "output_type": "execute_result"
    }
   ],
   "source": [
    "aplanado = muestra.flatten()\n",
    "aplanado"
   ]
  },
  {
   "cell_type": "code",
   "execution_count": 105,
   "id": "0ece3377",
   "metadata": {},
   "outputs": [
    {
     "name": "stdout",
     "output_type": "stream",
     "text": [
      "[1.85, 1.8, 1.8, 1.8, 1.73, 1.7, 1.75, 1.76, 1.65, 1.69, 1.67, 1.6, 1.54, 1.57, 1.58, 1.59, 1.4, 1.42, 1.45, 1.48]\n",
      "<class 'list'>\n"
     ]
    }
   ],
   "source": [
    "lista = list(aplanado)\n",
    "print (lista)\n",
    "print (type(lista))"
   ]
  },
  {
   "cell_type": "code",
   "execution_count": null,
   "id": "bf7d3060",
   "metadata": {},
   "outputs": [],
   "source": []
  },
  {
   "attachments": {},
   "cell_type": "markdown",
   "id": "7427a370",
   "metadata": {},
   "source": [
    "3) Con los siguientes datos construye un df y un array que permitan describir adecuadamente la muestra.\n",
    "    'Ingreso en miles' : 10.5 6.8 20.7 18.2 8.6 25.8 22.2 5.9 7.6 11.8\n",
    "    'Años de estudio': 17 18 21 16 16 21 16 14 18 18\n"
   ]
  },
  {
   "attachments": {},
   "cell_type": "markdown",
   "id": "7f82dcbb",
   "metadata": {},
   "source": [
    "4) Utilizando pandas describa el dataframe."
   ]
  },
  {
   "attachments": {},
   "cell_type": "markdown",
   "id": "162f2c48",
   "metadata": {},
   "source": [
    "5) Realice un histograma para de 6 secciones para 'Ingreso en miles' y 'Años de estudio'."
   ]
  },
  {
   "attachments": {},
   "cell_type": "markdown",
   "id": "02f83a38",
   "metadata": {},
   "source": [
    "6) Calcula la media de 'Ingreso en miles' (df) utilizando pandas."
   ]
  },
  {
   "attachments": {},
   "cell_type": "markdown",
   "id": "08d373b2",
   "metadata": {},
   "source": [
    "7) Calcula la media de 'Ingreso en miles' (array) utilizando numpy."
   ]
  },
  {
   "attachments": {},
   "cell_type": "markdown",
   "id": "ee5cbc33",
   "metadata": {},
   "source": [
    "8) Agregue los siguientes valores extremos al df \\[ 50, 35 \\], \\[ 120, 30 \\]. ¿En cuanto vario la media?, ¿Qué conclusiones obtiene de este resultado sobre la media?"
   ]
  },
  {
   "cell_type": "code",
   "execution_count": null,
   "id": "0e802465",
   "metadata": {},
   "outputs": [],
   "source": []
  }
 ],
 "metadata": {
  "kernelspec": {
   "display_name": "Python 3 (ipykernel)",
   "language": "python",
   "name": "python3"
  },
  "language_info": {
   "codemirror_mode": {
    "name": "ipython",
    "version": 3
   },
   "file_extension": ".py",
   "mimetype": "text/x-python",
   "name": "python",
   "nbconvert_exporter": "python",
   "pygments_lexer": "ipython3",
   "version": "3.11.1"
  }
 },
 "nbformat": 4,
 "nbformat_minor": 5
}
