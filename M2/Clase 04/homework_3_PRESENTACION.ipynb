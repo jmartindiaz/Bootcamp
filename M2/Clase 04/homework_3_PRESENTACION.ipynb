{
 "cells": [
  {
   "cell_type": "markdown",
   "id": "4696b59a",
   "metadata": {},
   "source": [
    "# Homework clase 3"
   ]
  },
  {
   "cell_type": "markdown",
   "id": "ecb34da8",
   "metadata": {},
   "source": [
    "1. Suponga dos eventos, A y B, y que P(A) = 0.50, P(B) = 0.60 y P(A ∩ B) = 0.40.\n",
    "\n",
    "a. Halle P(A | B).\n",
    "\n",
    "b. Halle P(B | A).\n",
    "\n",
    "c. ¿A y B son independientes? ¿Por qué sí o por qué no?"
   ]
  },
  {
   "cell_type": "markdown",
   "id": "5625669c",
   "metadata": {},
   "source": [
    "2. Suponga dos eventos, A y B, que son mutuamente excluyentes. Admita, además, que P(A) = 0.30 y P(B) = 0.40.\n",
    "\n",
    "a. Obtenga P(A ∩ B). ¿Existe intersección entre los dos conjuntos?.\n",
    "\n",
    "b. Calcule P(A | B).\n",
    "\n",
    "c. Un estudiante de estadística argumenta que los conceptos de eventos mutuamente excluyentes y eventos independientes son en realidad lo mismo y que si los eventos son mutuamente excluyentes deben ser también independientes. ¿Está usted de acuerdo? Use la información sobre las probabilidades para justificar su respuesta."
   ]
  },
  {
   "cell_type": "markdown",
   "id": "6b8bbcfc",
   "metadata": {},
   "source": [
    "Dada la siguiente tabla:\n",
    "\n",
    "![autos](img/tablaest.png)\n",
    "\n",
    "Si en la concesionaria se seleccionan dos ventas **con reposición** (Los sucesos son independientes.). Hallar la probabilidad de que las ventas sean:\n",
    "\n",
    "a. La primera de un comprador de “menos de 40 años” y la segunda de uno de \"entre 40 y 50 años\".\n",
    "\n",
    "b. las dos sean de autos \"nacionales\"."
   ]
  },
  {
   "cell_type": "markdown",
   "id": "97427f8a",
   "metadata": {},
   "source": [
    "4. Si la selección de las dos ventas se realiza **sin reposición**. Hallar la probabilidad de que las ventas sean:\n",
    "\n",
    "Los sucesos son condicionales.\n",
    "\n",
    "a. la primera de un comprador de “menos de 40 años” y la segunda de uno de \"entre 40 y 50 años\".\n",
    "\n",
    "b. las dos sean de autos \"nacionales\"."
   ]
  },
  {
   "cell_type": "markdown",
   "id": "ec1e4248",
   "metadata": {},
   "source": [
    "5. Si la selección de las dos ventas se realiza sin reposición. Hallar la probabilidad de que las ventas sean:\n",
    "\n",
    "Los sucesos son condicionales.\n",
    "\n",
    "a. De un comprador de “menos de 40 años” y de uno de \"entre 40 y 50 años\". Sin importar el orden."
   ]
  },
  {
   "cell_type": "markdown",
   "id": "38a6191d",
   "metadata": {},
   "source": [
    "6. Debido al aumento de los costos de los seguros, en un país de 43 millones de personas, hay personas que no cuentan con un seguro médico. En la tabla siguiente se muestran datos muestrales representativos de la cantidad de personas que cuentan con seguro médico:\n",
    "\n",
    "![Seguro](img/seguro.png)\n",
    "\n",
    "a. Con estos datos elabore una tabla de probabilidad conjunta y úsela para responder las preguntas restantes.\n",
    "\n",
    "b. ¿Qué indican las probabilidades marginales acerca de la edad de la población?\n",
    "\n",
    "c. ¿Cuál es la probabilidad de que una persona tomada en forma aleatoria no tenga seguro médico?\n",
    "\n",
    "d. Si la persona tiene entre 18 y 34 años, ¿cuál es la probabilidad de que no tenga seguro médico?\n",
    "\n",
    "e. Si la persona tiene 35 años o más ¿cuál es la probabilidad de que no tenga seguro médico?\n",
    "\n",
    "f. Si la persona no tiene seguro médico, ¿cuál es la probabilidad de que tenga entre 18 y 34 años?"
   ]
  },
  {
   "cell_type": "code",
   "execution_count": 32,
   "id": "8da5d4cd",
   "metadata": {},
   "outputs": [],
   "source": [
    "df_dict = {\n",
    "    \"Sí\": [750, 950],\n",
    "    \"No\": [170, 130]\n",
    "}"
   ]
  },
  {
   "cell_type": "code",
   "execution_count": 33,
   "id": "d5e9608d",
   "metadata": {},
   "outputs": [],
   "source": [
    "import pandas as pd\n",
    "\n",
    "df = pd.DataFrame(df_dict, index=[\"18 a 34\", \"35 o mayor\"])"
   ]
  },
  {
   "cell_type": "code",
   "execution_count": 34,
   "id": "6f84f936",
   "metadata": {},
   "outputs": [
    {
     "data": {
      "text/html": [
       "<div>\n",
       "<style scoped>\n",
       "    .dataframe tbody tr th:only-of-type {\n",
       "        vertical-align: middle;\n",
       "    }\n",
       "\n",
       "    .dataframe tbody tr th {\n",
       "        vertical-align: top;\n",
       "    }\n",
       "\n",
       "    .dataframe thead th {\n",
       "        text-align: right;\n",
       "    }\n",
       "</style>\n",
       "<table border=\"1\" class=\"dataframe\">\n",
       "  <thead>\n",
       "    <tr style=\"text-align: right;\">\n",
       "      <th></th>\n",
       "      <th>Sí</th>\n",
       "      <th>No</th>\n",
       "    </tr>\n",
       "  </thead>\n",
       "  <tbody>\n",
       "    <tr>\n",
       "      <th>18 a 34</th>\n",
       "      <td>750</td>\n",
       "      <td>170</td>\n",
       "    </tr>\n",
       "    <tr>\n",
       "      <th>35 o mayor</th>\n",
       "      <td>950</td>\n",
       "      <td>130</td>\n",
       "    </tr>\n",
       "  </tbody>\n",
       "</table>\n",
       "</div>"
      ],
      "text/plain": [
       "             Sí   No\n",
       "18 a 34     750  170\n",
       "35 o mayor  950  130"
      ]
     },
     "execution_count": 34,
     "metadata": {},
     "output_type": "execute_result"
    }
   ],
   "source": [
    "df"
   ]
  },
  {
   "cell_type": "code",
   "execution_count": 35,
   "id": "22c00b51",
   "metadata": {},
   "outputs": [
    {
     "data": {
      "text/plain": [
       "2000"
      ]
     },
     "execution_count": 35,
     "metadata": {},
     "output_type": "execute_result"
    }
   ],
   "source": [
    "import numpy as np\n",
    "total = np.sum(np.array(df))\n",
    "\n",
    "total"
   ]
  },
  {
   "cell_type": "code",
   "execution_count": 36,
   "id": "0bd02b78",
   "metadata": {},
   "outputs": [
    {
     "data": {
      "text/plain": [
       "0.085"
      ]
     },
     "execution_count": 36,
     "metadata": {},
     "output_type": "execute_result"
    }
   ],
   "source": [
    "170/total"
   ]
  },
  {
   "cell_type": "code",
   "execution_count": 37,
   "id": "488af3ca",
   "metadata": {},
   "outputs": [],
   "source": [
    "df.loc['Total'] = [np.sum(df['Sí']), np.sum(df['No'])]"
   ]
  },
  {
   "cell_type": "code",
   "execution_count": 39,
   "id": "4cd5ad09",
   "metadata": {},
   "outputs": [
    {
     "data": {
      "text/html": [
       "<div>\n",
       "<style scoped>\n",
       "    .dataframe tbody tr th:only-of-type {\n",
       "        vertical-align: middle;\n",
       "    }\n",
       "\n",
       "    .dataframe tbody tr th {\n",
       "        vertical-align: top;\n",
       "    }\n",
       "\n",
       "    .dataframe thead th {\n",
       "        text-align: right;\n",
       "    }\n",
       "</style>\n",
       "<table border=\"1\" class=\"dataframe\">\n",
       "  <thead>\n",
       "    <tr style=\"text-align: right;\">\n",
       "      <th></th>\n",
       "      <th>Sí</th>\n",
       "      <th>No</th>\n",
       "    </tr>\n",
       "  </thead>\n",
       "  <tbody>\n",
       "    <tr>\n",
       "      <th>18 a 34</th>\n",
       "      <td>750</td>\n",
       "      <td>170</td>\n",
       "    </tr>\n",
       "    <tr>\n",
       "      <th>35 o mayor</th>\n",
       "      <td>950</td>\n",
       "      <td>130</td>\n",
       "    </tr>\n",
       "    <tr>\n",
       "      <th>Total</th>\n",
       "      <td>1700</td>\n",
       "      <td>300</td>\n",
       "    </tr>\n",
       "  </tbody>\n",
       "</table>\n",
       "</div>"
      ],
      "text/plain": [
       "              Sí   No\n",
       "18 a 34      750  170\n",
       "35 o mayor   950  130\n",
       "Total       1700  300"
      ]
     },
     "execution_count": 39,
     "metadata": {},
     "output_type": "execute_result"
    }
   ],
   "source": [
    "df"
   ]
  },
  {
   "cell_type": "code",
   "execution_count": 45,
   "id": "123e25e8",
   "metadata": {},
   "outputs": [],
   "source": [
    "df['Total'] = [df['Sí'][i] + df['No'][i] for i in range(df.shape[0])]"
   ]
  },
  {
   "cell_type": "code",
   "execution_count": 49,
   "id": "40f55982",
   "metadata": {},
   "outputs": [
    {
     "data": {
      "text/html": [
       "<div>\n",
       "<style scoped>\n",
       "    .dataframe tbody tr th:only-of-type {\n",
       "        vertical-align: middle;\n",
       "    }\n",
       "\n",
       "    .dataframe tbody tr th {\n",
       "        vertical-align: top;\n",
       "    }\n",
       "\n",
       "    .dataframe thead th {\n",
       "        text-align: right;\n",
       "    }\n",
       "</style>\n",
       "<table border=\"1\" class=\"dataframe\">\n",
       "  <thead>\n",
       "    <tr style=\"text-align: right;\">\n",
       "      <th></th>\n",
       "      <th>Sí</th>\n",
       "      <th>No</th>\n",
       "      <th>Total</th>\n",
       "    </tr>\n",
       "  </thead>\n",
       "  <tbody>\n",
       "    <tr>\n",
       "      <th>18 a 34</th>\n",
       "      <td>750</td>\n",
       "      <td>170</td>\n",
       "      <td>920</td>\n",
       "    </tr>\n",
       "    <tr>\n",
       "      <th>35 o mayor</th>\n",
       "      <td>950</td>\n",
       "      <td>130</td>\n",
       "      <td>1080</td>\n",
       "    </tr>\n",
       "    <tr>\n",
       "      <th>Total</th>\n",
       "      <td>1700</td>\n",
       "      <td>300</td>\n",
       "      <td>2000</td>\n",
       "    </tr>\n",
       "  </tbody>\n",
       "</table>\n",
       "</div>"
      ],
      "text/plain": [
       "              Sí   No  Total\n",
       "18 a 34      750  170    920\n",
       "35 o mayor   950  130   1080\n",
       "Total       1700  300   2000"
      ]
     },
     "execution_count": 49,
     "metadata": {},
     "output_type": "execute_result"
    }
   ],
   "source": [
    "df"
   ]
  },
  {
   "cell_type": "code",
   "execution_count": 51,
   "id": "7072b872",
   "metadata": {},
   "outputs": [
    {
     "data": {
      "text/plain": [
       "0.12037037037037036"
      ]
     },
     "execution_count": 51,
     "metadata": {},
     "output_type": "execute_result"
    }
   ],
   "source": [
    "130/1080"
   ]
  },
  {
   "cell_type": "code",
   "execution_count": 53,
   "id": "d446abb0",
   "metadata": {},
   "outputs": [
    {
     "data": {
      "text/plain": [
       "0.5666666666666667"
      ]
     },
     "execution_count": 53,
     "metadata": {},
     "output_type": "execute_result"
    }
   ],
   "source": [
    "170/300"
   ]
  },
  {
   "cell_type": "code",
   "execution_count": 54,
   "id": "5e31b906",
   "metadata": {},
   "outputs": [
    {
     "data": {
      "text/plain": [
       "0.1847826086956522"
      ]
     },
     "execution_count": 54,
     "metadata": {},
     "output_type": "execute_result"
    }
   ],
   "source": [
    "# probabilidad de que una persona que no tiene seguro (A) tenga entre 18 y 34 (B)\n",
    "# La probabilidad de B dado A\n",
    "\n",
    "(170/2000)/(920/2000)"
   ]
  },
  {
   "cell_type": "code",
   "execution_count": 47,
   "id": "f355547a",
   "metadata": {},
   "outputs": [
    {
     "data": {
      "text/html": [
       "<div>\n",
       "<style scoped>\n",
       "    .dataframe tbody tr th:only-of-type {\n",
       "        vertical-align: middle;\n",
       "    }\n",
       "\n",
       "    .dataframe tbody tr th {\n",
       "        vertical-align: top;\n",
       "    }\n",
       "\n",
       "    .dataframe thead th {\n",
       "        text-align: right;\n",
       "    }\n",
       "</style>\n",
       "<table border=\"1\" class=\"dataframe\">\n",
       "  <thead>\n",
       "    <tr style=\"text-align: right;\">\n",
       "      <th></th>\n",
       "      <th>Sí</th>\n",
       "      <th>No</th>\n",
       "      <th>Total</th>\n",
       "    </tr>\n",
       "  </thead>\n",
       "  <tbody>\n",
       "    <tr>\n",
       "      <th>18 a 34</th>\n",
       "      <td>0.375</td>\n",
       "      <td>0.085</td>\n",
       "      <td>0.46</td>\n",
       "    </tr>\n",
       "    <tr>\n",
       "      <th>35 o mayor</th>\n",
       "      <td>0.475</td>\n",
       "      <td>0.065</td>\n",
       "      <td>0.54</td>\n",
       "    </tr>\n",
       "    <tr>\n",
       "      <th>Total</th>\n",
       "      <td>0.850</td>\n",
       "      <td>0.150</td>\n",
       "      <td>1.00</td>\n",
       "    </tr>\n",
       "  </tbody>\n",
       "</table>\n",
       "</div>"
      ],
      "text/plain": [
       "               Sí     No  Total\n",
       "18 a 34     0.375  0.085   0.46\n",
       "35 o mayor  0.475  0.065   0.54\n",
       "Total       0.850  0.150   1.00"
      ]
     },
     "execution_count": 47,
     "metadata": {},
     "output_type": "execute_result"
    }
   ],
   "source": [
    "df[['Sí', 'No', 'Total']] / total"
   ]
  },
  {
   "cell_type": "code",
   "execution_count": 48,
   "id": "11c4ba34",
   "metadata": {},
   "outputs": [
    {
     "data": {
      "text/plain": [
       "0.18478260869565216"
      ]
     },
     "execution_count": 48,
     "metadata": {},
     "output_type": "execute_result"
    }
   ],
   "source": [
    "170 / 920"
   ]
  },
  {
   "cell_type": "code",
   "execution_count": 29,
   "id": "387f70ca",
   "metadata": {},
   "outputs": [
    {
     "data": {
      "text/plain": [
       "0.6666666666666667"
      ]
     },
     "execution_count": 29,
     "metadata": {},
     "output_type": "execute_result"
    }
   ],
   "source": [
    "pA = 0.5\n",
    "pB = 0.6\n",
    "pAB = 0.4\n",
    "\n",
    "# Probabilidad de A dado B\n",
    "pAB/pB"
   ]
  },
  {
   "cell_type": "code",
   "execution_count": null,
   "id": "1893e998",
   "metadata": {},
   "outputs": [],
   "source": []
  },
  {
   "cell_type": "markdown",
   "id": "73f8f6fc",
   "metadata": {},
   "source": [
    "$P(A | B) = \\frac{P(A \\cap B)}{P(B)}$"
   ]
  },
  {
   "cell_type": "code",
   "execution_count": 5,
   "id": "c54de397",
   "metadata": {},
   "outputs": [
    {
     "data": {
      "text/plain": [
       "0.8"
      ]
     },
     "execution_count": 5,
     "metadata": {},
     "output_type": "execute_result"
    }
   ],
   "source": [
    "# Probabilidad de B dado A: 0.4 / 0.5\n",
    "\n",
    "pAB / pA"
   ]
  },
  {
   "cell_type": "code",
   "execution_count": 6,
   "id": "ecc2fed7",
   "metadata": {},
   "outputs": [
    {
     "data": {
      "text/plain": [
       "0.3"
      ]
     },
     "execution_count": 6,
     "metadata": {},
     "output_type": "execute_result"
    }
   ],
   "source": [
    "pA * pB"
   ]
  },
  {
   "cell_type": "code",
   "execution_count": 7,
   "id": "ae5a6d9e",
   "metadata": {},
   "outputs": [],
   "source": [
    "pA_ = 0.3\n",
    "pB_ = 0.4"
   ]
  },
  {
   "cell_type": "code",
   "execution_count": 9,
   "id": "0de92a20",
   "metadata": {},
   "outputs": [
    {
     "data": {
      "text/plain": [
       "0.12"
      ]
     },
     "execution_count": 9,
     "metadata": {},
     "output_type": "execute_result"
    }
   ],
   "source": [
    "# Son excluyentes\n",
    "\n",
    "pA_ * pB_"
   ]
  },
  {
   "cell_type": "code",
   "execution_count": 10,
   "id": "4fdd6cdf",
   "metadata": {},
   "outputs": [
    {
     "data": {
      "text/plain": [
       "0.159375"
      ]
     },
     "execution_count": 10,
     "metadata": {},
     "output_type": "execute_result"
    }
   ],
   "source": [
    "(30/80) * (34/80)"
   ]
  },
  {
   "cell_type": "code",
   "execution_count": 11,
   "id": "fe21b675",
   "metadata": {},
   "outputs": [
    {
     "data": {
      "text/plain": [
       "0.390625"
      ]
     },
     "execution_count": 11,
     "metadata": {},
     "output_type": "execute_result"
    }
   ],
   "source": [
    "50/80 * 50/80"
   ]
  },
  {
   "cell_type": "code",
   "execution_count": 12,
   "id": "eba36246",
   "metadata": {},
   "outputs": [
    {
     "data": {
      "text/plain": [
       "0.16139240506329114"
      ]
     },
     "execution_count": 12,
     "metadata": {},
     "output_type": "execute_result"
    }
   ],
   "source": [
    "(30/80) * (34/79)"
   ]
  },
  {
   "cell_type": "code",
   "execution_count": 13,
   "id": "db83e96e",
   "metadata": {},
   "outputs": [
    {
     "data": {
      "text/plain": [
       "0.3876582278481012"
      ]
     },
     "execution_count": 13,
     "metadata": {},
     "output_type": "execute_result"
    }
   ],
   "source": [
    "(50/80) * (49/79)"
   ]
  },
  {
   "cell_type": "markdown",
   "id": "4e693d1f",
   "metadata": {},
   "source": [
    "(menor a 40, entre 40 y 50) o (entre 40 y 50, menor a 40)"
   ]
  },
  {
   "cell_type": "code",
   "execution_count": 14,
   "id": "bb31143d",
   "metadata": {},
   "outputs": [
    {
     "data": {
      "text/plain": [
       "0.16139240506329114"
      ]
     },
     "execution_count": 14,
     "metadata": {},
     "output_type": "execute_result"
    }
   ],
   "source": [
    "# menor a 40, entre 40 y 50\n",
    "(30/80) * (34/79)"
   ]
  },
  {
   "cell_type": "code",
   "execution_count": 15,
   "id": "bd1ad8d1",
   "metadata": {},
   "outputs": [
    {
     "data": {
      "text/plain": [
       "0.16139240506329114"
      ]
     },
     "execution_count": 15,
     "metadata": {},
     "output_type": "execute_result"
    }
   ],
   "source": [
    "# entre 40 y 50, menor a 40\n",
    "(34/80) * (30/79)"
   ]
  },
  {
   "cell_type": "code",
   "execution_count": 16,
   "id": "4d2ee7b4",
   "metadata": {},
   "outputs": [
    {
     "data": {
      "text/plain": [
       "0.3227848101265823"
      ]
     },
     "execution_count": 16,
     "metadata": {},
     "output_type": "execute_result"
    }
   ],
   "source": [
    "(30/80) * (34/79) + (34/80) * (30/79)"
   ]
  },
  {
   "cell_type": "code",
   "execution_count": null,
   "id": "f47f02b1",
   "metadata": {},
   "outputs": [],
   "source": []
  }
 ],
 "metadata": {
  "kernelspec": {
   "display_name": "Python 3 (ipykernel)",
   "language": "python",
   "name": "python3"
  },
  "language_info": {
   "codemirror_mode": {
    "name": "ipython",
    "version": 3
   },
   "file_extension": ".py",
   "mimetype": "text/x-python",
   "name": "python",
   "nbconvert_exporter": "python",
   "pygments_lexer": "ipython3",
   "version": "3.9.13"
  }
 },
 "nbformat": 4,
 "nbformat_minor": 5
}
