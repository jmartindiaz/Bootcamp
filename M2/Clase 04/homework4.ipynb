{
 "cells": [
  {
   "attachments": {},
   "cell_type": "markdown",
   "metadata": {},
   "source": [
    "## Homework <br> "
   ]
  },
  {
   "attachments": {},
   "cell_type": "markdown",
   "metadata": {},
   "source": [
    "1. Considera el experimento que consiste en un empleado que arma un producto.\n",
    "  - a. Defina la variable aleatoria que represente el tiempo en minutos requerido para armar el producto.<br>\n",
    "  - b. ¿Qué valores toma la variable aleatoria?<br>\n",
    "  - c. ¿Es una variable aleatoria discreta o continua?<br>\n"
   ]
  },
  {
   "cell_type": "code",
   "execution_count": 1,
   "metadata": {},
   "outputs": [],
   "source": [
    "# a,b y c\n",
    "## Definimos la variable T que representa el tiempo en minutos que tarda un empleado en armar el producto\n",
    "## Puede tomar valores desde 0 hasta MAS infinito,no numeros negativos porque el tiempo no se puede medir en terminos\n",
    "## negativos.\n",
    "# es una variable CONTINUA, ya que podemos tomar valores decimales de la variable, como por ejemplo, 1 minuto y medio etc."
   ]
  },
  {
   "attachments": {},
   "cell_type": "markdown",
   "metadata": {},
   "source": [
    "2. Considera el experimento que consiste en lanzar una moneda dos veces.\n",
    "  - a. Enumere los resultados experimentales.\n",
    "  - b. Defina una variable aleatoria que represente el número de caras en los dos lanzamientos.\n",
    "  - c. Dé el valor que la variable aleatoria tomará en cada uno de los resultados experimentales.\n",
    "  - d. ¿Es una variable aleatoria discreta o continua?"
   ]
  },
  {
   "attachments": {},
   "cell_type": "markdown",
   "metadata": {},
   "source": [
    "# a. \n",
    "2^2 = 4 resultados posibles\n",
    "S = {(H,H), (H,T), (T,H), (T,T)}\n",
    "\n",
    "# b y c.  \n",
    "(H,H) = 2 \n",
    "(H,T) = 1\n",
    "(T,H) = 1\n",
    "(T,T) = 0\n",
    "\n",
    "# d. \n",
    "es una variable aleatoria discreta, discretizamos nuestro espacio muestral"
   ]
  },
  {
   "attachments": {},
   "cell_type": "markdown",
   "metadata": {},
   "source": [
    "3. Considera las decisiones de compra de los próximos tres clientes que lleguen a la tienda de ropa Martin Clothing Store. De acuerdo con la experiencia, el gerente de la tienda estima que la probabilidad de que un cliente realice una compra es 0.30. \n",
    "  - a. Describa si cumple con las reglas para clasificarlo como un experimiento binomial.\n",
    "  - b. ¿Cuál es la probabilidad de que dos de los próximos tres clientes realicen una compra?\n",
    "  - c. ¿Cuál es la probabilidad de que cuatro de los próximos diez clientes realicen una compra?"
   ]
  },
  {
   "attachments": {},
   "cell_type": "markdown",
   "metadata": {},
   "source": [
    "a. Si porque cumple con las propiedades:\n",
    "- El expermiento consiste en una serie de n ensayos, en este caso n=3\n",
    "- En cada ensayo hay dos resultados posibles, compra o no compra\n",
    "- Los ensayos son independientes, es decir no consideramos la no reposicion de los productos.\n",
    "- La probabilidad de que se compre no cambia de un ensayo a otro, lo mismo ocurre con la probabilidad de que no se compre"
   ]
  },
  {
   "attachments": {},
   "cell_type": "markdown",
   "metadata": {},
   "source": [
    "b. compra = 1, no compra = 0\n",
    "Tenemos 2^3=8 resultados posibles.\n",
    "\n",
    "S = {(1,1,1),(1,1,0),(1,0,1),(0,1,1),(1,0,0),(0,1,0),(0,0,1),(0,0,0)}\n",
    "\n",
    "Discretizamos nuestro espacio muestral:\n",
    "(1,1,1) = 3\n",
    "(1,1,0) = 2\n",
    "(1,0,1) = 2\n",
    "(0,1,1) = 2\n",
    "(1,0,0) = 1\n",
    "(0,1,0) = 1\n",
    "(0,0,1) = 1\n",
    "(0,0,0) = 0"
   ]
  },
  {
   "cell_type": "code",
   "execution_count": 2,
   "metadata": {},
   "outputs": [],
   "source": [
    "def factorial(n):\n",
    "    if (n == 0):\n",
    "        return 1\n",
    "    else:\n",
    "        factorial = 1\n",
    "        for i in range(1,n+1):\n",
    "            factorial *= i\n",
    "        return factorial\n",
    "    \n",
    "def binomial(n, exitos, p_exitos):\n",
    "    coef = factorial(n)/(factorial(exitos) * factorial(n-exitos))\n",
    "    p_fracasos = 1 - p_exitos\n",
    "    prob_binomial = coef * (p_exitos ** exitos) * (p_fracasos ** (n-exitos))\n",
    "\n",
    "    return prob_binomial\n"
   ]
  },
  {
   "cell_type": "code",
   "execution_count": 3,
   "metadata": {},
   "outputs": [
    {
     "data": {
      "text/plain": [
       "0.189"
      ]
     },
     "execution_count": 3,
     "metadata": {},
     "output_type": "execute_result"
    }
   ],
   "source": [
    "# b.\n",
    "binomial(3, 2, 0.3)"
   ]
  },
  {
   "cell_type": "code",
   "execution_count": 4,
   "metadata": {},
   "outputs": [
    {
     "data": {
      "text/plain": [
       "0.2001209489999999"
      ]
     },
     "execution_count": 4,
     "metadata": {},
     "output_type": "execute_result"
    }
   ],
   "source": [
    "# c.\n",
    "binomial(10 , 4 , 0.3)"
   ]
  },
  {
   "attachments": {},
   "cell_type": "markdown",
   "metadata": {},
   "source": [
    "4.  A la oficina de reservaciones de una aerolínea regional llegan 48 llamadas por hora.\n",
    "- a. Calcule la probabilidad de recibir cinco llamadas en un lapso de 5 minutos.\n",
    "- b. Estime la probabilidad de recibir exactamente 10 llamadas en un lapso de 15 minutos.\n",
    "- c. Suponga que no hay ninguna llamada en espera. Si el agente de viajes necesitará 5 minutos para la llamada que está atendiendo, ¿cuántas llamadas habrá en espera para cuando él termine? ¿Cuál es la probabilidad de que no haya ninguna llamada en espera?\n",
    "- d. Si en este momento no hay ninguna llamada, ¿cuál es la probabilidad de que el agente de viajes pueda tomar 3 minutos de descanso sin ser interrumpido por una llamada?"
   ]
  },
  {
   "attachments": {},
   "cell_type": "markdown",
   "metadata": {},
   "source": [
    "Cumple con las propiedades de sr un experimento de Poisson, ya que:\n",
    "\n",
    "- La P de ocurrencia es la misma para dos intervalos cualesquiera de la misma magnitud. Es decir, desde las 10 a las 11 hs\n",
    "habra 48 llamados y desde las 23 a las 00 hs habra 48 llamados.\n",
    "- Los ensayos son independientes, al igual que en los experimentos binomiales, la ocurrencia/no ocurrencia en cualquier intervalo es independiente de la ocurrencia/no ocurrencia en cualquier otro intervalo."
   ]
  },
  {
   "cell_type": "code",
   "execution_count": 8,
   "metadata": {},
   "outputs": [],
   "source": [
    "from math import e, factorial\n",
    "from statistics import NormalDist\n",
    "\n",
    "def poisson (mu, x):\n",
    "    prob_poisson = ((mu**x)*(e**(-mu)))/factorial(x)\n",
    "    return prob_poisson"
   ]
  },
  {
   "cell_type": "code",
   "execution_count": 10,
   "metadata": {},
   "outputs": [
    {
     "data": {
      "text/plain": [
       "0.15629345185053173"
      ]
     },
     "execution_count": 10,
     "metadata": {},
     "output_type": "execute_result"
    }
   ],
   "source": [
    "# a.\n",
    "mu = 48\n",
    "# si la media en 1 hora es de 48 llamadas, entonces, en 5 minutos la media sera(le aplico regla de 3 a la media)\n",
    "nuevo_mu = (48/60)*5\n",
    "poisson (nuevo_mu, 5)"
   ]
  },
  {
   "cell_type": "code",
   "execution_count": 13,
   "metadata": {},
   "outputs": [
    {
     "data": {
      "text/plain": [
       "0.1048372558836594"
      ]
     },
     "execution_count": 13,
     "metadata": {},
     "output_type": "execute_result"
    }
   ],
   "source": [
    "# b.\n",
    "u = (48/60)*15\n",
    "poisson(u,10)"
   ]
  },
  {
   "cell_type": "code",
   "execution_count": null,
   "metadata": {},
   "outputs": [],
   "source": [
    "# c. "
   ]
  }
 ],
 "metadata": {
  "kernelspec": {
   "display_name": "Python 3",
   "language": "python",
   "name": "python3"
  },
  "language_info": {
   "codemirror_mode": {
    "name": "ipython",
    "version": 3
   },
   "file_extension": ".py",
   "mimetype": "text/x-python",
   "name": "python",
   "nbconvert_exporter": "python",
   "pygments_lexer": "ipython3",
   "version": "3.11.1"
  },
  "orig_nbformat": 4
 },
 "nbformat": 4,
 "nbformat_minor": 2
}
