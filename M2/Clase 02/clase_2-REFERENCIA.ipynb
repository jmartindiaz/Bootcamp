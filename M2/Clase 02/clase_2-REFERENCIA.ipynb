{
 "cells": [
  {
   "cell_type": "code",
   "execution_count": 28,
   "id": "a328bfe6",
   "metadata": {},
   "outputs": [],
   "source": [
    "import numpy as np\n",
    "import pandas as pd\n",
    "import math"
   ]
  },
  {
   "cell_type": "markdown",
   "id": "78b718df",
   "metadata": {},
   "source": [
    "## Introducción a la teoría de probabilidad\n",
    "\n",
    "- Las probabilidades son una medida del grado de incertidumbre asociado con cada uno de los eventos previamente enunciados.\n",
    "\n",
    "- Los valores de probabilidad se encuentran en una escala de 0 a 1. \n",
    "\n",
    "- La **teoría de probabilidades** permite construir modelos matemáticos de los fenómenos. Estos **modelos** se clasifican en:\n",
    "    - Determinísticos.\n",
    "    - Probabilísticos."
   ]
  },
  {
   "cell_type": "markdown",
   "id": "3eaf9453",
   "metadata": {},
   "source": [
    "## Modelos determinísticos.\n",
    "\n",
    "Cuando se realiza el modelo matemático de un fenómeno y en este se pueden manejar los factores que intervienen en su estudio con el propósito de predecir sus resultados, se llamará modelo determinístico.\n",
    "\n",
    "Ejemplo: Cuando tenemos una inversión $c$ a una tasa $r$, podemos calcular su **Valor Futuro**. \n",
    "\n",
    "El modelo es **determinístico**, puesto que tiene una inversión fija $c$ a una tasa fija $r$; por tanto, es posible predecir el resultado que ocurrirá al cabo de $n$ años mediante el uso de la siguiente fórmula:\n",
    "\n",
    "$$ C_{n} = C_{0} \\times (1 + r)^{n}$$"
   ]
  },
  {
   "cell_type": "code",
   "execution_count": 29,
   "id": "5580c333",
   "metadata": {},
   "outputs": [
    {
     "name": "stdout",
     "output_type": "stream",
     "text": [
      "176319.36921600008\n"
     ]
    }
   ],
   "source": [
    "#Función de interes compuesto\n",
    "def interes(capitalInicial,i,n):\n",
    "    valorFinal = capitalInicial*(1+i)**n\n",
    "    return valorFinal\n",
    "\n",
    "#Valore de cálculo\n",
    "capital = 120000\n",
    "i= 0.08\n",
    "n = 5\n",
    " #Implementación\n",
    "print(interes(capital,i,n))"
   ]
  },
  {
   "cell_type": "markdown",
   "id": "275bb718",
   "metadata": {},
   "source": [
    "## Modelos probabilisticos.\n",
    "\n",
    "En los modelos probabilisticos no es posible predecir sus resultados.\n",
    "\n",
    "- En el lanzamiento de una moneda equilibrada 10 veces no podemos predecir el resultado que va a ocurrir en el siguiente lanzamiento.\n",
    "- En una línea de producción, al realizar el control de calidad de los artículos se detecta cierta cantidad de productos defectuosos; no es posible determinar por anticipado si un artículo en particular será defectuoso (sólo su probabilidad).\n",
    "\n",
    "## Experimentos.\n",
    "\n",
    "Al reproducir cualquier fenómeno, ya sea de manera determinística o probabilística, estamos experimentando.\n",
    "\n",
    "Llamaremos experimento aleatorio al proceso de obtención de una observación en que se cumple alguna de las siguientes condiciones: \n",
    "    a) Todos los resultados posibles son conocidos. \n",
    "    b) Antes de realizar el experimento el resultado es desconocido. \n",
    "    c) Es posible repetir el experimento en condiciones ideales."
   ]
  },
  {
   "cell_type": "markdown",
   "id": "8b717e24",
   "metadata": {},
   "source": [
    "## Espacio muestral:\n",
    "\n",
    "El **espacio muestral** es el conjunto de todos los resultados posibles de un experimento, la colección de todos los posibles eventos. La forma en que se subdivide el espacio muestral depende del tipo de probabilidades que se va a determinar.\n",
    "\n",
    "#### Ejemplos:\n",
    "\n",
    "1) Arrojar una moneda: Cara, ceca (cruz)  \n",
    "2) Arrojar un dado: 1, 2, 3, 4, 5, 6  \n",
    "3) Sacar una carta de un mazo de poker: \n",
    "\n",
    "![poker](img/poker.jpg)\n",
    "\n",
    "Hay varias formas alternativas de observar un espacio muestral:\n",
    "\n",
    "- Clasificación cruzada de los eventos en una tabla llamada tabla de contingencias o tabla de probabilidad.\n",
    "- Representación gráfica de los diversos eventos como uniones o intersecciones de círculos en un diagrama de Venn.\n",
    "\n",
    "Una tabla de contingencia es aquella en la que las filas figuran todos los resultados posibles de una de las características de la variable y en columnas todos los resultados posibles de otra característica de la variable, y en cada celda figura los sucesos o eventos conjuntos.\n",
    "La tabla de contingencias o probabilidades ofrece una representación clara del número de posibles resultados de la variable pertinente, en especial si hay dos o más sucesos o eventos que se consideran simultáneamente.\n",
    "\n",
    "![tabla](img/tablaest.png)"
   ]
  },
  {
   "cell_type": "markdown",
   "id": "ce8c98ef",
   "metadata": {},
   "source": [
    "Un **diagrama de Venn** es una segunda forma de presentar un espacio muestral. Es un diagrama asociado con la teoría de conjuntos de las matemáticas en el cual se describen los eventos que pueden ocurrir en una observación o experimento en particular. Una figura cerrada representa el espacio muestral, mientras que porciones del área, dentro del espacio representan eventos simples o compuestos particulares. En el diagrama se representan gráficamente los eventos como “uniones” o “intersecciones” de círculos.\n",
    "\n",
    "![Venn](img/Venn.png)"
   ]
  },
  {
   "cell_type": "markdown",
   "id": "7d0c4dc5",
   "metadata": {},
   "source": [
    "## Reglas de conteo, combinaciones y permutaciones\n",
    "\n",
    "Al asignar probabilidades es necesario saber identificar y contar los resultados experimentales.\n",
    "A continuación tres reglas de conteo que son muy utilizadas.\n",
    "\n",
    "### Experimentos de pasos múltiples\n",
    "\n",
    "La primera regla de conteo sirve para experimentos de pasos múltiples. Considere un experimento que consiste en lanzar dos monedas. Defina los resultados experimentales en términos de las caras y cruces que se observan en las dos monedas. ¿Cuántos resultados experimentales tiene este experimento? El experimento de lanzar dos monedas es un experimento de dos pasos: el paso 1 es lanzar la primera moneda y el paso 2 es lanzar la segunda moneda. Si se emplea H para denotar cara y T para denotar cruz, (H, H) será el resultado experimental en el que se tiene cara en la primera moneda y cara en la segunda moneda. Si continúa con esta notación, el espacio muestral (S) en este experimento del lanzamiento de monedas será el siguiente:\n",
    "\n",
    "![exp](img/resulexp.png)\n",
    "\n",
    "\n",
    "Por tanto, hay cuatro resultados experimentales. En este caso es fácil enumerar todos los resultados experimentales. La regla de conteo para experimentos de pasos múltiples permite determinar el número de resultados experimentales sin tener que enumerarlos.\n",
    "Si considera el experimento del lanzamiento de dos monedas como la sucesión de lanzar primero una moneda y después lanzar la otra, siguiendo la regla de conteo (2)(2) = 4, entonces hay cuatro resultados distintos. El número de resultados experimentales de seis monedas es (2)(2)(2)(2)(2)(2) = 64.\n",
    "\n",
    "Si el experimento consistiera en arrojar una moneda (H, T) y un dado (1, 2, 3, 4, 5, 6), las posibilidades son (H, 1), (H, 2), ..., (H, 6), (T, 1), (T, 2), ..., (T, 6).\n",
    "\n",
    "Es decir, hay dos opciones para la moneda y para cada una de estas dos opciones hay seis posibilidades para el dado.\n",
    "\n",
    "De esta manera, las posibilidades son $2 \\times 6 = 12$\n",
    "\n",
    "En general, para una serie de $N$ pasos en los que cada paso tiene $m_{i}$ posibilidades, tenemos:\n",
    "\n",
    "\n",
    "$$\\prod_{i=1}^{N} x_{i} = x_{1} \\times x_{2} \\times ... \\times x_{N}$$"
   ]
  },
  {
   "cell_type": "code",
   "execution_count": 30,
   "id": "82395d7a",
   "metadata": {},
   "outputs": [],
   "source": [
    "def resultados_posibles(dimension_espacios_muestrales):\n",
    "    resultado = 1\n",
    "    for i in dimension_espacios_muestrales:\n",
    "        resultado *= i\n",
    "    return resultado"
   ]
  },
  {
   "cell_type": "code",
   "execution_count": 31,
   "id": "0ff9f3b5",
   "metadata": {},
   "outputs": [
    {
     "data": {
      "text/plain": [
       "4"
      ]
     },
     "execution_count": 31,
     "metadata": {},
     "output_type": "execute_result"
    }
   ],
   "source": [
    "resultados_posibles([2, 2])"
   ]
  },
  {
   "cell_type": "code",
   "execution_count": 32,
   "id": "9e5f106f",
   "metadata": {},
   "outputs": [
    {
     "data": {
      "text/plain": [
       "12"
      ]
     },
     "execution_count": 32,
     "metadata": {},
     "output_type": "execute_result"
    }
   ],
   "source": [
    "resultados_posibles([2, 6])"
   ]
  },
  {
   "cell_type": "code",
   "execution_count": 33,
   "id": "5e035811",
   "metadata": {},
   "outputs": [
    {
     "data": {
      "text/plain": [
       "1024"
      ]
     },
     "execution_count": 33,
     "metadata": {},
     "output_type": "execute_result"
    }
   ],
   "source": [
    "resultados_posibles([2, 2, 2, 2, 2, 2, 2, 2, 2, 2])"
   ]
  },
  {
   "cell_type": "code",
   "execution_count": 34,
   "id": "eea3e053",
   "metadata": {},
   "outputs": [
    {
     "data": {
      "text/plain": [
       "1024"
      ]
     },
     "execution_count": 34,
     "metadata": {},
     "output_type": "execute_result"
    }
   ],
   "source": [
    "np.prod([2, 2, 2, 2, 2, 2, 2, 2, 2, 2])"
   ]
  },
  {
   "cell_type": "markdown",
   "id": "fba3d53b",
   "metadata": {},
   "source": [
    "## Permutaciones\n",
    "\n",
    "Supongamos que tengo 3 objetos, A, B y C, quiero elegir 2 de esos tres objetos y ordenarlos. ¿Cuántas posibilidades tengo?\n",
    "\n",
    "Para comenzar, puedo elegir cualquiera de los tres:\n",
    "\n",
    "- A\n",
    "- B\n",
    "- C\n",
    "\n",
    "Como segundo objeto solamente tengo 2 opciones. Por ejemplo, si elegí primero A, el segundo objeto puede ser B o C. Mis seis posibilidades, entonces, son:\n",
    "\n",
    "- (A, B)\n",
    "- (A, C)\n",
    "- (B, A)\n",
    "- (B, C)\n",
    "- (C, A)\n",
    "- (C, B)\n",
    "\n",
    "Si tengo 5 elementos y los voy eligiendo de a uno, en el primer paso tengo 5 opciones, en el segundo 4, en el tercero 3, etc.\n",
    "\n",
    "Esto me da la fórmula: $5 \\times 4 \\times 3 \\times 2 \\times 1 = 5! = 120$\n",
    "\n",
    "Si sólo elijo 2 objetos entre 5, en el primer paso tengo 5 opciones y en el segundo, 4. Es decir, $5 \\times 4$\n",
    "\n",
    "Quedan 3 objetos que no elegí, que a su vez podrían haberme dado $3 \\times 2 \\times 1$ posibilidades más\n",
    "\n",
    "- Tengo 5 elementos que me dan 120 órdenes posibles. \n",
    "- De esos 5, elijo 2, que me dan $5 \\times 4 = 20$ posibiles ordenamientos\n",
    "- Descarto $5 - 2 = 3$ elementos que me dan $3 \\times 2 \\times 1 = 6$ posibilidades\n",
    "\n",
    "Para reconstruir las 120 posibilidades, debería combinar cada una de mis $5 \\times 4 = 20$ posibilidades entre los dos objetos elegidos con las $3! = 6$ posibilidades entre los tres objetos descartados. Eso me da un total de $5 \\times 4 \\times 3 \\times 2 \\times 1 = 5! = 120$.\n",
    "\n",
    "Es decir, $120 = 5! = 5 \\times 4 \\times 3!$\n",
    "\n",
    "Si divido ambos lados por $3!$, obtengo $\\frac{5!}{3!} = 20$\n",
    "\n",
    "El número $3!$ lo obtuve de los $5 - 2 = 3$ elementos que descarté. Por lo tanto, la fórmula para este caso es:\n",
    "\n",
    "$$permutaciones = \\frac{5!}{(5 - 2)!} = 20$$\n",
    "\n",
    "y, en general, si tengo $N$ elementos de los cuales quiero elegir $k$ para ordenar, el número de permutaciones es:\n",
    "\n",
    "$$permutaciones = \\frac{N!}{(N - k)!}$$"
   ]
  },
  {
   "cell_type": "code",
   "execution_count": 35,
   "id": "545d856d",
   "metadata": {},
   "outputs": [],
   "source": [
    "def factorial(n):\n",
    "    if n == 0:\n",
    "        return 1\n",
    "    else:\n",
    "        while n >= 0:\n",
    "            return n*factorial(n-1)"
   ]
  },
  {
   "cell_type": "code",
   "execution_count": 46,
   "id": "25ef7429",
   "metadata": {},
   "outputs": [
    {
     "data": {
      "text/plain": [
       "120"
      ]
     },
     "execution_count": 46,
     "metadata": {},
     "output_type": "execute_result"
    }
   ],
   "source": [
    "factorial(5)"
   ]
  },
  {
   "cell_type": "code",
   "execution_count": 37,
   "id": "9d90584d",
   "metadata": {},
   "outputs": [
    {
     "data": {
      "text/plain": [
       "120"
      ]
     },
     "execution_count": 37,
     "metadata": {},
     "output_type": "execute_result"
    }
   ],
   "source": [
    "math.factorial(5)"
   ]
  },
  {
   "cell_type": "code",
   "execution_count": 40,
   "id": "e996465e",
   "metadata": {},
   "outputs": [],
   "source": [
    "def permutaciones(N, k):\n",
    "    return factorial(N) // factorial(N - k)"
   ]
  },
  {
   "cell_type": "code",
   "execution_count": 50,
   "id": "0dcaec98",
   "metadata": {},
   "outputs": [
    {
     "data": {
      "text/plain": [
       "20"
      ]
     },
     "execution_count": 50,
     "metadata": {},
     "output_type": "execute_result"
    }
   ],
   "source": [
    "permutaciones(5, 2)"
   ]
  },
  {
   "cell_type": "code",
   "execution_count": 83,
   "id": "1ee6d7fa",
   "metadata": {},
   "outputs": [
    {
     "data": {
      "text/plain": [
       "60"
      ]
     },
     "execution_count": 83,
     "metadata": {},
     "output_type": "execute_result"
    }
   ],
   "source": [
    "permutaciones(5, 3)"
   ]
  },
  {
   "cell_type": "markdown",
   "id": "793e4721",
   "metadata": {},
   "source": [
    "## Combinaciones\n",
    "\n",
    "Ahora bien, ¿qué pasa si quiero elegir k elementos entre N disponibles pero no importa el orden.\n",
    "\n",
    "Vimos que si tengo 3 objetos, A, B y C, y quiero elegir 2, tengo 6 posibilidades. \n",
    "\n",
    "Sin embargo, si el orden no importa, las opciones (A, B) y (B, A), (A, C) y (C, A) y (B, C) y (C, B) no deberían contarse como diferentes. Por lo tanto, ahora ya no tengo 6 posibilidades sino 3.\n",
    "\n",
    "De la misma manera, si tengo 5 elementos, A, B, C, D y E y elijo de a 3, tengo 60 **permutaciones** pero hay $3! = 6$ repeticiones del trío compuesto por las letras A, B y C, por ejemplo: (A, B, C), (A, C, B), (B, A, C), (B, C, A), (C, A, B), (C, B, A). Lo mismo ocurre para las otras combinaciones de letras.\n",
    "\n",
    "De esta manera, debemos eliminar esas repeticiones. Las permutaciones son:\n",
    "\n",
    "$$P_{3}^{5} = \\frac{5!}{(5 - 3)!} = 60$$\n",
    "\n",
    "Pero, dado que, en este caso, cada una está repetida $3! = 6$ veces, dividimos el número de permutaciones por esa cantidad de repeticiones y obtenemos:\n",
    "\n",
    "$$C_{3}^{5} = \\frac{ P_{3}^{5}}{3!} =  \\frac{5!}{3!(5 - 3)!} = 10 $$\n",
    "\n",
    "En general, el número de combinaciones es:\n",
    "\n",
    "$$C_{k}^{N} = \\frac{ P_{k}^{N}}{k!} =  \\frac{N!}{k!(N - k)!}$$"
   ]
  },
  {
   "cell_type": "code",
   "execution_count": 94,
   "id": "192bb47a",
   "metadata": {},
   "outputs": [],
   "source": [
    "def combinaciones(N, k):\n",
    "    return factorial(N) // (factorial(k) * factorial(N - k))"
   ]
  },
  {
   "cell_type": "code",
   "execution_count": 95,
   "id": "490cf61a",
   "metadata": {},
   "outputs": [
    {
     "data": {
      "text/plain": [
       "15"
      ]
     },
     "execution_count": 95,
     "metadata": {},
     "output_type": "execute_result"
    }
   ],
   "source": [
    "combinaciones(6, 4)"
   ]
  },
  {
   "cell_type": "markdown",
   "id": "0862345b",
   "metadata": {},
   "source": [
    "## Interpretaciones de la probabilidad.\n",
    "\n",
    "No existe una forma única de **asignación de probabilidades**.\n",
    "\n",
    "Recuerda estas reglas generales a la hora de asiganr probabilidades:\n",
    "\n",
    "    - La probabilidad asignada a cada resultado experimental debe estar entre 0 y 1, inclusive.\n",
    "    - La suma de las probabilidades de los resultados experimentales debe ser igual a 1.0."
   ]
  },
  {
   "cell_type": "markdown",
   "id": "08038b08",
   "metadata": {},
   "source": [
    "## Corriente clásica\n",
    "\n",
    "Si se consideran **espacios muestrales uniformes**, es decir, cada resultado posible, cada elemento del espacio muestral, tiene la misma probabilidad. \n",
    "\n",
    "De esta manera, las probabilidad de un suceso es el cociente entre el número de casos del suceso y el número total de casos del experimento.\n",
    "\n",
    "Si lanzamos una **moneda al aire**, tenemos dos resultados posibles: H o T. \n",
    "\n",
    "Como la suma de las probabilidades para todos los eventos posibles tiene que ser 1 y se asume que cada evento tiene la misma probabilidad:\n",
    "    - la probabilidad de obtener H es 0.5\n",
    "    - la probabilidad de obtener T es 0.5\n",
    "\n",
    "Si lanzamos un dado, cada lado tiene una probailidad de obtener cada lado es de 0.16666, (1/6) * 6 = 1."
   ]
  },
  {
   "cell_type": "markdown",
   "id": "87a3d33c",
   "metadata": {},
   "source": [
    "## Corriente frecuentista\n",
    "\n",
    "¿Qué pasa si los eventos no tienen la misma probabilidad pero no sabemos cuál le corresponde a cada uno?\n",
    "\n",
    "Podemos repetir un experimento y tomar nota de la **frecuencia relativa** que obtenemos para cada elemento del espacio muestral.\n",
    "\n",
    "Por ejemplo, si tenemos un dado cargado, podemos tirar el dado muchas veces y registrar qué numero sale. Calculamos la frecuencia relativa: el cociente entre la cantidad de veces que salió un número y la cantidad total de datos que tenemos.\n",
    "\n",
    "La probabilidad de cada evento, por lo tanto, está relacionada con esa frecuencia y, bajo ciertas condiciones, la frecuencia y la probabilidad serán muy parecidas.\n",
    "\n",
    "No es posible repetir una gran cantidad de veces algunos fenómenos, por ejemplo:\n",
    "\n",
    "    a) Para calcular la probabilidad de que el lanzamiento de un cohete resulte exitoso, evidentemente no es posible realizar una gran cantidad de lanzamientos de cohetes; por tanto, la probabilidad se obtiene en forma frecuentista del éxito de un lanzamiento.\n",
    "\n",
    "    b) ¿Cómo calcular la probabilidad de que Manuel viva 70 años? ¿Cuáles serían las repeticiones?\n",
    "\n",
    "    c) Para calcular la probabilidad de que Juan Pérez se case este año, tampoco podemos realizar una gran cantidad de repeticiones del experimento."
   ]
  },
  {
   "cell_type": "markdown",
   "id": "0db45d78",
   "metadata": {},
   "source": [
    "### Ejemplo\n",
    "\n",
    "Considere, por ejemplo un estudio sobre los **tiempos de espera en el departamento de rayos x** de un hospital pequeño. \n",
    "\n",
    "Durante **20 días** (N) sucesivos un empleado registra el **número de personas** que están esperando el servicio a las 9:00 a.m.; los resultados son los siguientes:\n",
    "\n",
    "N = 20 (días)\n",
    "S = {0, 1, 2, 3, 4} (Cantidad de pacientes a las 9:00 A.M.\n",
    "\n",
    "Frecuencias observadas:\n",
    "\n",
    "O pacientes --> 2/20  \n",
    "1 pacientes --> 5/20  \n",
    "2 pacientes --> 6/20  \n",
    "3 pacientes --> 4/20  \n",
    "4 pacientes --> 3/20\n",
    "\n",
    "Con el método de la frecuencia relativa, la probabilidad que se le asignará a cada resultado experimental para pacientes esperan el servicio, será:\n",
    "\n",
    "prob(O) = 2/20 = 0.10  \n",
    "prob(1) = 5/20 = 0.25  \n",
    "prob(2) = 6/20 = 0.30  \n",
    "prob(3) = 4/20 = 0.20  \n",
    "prob(4) = 3/20 = 0.15  \n",
    "\n",
    "La suma total de las probilidades es igual a 1."
   ]
  },
  {
   "cell_type": "markdown",
   "id": "ae844057",
   "metadata": {},
   "source": [
    "## Corriente subjetivista:\n",
    "\n",
    "En la corriente subjetivista (interpretación de la probabilidad que es muy empleada en el estudio del análisis de decisiones) se asignan probabilidades a eventos basándose en el conocimiento o experiencia que cada persona tiene sobre el experimento; por tanto, la probabilidad asignada está sujeta al conocimiento que el científico tenga con respecto al fenómeno estudiado. De este modo, para un mismo experimento las probabilidades asignadas por diferentes personas pueden ser distintas.\n",
    "\n",
    "Por ejemplo, si en una empresa se está programando la logística de distribución de material final, la asignación de probabilidad de que los recorridos se realicen con éxito al no tener información de datos históricos, se puede asignar de forma subjetiva."
   ]
  },
  {
   "cell_type": "markdown",
   "id": "f4c24faf",
   "metadata": {},
   "source": [
    "## Corriente bayesiana:\n",
    "\n",
    "En la corriente bayesiana se asignan probabilidades a los eventos después del experimento. Es decir, la asignación de probabilidades está basada en el conocimiento de la ocurrencia de eventos que estén en dependencia con el evento de estudio. Por ejemplo, si queremos asignar una probabilidad al evento de que el día 3 de septiembre llueva y tenemos la siguiente información:\n",
    "\n",
    "a) Los días 1 y 2 de septiembre no llovió. b) Los días 1 y 2 de septiembre llegó un huracán a 400 kilómetros de distancia y llovió ambos días.\n",
    "Es obvio suponer que la asignación de probabilidades en ambos casos es muy diferente, ya que tenemos información que hace cambiar nuestra asignación de probabilidades. En tal situación decimos que la información obtenida influyó en la asignación de probabilidades."
   ]
  },
  {
   "cell_type": "markdown",
   "id": "3e45d55e",
   "metadata": {},
   "source": [
    "## El Espacio de muestreo:\n",
    "\n",
    "Se expresa con la letra S y consiste en el conjunto de **todos los resultados posibles de un experimento**. \n",
    "\n",
    "- Si el experimento consiste en el **lanzamiento de una moneda**, entonces el espacio de muestreo será\n",
    "\n",
    "$$S= {H, T}$$\n",
    "\n",
    "\n",
    "\n",
    "- Si en lugar de considerar el lanzamiento de una moneda, **lanzamos dos monedas**\n",
    "\n",
    "$$S = {H-T, T-H, H-H, T-T}$$"
   ]
  },
  {
   "cell_type": "markdown",
   "id": "060f070b",
   "metadata": {},
   "source": [
    "## Problema:\n",
    "\n",
    "**Situación 1 - La coincidencia de cumpleaños**:\n",
    "Vamos a una fiesta a la que concurren un total de 50 personas. Allí un amigo nos desafía afirmando que en la fiesta debe haber por lo menos 2 personas que cumplen años el mismo día y nos apuesta 100 pesos a que está en lo correcto. Es decir, que si él acierta deberíamos pagarle los 100 pesos; o en caso contrario, el nos pagará los 100 pesos. ¿Deberíamos aceptar la apuesta?\n",
    "\n",
    "\n",
    "#### Solución\n",
    "\n",
    "Supongamos que el grupo sólo tiene **una persona**, en ese caso, hay una **probabilidad del 100%** (p = 1) que esta persona **no comparte** un cumpleaños puesto que no hay nadie más quien compartir. \n",
    "\n",
    "Podemos añadir una **segunda persona** al grupo. ¿Cuáles son las **posibilidades de que tenga un cumpleaños diferente** de esa persona? Hay 364 otros días en el año, así que las posibilidades son **364/365**. \n",
    "\n",
    "Agregamos una **tercera persona** al grupo, ahora hay 363/365 días. \n",
    "\n",
    "Para obtener la **probabilidad general de que no hay cumpleaños compartidos** entre $n$ personas simplemente multiplicamos las probabilidades individuales.\n",
    "\n",
    "$$prob(no exista) = \\frac{365}{365} \\times \\frac{364}{365} \\times \\frac{363}{365} \\times ... \\times \\frac{365 - n + 1}{365}$$\n",
    "\n",
    "La probabilidad de que existan dos personas que cumplan años en la misma fecha es $1 - prob(no existan)$"
   ]
  },
  {
   "cell_type": "code",
   "execution_count": 96,
   "id": "c9322d42",
   "metadata": {},
   "outputs": [
    {
     "name": "stdout",
     "output_type": "stream",
     "text": [
      "Probabilidad de que compartan una misma fecha de cumpleaños es 0.51\n"
     ]
    }
   ],
   "source": [
    "prob = 1.0\n",
    "asistentes = 23\n",
    "\n",
    "for i in range(asistentes):\n",
    "    prob = prob * (365-i)/365\n",
    "\n",
    "print(\"Probabilidad de que compartan una misma fecha de cumpleaños es {0:.2f}\"\n",
    "      .format(1 - prob))"
   ]
  },
  {
   "cell_type": "code",
   "execution_count": null,
   "id": "3cdde6f3",
   "metadata": {},
   "outputs": [],
   "source": []
  }
 ],
 "metadata": {
  "kernelspec": {
   "display_name": "Python 3 (ipykernel)",
   "language": "python",
   "name": "python3"
  },
  "language_info": {
   "codemirror_mode": {
    "name": "ipython",
    "version": 3
   },
   "file_extension": ".py",
   "mimetype": "text/x-python",
   "name": "python",
   "nbconvert_exporter": "python",
   "pygments_lexer": "ipython3",
   "version": "3.9.13"
  }
 },
 "nbformat": 4,
 "nbformat_minor": 5
}
