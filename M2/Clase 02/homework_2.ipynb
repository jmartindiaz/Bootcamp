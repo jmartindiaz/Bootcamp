{
 "cells": [
  {
   "cell_type": "markdown",
   "id": "e7bac9ff",
   "metadata": {},
   "source": [
    "# Homework\n",
    "\n",
    "Utilizando Python cálcular las siguientes probabilidades. Para cada uno intenta determinar que método aplicaste.\n",
    "\n",
    "1. Lanza una moneda al aire 10 veces, ¿cuantos resultados posibles forman parte del espacio muestral?.\n",
    "2. En un aeropuerto se tiene a 10 pasajeros esperando en la sala de preembarque, la polícia debe controlar a 3 de ellos. ¿Cuantas combinaciones posibles se pueden obtener?.\n",
    "2. La Agencia Nacional de Seguridad Vial realizó una investigación para saber si los conductores de están usando sus cinturones de seguridad. Los datos muestrales fueron los siguientes:\n",
    "Conductores que emplean el cinturón\n",
    "![Ejercicio](img/ejercicio3.png)\n",
    "\n",
    "    a) ¿Qué metodo cree que se utilizo para asignar probabilidades?.\n",
    "    \n",
    "    b) Construya un cuadro similar, pero con la asignación de probabilidades.\n",
    "    \n",
    "    c) ¿Cuál sería el mejor método pára estimar la probabilidad de que en Estados Unidos un conductor lleve puesto el cinturón?.\n",
    "    \n",
    "    d) Un año antes, la probabilidad en Argentina de que un conductor llevara puesto el cinturón era 0.75. El director de ANSV, se esperaba que la probabilidad llegara a 0.78. ¿Estará satisfecho con los resultados del estudio? (Utilizar tabla adjunta ![Ejercicio](img/ejercicio3.png)\n",
    "    \n",
    "    e) ¿Cuál es la probabilidad de que se use el cinturón en las distintas regiones del país? ¿En qué región se usa más el cinturón?(Utilizar misma tabla que el ejercicio anterior).\n",
    "\n",
    "4. Crear una funcion que permita calcular a probabilidad de los siguientes eventos en un baraja de 52 cartas.\n",
    "    - Obtener una carta roja.\n",
    "    - Obtener una carta negra.\n",
    "    - Obtener una pica.\n",
    "    - Obtener un trébol.\n",
    "    - Obtener un corazón.\n",
    "    - Obtener un diamante.\n",
    "5. La probabilidad de que salga un 7 o un 8 al seleccionar una carta de una baraja de las 52 cartas que contiene el mazo.\n",
    "6. La probabilidad de que tu país gane el mundial de fútbol.\n",
    "7. Un experimento que tiene tres resultados es repetido 50 veces y se ve que E1 aparece 20 veces, E2 13 veces y E3 17 veces. Asigne probabilidades a los resultados.\n",
    "\n",
    "## Desafíos complementarios\n",
    "\n",
    "### Investiga e intenta resolver los siguientes ejercicios\n",
    "\n",
    "Si la probabilidad de que un cliente pague en efectivo (E) es 6/15, con tarjeta de crédito (TD) es 7/15 y con tarjeta de débito (TD) es 2/15. Hallar la probabilidad de que dos clientes sucesivos que pagan sus cuentas lo hagan:\n",
    "\n",
    "a) el primero en efectivo y el segundo con tarjeta de crédito.\n",
    "\n",
    "b) Los dos clientes en efectivo\n",
    "\n",
    "La probabilidad de que un Henry repruebe el M1 de 0.8, de que apruebe M2 es 0.5 y de que repruebe el M3 es de 0.4.\n",
    "(Los eventos no interfieren entre si)\n",
    "\n",
    "![Tabla](img/probhenry.png)\n",
    "\n",
    "Determinar la probabilidad de que:\n",
    "\n",
    "a) Apruebe un módulo.\n",
    "\n",
    "b) Repruebe las tres materias."
   ]
  },
  {
   "cell_type": "code",
   "execution_count": null,
   "id": "b0606420",
   "metadata": {},
   "outputs": [],
   "source": []
  }
 ],
 "metadata": {
  "kernelspec": {
   "display_name": "Python 3 (ipykernel)",
   "language": "python",
   "name": "python3"
  },
  "language_info": {
   "codemirror_mode": {
    "name": "ipython",
    "version": 3
   },
   "file_extension": ".py",
   "mimetype": "text/x-python",
   "name": "python",
   "nbconvert_exporter": "python",
   "pygments_lexer": "ipython3",
   "version": "3.9.13"
  }
 },
 "nbformat": 4,
 "nbformat_minor": 5
}
