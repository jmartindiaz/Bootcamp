{
 "cells": [
  {
   "cell_type": "markdown",
   "id": "e7bac9ff",
   "metadata": {},
   "source": [
    "# Homework\n",
    "\n",
    "Utilizando Python cálcular las siguientes probabilidades. Para cada uno intenta determinar que método aplicaste.\n",
    "\n",
    "1. Lanza una moneda al aire 10 veces, ¿cuantos resultados posibles forman parte del espacio muestral?.\n",
    "2. En un aeropuerto se tiene a 10 pasajeros esperando en la sala de preembarque, la polícia debe controlar a 3 de ellos. ¿Cuantas combinaciones posibles se pueden obtener?.\n",
    "2. La Agencia Nacional de Seguridad Vial realizó una investigación para saber si los conductores de están usando sus cinturones de seguridad. Los datos muestrales fueron los siguientes:\n",
    "Conductores que emplean el cinturón\n",
    "![Ejercicio](img/ejercicio3.png)\n",
    "\n",
    "    a) ¿Qué metodo cree que se utilizo para asignar probabilidades?.\n",
    "    \n",
    "    b) Construya un cuadro similar, pero con la asignación de probabilidades.\n",
    "    \n",
    "    c) ¿Cuál sería el mejor método pára estimar la probabilidad de que en Estados Unidos un conductor lleve puesto el cinturón?.\n",
    "    \n",
    "    d) Un año antes, la probabilidad en Argentina de que un conductor llevara puesto el cinturón era 0.75. El director de ANSV, se esperaba que la probabilidad llegara a 0.78. ¿Estará satisfecho con los resultados del estudio? (Utilizar tabla adjunta ![Ejercicio](img/ejercicio3.png)\n",
    "    \n",
    "    e) ¿Cuál es la probabilidad de que se use el cinturón en las distintas regiones del país? ¿En qué región se usa más el cinturón?(Utilizar misma tabla que el ejercicio anterior).\n",
    "\n",
    "4. Crear una funcion que permita calcular a probabilidad de los siguientes eventos en un baraja de 52 cartas.\n",
    "    - Obtener una carta roja.\n",
    "    - Obtener una carta negra.\n",
    "    - Obtener una pica.\n",
    "    - Obtener un trébol.\n",
    "    - Obtener un corazón.\n",
    "    - Obtener un diamante.\n",
    "5. La probabilidad de que salga un 7 o un 8 al seleccionar una carta de una baraja de las 52 cartas que contiene el mazo.\n",
    "6. La probabilidad de que tu país gane el mundial de fútbol.\n",
    "7. Un experimento que tiene tres resultados es repetido 50 veces y se ve que E1 aparece 20 veces, E2 13 veces y E3 17 veces. Asigne probabilidades a los resultados.\n",
    "\n",
    "## Desafíos complementarios\n",
    "\n",
    "### Investiga e intenta resolver los siguientes ejercicios\n",
    "\n",
    "Si la probabilidad de que un cliente pague en efectivo (E) es 6/15, con tarjeta de crédito (TD) es 7/15 y con tarjeta de débito (TD) es 2/15. Hallar la probabilidad de que dos clientes sucesivos que pagan sus cuentas lo hagan:\n",
    "\n",
    "a) el primero en efectivo y el segundo con tarjeta de crédito.\n",
    "\n",
    "b) Los dos clientes en efectivo\n",
    "\n",
    "La probabilidad de que un Henry repruebe el M1 de 0.8, de que apruebe M2 es 0.5 y de que repruebe el M3 es de 0.4.\n",
    "(Los eventos no interfieren entre si)\n",
    "\n",
    "![Tabla](img/probhenry.png)\n",
    "\n",
    "Determinar la probabilidad de que:\n",
    "\n",
    "a) Apruebe un módulo.\n",
    "\n",
    "b) Repruebe las tres materias."
   ]
  },
  {
   "cell_type": "code",
   "execution_count": 1,
   "id": "b0606420",
   "metadata": {},
   "outputs": [],
   "source": [
    "import math\n",
    "import numpy as np\n",
    "import pandas as pd"
   ]
  },
  {
   "cell_type": "code",
   "execution_count": 2,
   "id": "0e14d0a9",
   "metadata": {},
   "outputs": [],
   "source": [
    "# Lanza una moneda al aire 10 veces, ¿cuantos resultados posibles forman parte del espacio muestral?.\n",
    "\n",
    "moneda = ['H', 'T']\n",
    "cantidad_de_monedas = 10"
   ]
  },
  {
   "cell_type": "code",
   "execution_count": 3,
   "id": "b2f34d02",
   "metadata": {},
   "outputs": [],
   "source": [
    "def resultados_posibles(moneda, cantidad):\n",
    "    return len(moneda)**cantidad"
   ]
  },
  {
   "cell_type": "code",
   "execution_count": 4,
   "id": "23860e24",
   "metadata": {},
   "outputs": [
    {
     "data": {
      "text/plain": [
       "1024"
      ]
     },
     "execution_count": 4,
     "metadata": {},
     "output_type": "execute_result"
    }
   ],
   "source": [
    "resultados_posibles(moneda, cantidad_de_monedas)"
   ]
  },
  {
   "cell_type": "code",
   "execution_count": 5,
   "id": "e8e487d2",
   "metadata": {},
   "outputs": [],
   "source": [
    "# En un aeropuerto se tiene a 10 pasajeros esperando en la sala de preembarque, N = 10\n",
    "# la polícia debe controlar a 3 de ellos. ¿Cuantas combinaciones posibles se pueden obtener?.\n",
    "\n",
    "personas_en_fila = 10\n",
    "personas_a_controlar = 3"
   ]
  },
  {
   "cell_type": "code",
   "execution_count": 6,
   "id": "5a661927",
   "metadata": {},
   "outputs": [],
   "source": [
    "def combinaciones(N, k):\n",
    "    return math.factorial(N) // (math.factorial(k) * math.factorial(N - k))"
   ]
  },
  {
   "cell_type": "code",
   "execution_count": 7,
   "id": "1862e8c5",
   "metadata": {},
   "outputs": [
    {
     "data": {
      "text/plain": [
       "120"
      ]
     },
     "execution_count": 7,
     "metadata": {},
     "output_type": "execute_result"
    }
   ],
   "source": [
    "combinaciones(personas_en_fila, personas_a_controlar)"
   ]
  },
  {
   "cell_type": "code",
   "execution_count": 8,
   "id": "5d74fd07",
   "metadata": {},
   "outputs": [],
   "source": [
    "df_dict = {\n",
    "    \"Región\": ['Norte', 'Noreste', 'Sur', 'Centro'],\n",
    "    \"Sí\": [148, 162, 296, 252],\n",
    "    \"No\": [52, 54, 74, 48]\n",
    "}"
   ]
  },
  {
   "cell_type": "code",
   "execution_count": 9,
   "id": "718b9378",
   "metadata": {},
   "outputs": [],
   "source": [
    "df_conductores = pd.DataFrame(df_dict)"
   ]
  },
  {
   "cell_type": "code",
   "execution_count": 11,
   "id": "c42e5367",
   "metadata": {},
   "outputs": [
    {
     "data": {
      "text/html": [
       "<div>\n",
       "<style scoped>\n",
       "    .dataframe tbody tr th:only-of-type {\n",
       "        vertical-align: middle;\n",
       "    }\n",
       "\n",
       "    .dataframe tbody tr th {\n",
       "        vertical-align: top;\n",
       "    }\n",
       "\n",
       "    .dataframe thead th {\n",
       "        text-align: right;\n",
       "    }\n",
       "</style>\n",
       "<table border=\"1\" class=\"dataframe\">\n",
       "  <thead>\n",
       "    <tr style=\"text-align: right;\">\n",
       "      <th></th>\n",
       "      <th>Región</th>\n",
       "      <th>Sí</th>\n",
       "      <th>No</th>\n",
       "    </tr>\n",
       "  </thead>\n",
       "  <tbody>\n",
       "    <tr>\n",
       "      <th>0</th>\n",
       "      <td>Norte</td>\n",
       "      <td>148</td>\n",
       "      <td>52</td>\n",
       "    </tr>\n",
       "    <tr>\n",
       "      <th>1</th>\n",
       "      <td>Noreste</td>\n",
       "      <td>162</td>\n",
       "      <td>54</td>\n",
       "    </tr>\n",
       "    <tr>\n",
       "      <th>2</th>\n",
       "      <td>Sur</td>\n",
       "      <td>296</td>\n",
       "      <td>74</td>\n",
       "    </tr>\n",
       "    <tr>\n",
       "      <th>3</th>\n",
       "      <td>Centro</td>\n",
       "      <td>252</td>\n",
       "      <td>48</td>\n",
       "    </tr>\n",
       "  </tbody>\n",
       "</table>\n",
       "</div>"
      ],
      "text/plain": [
       "    Región   Sí  No\n",
       "0    Norte  148  52\n",
       "1  Noreste  162  54\n",
       "2      Sur  296  74\n",
       "3   Centro  252  48"
      ]
     },
     "execution_count": 11,
     "metadata": {},
     "output_type": "execute_result"
    }
   ],
   "source": [
    "df_conductores"
   ]
  },
  {
   "cell_type": "code",
   "execution_count": 12,
   "id": "62bf3b75",
   "metadata": {},
   "outputs": [
    {
     "data": {
      "text/plain": [
       "1086"
      ]
     },
     "execution_count": 12,
     "metadata": {},
     "output_type": "execute_result"
    }
   ],
   "source": [
    "np.sum(np.array(df_conductores[['Sí', 'No']]))"
   ]
  },
  {
   "cell_type": "code",
   "execution_count": 13,
   "id": "7fdf6ad5",
   "metadata": {},
   "outputs": [],
   "source": [
    "def probabilidades(df):\n",
    "    total = np.sum(np.array(df_conductores[['Sí', 'No']]))\n",
    "    df['prob_si'] = df['Sí'] / total\n",
    "    df['prob_no'] = df['No'] / total\n",
    "    return df"
   ]
  },
  {
   "cell_type": "code",
   "execution_count": 38,
   "id": "96e30858",
   "metadata": {},
   "outputs": [
    {
     "data": {
      "text/html": [
       "<div>\n",
       "<style scoped>\n",
       "    .dataframe tbody tr th:only-of-type {\n",
       "        vertical-align: middle;\n",
       "    }\n",
       "\n",
       "    .dataframe tbody tr th {\n",
       "        vertical-align: top;\n",
       "    }\n",
       "\n",
       "    .dataframe thead th {\n",
       "        text-align: right;\n",
       "    }\n",
       "</style>\n",
       "<table border=\"1\" class=\"dataframe\">\n",
       "  <thead>\n",
       "    <tr style=\"text-align: right;\">\n",
       "      <th></th>\n",
       "      <th>Región</th>\n",
       "      <th>Sí</th>\n",
       "      <th>No</th>\n",
       "      <th>prob_si</th>\n",
       "      <th>prob_no</th>\n",
       "    </tr>\n",
       "  </thead>\n",
       "  <tbody>\n",
       "    <tr>\n",
       "      <th>0</th>\n",
       "      <td>Norte</td>\n",
       "      <td>148</td>\n",
       "      <td>52</td>\n",
       "      <td>0.136280</td>\n",
       "      <td>0.047882</td>\n",
       "    </tr>\n",
       "    <tr>\n",
       "      <th>1</th>\n",
       "      <td>Noreste</td>\n",
       "      <td>162</td>\n",
       "      <td>54</td>\n",
       "      <td>0.149171</td>\n",
       "      <td>0.049724</td>\n",
       "    </tr>\n",
       "    <tr>\n",
       "      <th>2</th>\n",
       "      <td>Sur</td>\n",
       "      <td>296</td>\n",
       "      <td>74</td>\n",
       "      <td>0.272560</td>\n",
       "      <td>0.068140</td>\n",
       "    </tr>\n",
       "    <tr>\n",
       "      <th>3</th>\n",
       "      <td>Centro</td>\n",
       "      <td>252</td>\n",
       "      <td>48</td>\n",
       "      <td>0.232044</td>\n",
       "      <td>0.044199</td>\n",
       "    </tr>\n",
       "  </tbody>\n",
       "</table>\n",
       "</div>"
      ],
      "text/plain": [
       "    Región   Sí  No   prob_si   prob_no\n",
       "0    Norte  148  52  0.136280  0.047882\n",
       "1  Noreste  162  54  0.149171  0.049724\n",
       "2      Sur  296  74  0.272560  0.068140\n",
       "3   Centro  252  48  0.232044  0.044199"
      ]
     },
     "execution_count": 38,
     "metadata": {},
     "output_type": "execute_result"
    }
   ],
   "source": [
    "probabilidades(df_conductores)"
   ]
  },
  {
   "cell_type": "code",
   "execution_count": 39,
   "id": "bf56630f",
   "metadata": {},
   "outputs": [
    {
     "data": {
      "text/plain": [
       "0.74"
      ]
     },
     "execution_count": 39,
     "metadata": {},
     "output_type": "execute_result"
    }
   ],
   "source": [
    "148/200"
   ]
  },
  {
   "cell_type": "code",
   "execution_count": 40,
   "id": "75154736",
   "metadata": {},
   "outputs": [
    {
     "data": {
      "text/plain": [
       "0.26"
      ]
     },
     "execution_count": 40,
     "metadata": {},
     "output_type": "execute_result"
    }
   ],
   "source": [
    "52/200"
   ]
  },
  {
   "cell_type": "code",
   "execution_count": null,
   "id": "b12a21ac",
   "metadata": {},
   "outputs": [],
   "source": []
  },
  {
   "cell_type": "code",
   "execution_count": 15,
   "id": "dd83d1ff",
   "metadata": {},
   "outputs": [
    {
     "data": {
      "text/plain": [
       "1.0"
      ]
     },
     "execution_count": 15,
     "metadata": {},
     "output_type": "execute_result"
    }
   ],
   "source": [
    "np.sum(np.array(df_conductores[['prob_si', 'prob_no']]))"
   ]
  },
  {
   "cell_type": "code",
   "execution_count": 16,
   "id": "3844e417",
   "metadata": {},
   "outputs": [
    {
     "data": {
      "text/plain": [
       "0.7900552486187845"
      ]
     },
     "execution_count": 16,
     "metadata": {},
     "output_type": "execute_result"
    }
   ],
   "source": [
    "858/1086"
   ]
  },
  {
   "cell_type": "code",
   "execution_count": 17,
   "id": "e43b2eb3",
   "metadata": {},
   "outputs": [
    {
     "data": {
      "text/plain": [
       "0.7900552486187845"
      ]
     },
     "execution_count": 17,
     "metadata": {},
     "output_type": "execute_result"
    }
   ],
   "source": [
    "df_conductores['prob_si'].sum()"
   ]
  },
  {
   "cell_type": "code",
   "execution_count": 22,
   "id": "ccc2f68a",
   "metadata": {},
   "outputs": [],
   "source": [
    "def probabilidad_cartas(dato):\n",
    "    cartas = 52\n",
    "    color  = 26\n",
    "    categoria=13\n",
    "    if (dato == 'rojo' or dato == 'negro'):\n",
    "        return color / cartas\n",
    "    elif dato in ('pica', 'trebol', 'corazon', 'diamante'):\n",
    "        return categoria / cartas\n",
    "    else:\n",
    "        print('No existe esa carta')"
   ]
  },
  {
   "cell_type": "code",
   "execution_count": 24,
   "id": "f2f88dda",
   "metadata": {},
   "outputs": [
    {
     "data": {
      "text/plain": [
       "0.25"
      ]
     },
     "execution_count": 24,
     "metadata": {},
     "output_type": "execute_result"
    }
   ],
   "source": [
    "probabilidad_cartas('trebol')"
   ]
  },
  {
   "cell_type": "code",
   "execution_count": 25,
   "id": "1b538c3f",
   "metadata": {},
   "outputs": [
    {
     "name": "stdout",
     "output_type": "stream",
     "text": [
      "E1: 0.4\n",
      "E2:  0.26\n",
      "E3: 0.34\n"
     ]
    }
   ],
   "source": [
    "#Un experimento que tiene tres resultados es repetido 50 veces y se ve que E1 aparece 20 veces, \n",
    "# E2 13 veces y E3 17 veces. Asigne probabilidades a los resultados.\n",
    "\n",
    "cantidad_datos = 50\n",
    "e1 = 20\n",
    "e2 = 13\n",
    "e3 = 17\n",
    "\n",
    "p_e1 = e1 / cantidad_datos\n",
    "p_e2 = e2 / cantidad_datos\n",
    "p_e3 = e3 / cantidad_datos\n",
    "\n",
    "print(\"E1:\", p_e1)\n",
    "print(\"E2: \", p_e2)\n",
    "print(\"E3:\", p_e3)"
   ]
  },
  {
   "cell_type": "markdown",
   "id": "681f0c46",
   "metadata": {},
   "source": [
    "Si la probabilidad de que un cliente pague en efectivo (E) es 6/15, con tarjeta de crédito (TD) es 7/15 y con tarjeta de débito (TD) es 2/15. Hallar la probabilidad de que dos clientes sucesivos que pagan sus cuentas lo hagan:\n",
    "\n",
    "a) el primero en efectivo y el segundo con tarjeta de crédito.\n",
    "\n",
    "b) Los dos clientes en efectivo"
   ]
  },
  {
   "cell_type": "code",
   "execution_count": 26,
   "id": "6e1de318",
   "metadata": {},
   "outputs": [],
   "source": [
    "p_e = 6/15\n",
    "p_c = 7/15\n",
    "p_d = 2/15"
   ]
  },
  {
   "cell_type": "code",
   "execution_count": 27,
   "id": "bc954289",
   "metadata": {},
   "outputs": [
    {
     "data": {
      "text/plain": [
       "0.18666666666666668"
      ]
     },
     "execution_count": 27,
     "metadata": {},
     "output_type": "execute_result"
    }
   ],
   "source": [
    "p_e * p_c"
   ]
  },
  {
   "cell_type": "code",
   "execution_count": 28,
   "id": "4d69bdde",
   "metadata": {},
   "outputs": [
    {
     "data": {
      "text/plain": [
       "0.16000000000000003"
      ]
     },
     "execution_count": 28,
     "metadata": {},
     "output_type": "execute_result"
    }
   ],
   "source": [
    "p_e * p_e"
   ]
  },
  {
   "cell_type": "markdown",
   "id": "1a558137",
   "metadata": {},
   "source": [
    "(A, A, A), (A, A, D), (A, D, A), (D, A, A), (D, A, D), (D, D, A), (D, D, D), (A, D, D)"
   ]
  },
  {
   "cell_type": "markdown",
   "id": "3bac8460",
   "metadata": {},
   "source": [
    "(A, D, D) = 0.2 * 0.5 * 0.4\n",
    "\n",
    "(D, A, D) = 0.8 * 0.5 * 0.4\n",
    "\n",
    "(D, D, A) = 0.8 * 0.5 * 0.6"
   ]
  },
  {
   "cell_type": "code",
   "execution_count": 32,
   "id": "b1099450",
   "metadata": {},
   "outputs": [
    {
     "data": {
      "text/plain": [
       "0.04000000000000001"
      ]
     },
     "execution_count": 32,
     "metadata": {},
     "output_type": "execute_result"
    }
   ],
   "source": [
    "0.2 * 0.5 * 0.4"
   ]
  },
  {
   "cell_type": "code",
   "execution_count": 33,
   "id": "63055ead",
   "metadata": {},
   "outputs": [
    {
     "data": {
      "text/plain": [
       "0.16000000000000003"
      ]
     },
     "execution_count": 33,
     "metadata": {},
     "output_type": "execute_result"
    }
   ],
   "source": [
    "0.8 * 0.5 * 0.4"
   ]
  },
  {
   "cell_type": "code",
   "execution_count": 34,
   "id": "38abcf75",
   "metadata": {},
   "outputs": [
    {
     "data": {
      "text/plain": [
       "0.24"
      ]
     },
     "execution_count": 34,
     "metadata": {},
     "output_type": "execute_result"
    }
   ],
   "source": [
    "0.8 * 0.5 * 0.6"
   ]
  },
  {
   "cell_type": "code",
   "execution_count": 35,
   "id": "812c8c2a",
   "metadata": {},
   "outputs": [
    {
     "data": {
      "text/plain": [
       "0.44000000000000006"
      ]
     },
     "execution_count": 35,
     "metadata": {},
     "output_type": "execute_result"
    }
   ],
   "source": [
    "0.04000000000000001 + 0.16000000000000003 + 0.24"
   ]
  },
  {
   "cell_type": "markdown",
   "id": "42380e41",
   "metadata": {},
   "source": [
    "(D, D, D) = 0.8 * 0.5 * 0.4"
   ]
  },
  {
   "cell_type": "code",
   "execution_count": 36,
   "id": "0dc9f1d1",
   "metadata": {},
   "outputs": [
    {
     "data": {
      "text/plain": [
       "0.16000000000000003"
      ]
     },
     "execution_count": 36,
     "metadata": {},
     "output_type": "execute_result"
    }
   ],
   "source": [
    "0.8 * 0.5 * 0.4"
   ]
  },
  {
   "cell_type": "code",
   "execution_count": null,
   "id": "9d6e12f1",
   "metadata": {},
   "outputs": [],
   "source": []
  }
 ],
 "metadata": {
  "kernelspec": {
   "display_name": "Python 3 (ipykernel)",
   "language": "python",
   "name": "python3"
  },
  "language_info": {
   "codemirror_mode": {
    "name": "ipython",
    "version": 3
   },
   "file_extension": ".py",
   "mimetype": "text/x-python",
   "name": "python",
   "nbconvert_exporter": "python",
   "pygments_lexer": "ipython3",
   "version": "3.9.13"
  }
 },
 "nbformat": 4,
 "nbformat_minor": 5
}
