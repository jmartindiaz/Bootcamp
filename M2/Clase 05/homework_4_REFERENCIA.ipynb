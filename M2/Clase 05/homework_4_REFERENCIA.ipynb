{
 "cells": [
  {
   "cell_type": "code",
   "execution_count": 133,
   "id": "2c98666e",
   "metadata": {},
   "outputs": [],
   "source": [
    "import numpy as np\n",
    "import matplotlib.pyplot as plt\n",
    "from scipy import stats\n",
    "from math import e, factorial"
   ]
  },
  {
   "cell_type": "markdown",
   "id": "a57dc045",
   "metadata": {},
   "source": [
    "1. Considera el experimento que consiste en un empleado que arma un producto.\n",
    "\n",
    "    a. Defina la variable aleatoria que represente el tiempo en minutos requerido para armar el producto.\n",
    "\n",
    "    b. ¿Qué valores toma la variable aleatoria?\n",
    "\n",
    "    c. ¿Es una variable aleatoria discreta o continua?"
   ]
  },
  {
   "cell_type": "code",
   "execution_count": null,
   "id": "c8c41435",
   "metadata": {},
   "outputs": [],
   "source": []
  },
  {
   "cell_type": "markdown",
   "id": "d0d05a58",
   "metadata": {},
   "source": [
    "2. Considera el experimento que consiste en lanzar una moneda dos veces.\n",
    "\n",
    "    a. Enumere los resultados experimentales.\n",
    "\n",
    "    b. Defina una variable aleatoria que represente el número de caras en los dos lanzamientos.\n",
    "    \n",
    "    c. Dé el valor que la variable aleatoria tomará en cada uno de los resultados experimentales.\n",
    "    \n",
    "    d. ¿Es una variable aleatoria discreta o continua?"
   ]
  },
  {
   "cell_type": "markdown",
   "id": "f80ac9d3",
   "metadata": {},
   "source": [
    "3. Considera las decisiones de compra de los próximos tres clientes que lleguen a la tienda de ropa Martin Clothing Store. De acuerdo con la experiencia, el gerente de la tienda estima que la probabilidad de que un cliente realice una compra es 0.30.\n",
    "\n",
    "    a. Describa si cumple con las reglas para clasificarlo como un experimiento binomial.\n",
    "    \n",
    "    b. ¿Cuál es la probabilidad de que dos de los próximos tres clientes realicen una compra?\n",
    "    \n",
    "    c. ¿Cuál es la probabilidad de que cuatro de los próximos diez clientes realicen una compra?"
   ]
  },
  {
   "cell_type": "code",
   "execution_count": 140,
   "id": "19d9eb28",
   "metadata": {},
   "outputs": [],
   "source": [
    "def binomial(k, n, p):\n",
    "    num_eventos = factorial(n)\n",
    "    num_exitos = factorial(k) * factorial(n - k)\n",
    "    exitos_fracaso = pow(p, k) * pow(1 - p, (n - k))\n",
    "    \n",
    "    binomial = (num_eventos / num_exitos) * exitos_fracaso\n",
    "    \n",
    "    return binomial"
   ]
  },
  {
   "cell_type": "code",
   "execution_count": 141,
   "id": "e03c63b3",
   "metadata": {},
   "outputs": [
    {
     "data": {
      "text/plain": [
       "0.189"
      ]
     },
     "execution_count": 141,
     "metadata": {},
     "output_type": "execute_result"
    }
   ],
   "source": [
    "binomial(2, 3, 0.3)"
   ]
  },
  {
   "cell_type": "code",
   "execution_count": 142,
   "id": "dd2e36dd",
   "metadata": {},
   "outputs": [
    {
     "data": {
      "text/plain": [
       "0.20012094899999994"
      ]
     },
     "execution_count": 142,
     "metadata": {},
     "output_type": "execute_result"
    }
   ],
   "source": [
    "binomial(4, 10, 0.3)"
   ]
  },
  {
   "cell_type": "markdown",
   "id": "4e320ddf",
   "metadata": {},
   "source": [
    "4. A la oficina de reservaciones de una aerolínea regional llegan 48 llamadas por hora.\n",
    "    \n",
    "    a. Calcule la probabilidad de recibir cinco llamadas en un lapso de 5 minutos.\n",
    "    \n",
    "    b. Estime la probabilidad de recibir exactamente 10 llamadas en un lapso de 15 minutos.\n",
    "    \n",
    "    c. Suponga que no hay ninguna llamada en espera. Si el agente de viajes necesitará 5 minutos para la llamada que está atendiendo, ¿cuántas llamadas habrá en espera para cuando él termine? ¿Cuál es la probabilidad de que no haya ninguna llamada en espera?\n",
    "    \n",
    "    d. Si en este momento no hay ninguna llamada, ¿cuál es la probabilidad de que el agente de viajes pueda tomar 3 minutos de descanso sin ser interrumpido por una llamada?"
   ]
  },
  {
   "cell_type": "code",
   "execution_count": 143,
   "id": "79971de9",
   "metadata": {},
   "outputs": [],
   "source": [
    "def poisson(lambda_, k):\n",
    "    probabilidad = pow(lambda_, k) * pow(e, -lambda_) / factorial(k)\n",
    "    return probabilidad"
   ]
  },
  {
   "cell_type": "code",
   "execution_count": 144,
   "id": "3f4004e2",
   "metadata": {},
   "outputs": [
    {
     "data": {
      "text/plain": [
       "0.15629345185053173"
      ]
     },
     "execution_count": 144,
     "metadata": {},
     "output_type": "execute_result"
    }
   ],
   "source": [
    "poisson(4, 5)"
   ]
  },
  {
   "cell_type": "code",
   "execution_count": 146,
   "id": "e05463ce",
   "metadata": {},
   "outputs": [
    {
     "data": {
      "text/plain": [
       "0.1048372558836594"
      ]
     },
     "execution_count": 146,
     "metadata": {},
     "output_type": "execute_result"
    }
   ],
   "source": [
    "# lambda = 12\n",
    "# k = 10\n",
    "\n",
    "poisson(12, 10)"
   ]
  },
  {
   "cell_type": "code",
   "execution_count": 148,
   "id": "5a9557e7",
   "metadata": {},
   "outputs": [
    {
     "data": {
      "text/plain": [
       "0.018315638888734186"
      ]
     },
     "execution_count": 148,
     "metadata": {},
     "output_type": "execute_result"
    }
   ],
   "source": [
    "poisson(4, 0)"
   ]
  },
  {
   "cell_type": "code",
   "execution_count": 149,
   "id": "68bfe92d",
   "metadata": {},
   "outputs": [
    {
     "data": {
      "text/plain": [
       "0.09071795328941253"
      ]
     },
     "execution_count": 149,
     "metadata": {},
     "output_type": "execute_result"
    }
   ],
   "source": [
    "# lambda = 2.4\n",
    "# k = 0\n",
    "\n",
    "poisson(2.4, 0)"
   ]
  },
  {
   "cell_type": "markdown",
   "id": "cabb6213",
   "metadata": {},
   "source": [
    "5. En una encuesta realizada por Gallup Organization, se les preguntó a los interrogados, “Cuál es el deporte que prefieres ver”. Futbol y básquetbol ocuparon el primero y segundo lugar de preferencia (www.gallup.com, 3 de enero de 2004). Si en un grupo de 10 individuos, siete prefieren futbol y tres prefieren básquetbol. Se toma una muestra aleatoria de tres de estas personas.\n",
    "\n",
    "    a. ¿Cuál es la probabilidad de que exactamente dos prefieren el futbol?\n",
    "\n",
    "    b. ¿De que la mayoría (ya sean dos o tres) prefiere el futbol?"
   ]
  },
  {
   "cell_type": "code",
   "execution_count": 150,
   "id": "a341ea72",
   "metadata": {},
   "outputs": [],
   "source": [
    "def hipergeometrica(N, r, n, x):\n",
    "    rx = factorial(r)/(factorial(x)*factorial(r-x))\n",
    "    Nrnx = factorial(N-r)/(factorial(n-x) * factorial((N-r) - (n-x)))\n",
    "    Nn = factorial(N)/(factorial(n) * (factorial(N - n)))\n",
    "    \n",
    "    return (rx * Nrnx)/Nn"
   ]
  },
  {
   "cell_type": "code",
   "execution_count": 152,
   "id": "c2f7b27c",
   "metadata": {},
   "outputs": [
    {
     "data": {
      "text/plain": [
       "0.525"
      ]
     },
     "execution_count": 152,
     "metadata": {},
     "output_type": "execute_result"
    }
   ],
   "source": [
    "hipergeometrica(10, 7, 3, 2)"
   ]
  },
  {
   "cell_type": "code",
   "execution_count": 154,
   "id": "ca21c242",
   "metadata": {},
   "outputs": [
    {
     "data": {
      "text/plain": [
       "0.2916666666666667"
      ]
     },
     "execution_count": 154,
     "metadata": {},
     "output_type": "execute_result"
    }
   ],
   "source": [
    "hipergeometrica(10, 7, 3, 3)"
   ]
  },
  {
   "cell_type": "code",
   "execution_count": 155,
   "id": "11094d36",
   "metadata": {},
   "outputs": [
    {
     "data": {
      "text/plain": [
       "0.8166666666666667"
      ]
     },
     "execution_count": 155,
     "metadata": {},
     "output_type": "execute_result"
    }
   ],
   "source": [
    "hipergeometrica(10, 7, 3, 2) + hipergeometrica(10, 7, 3, 3)"
   ]
  },
  {
   "cell_type": "markdown",
   "id": "760ccf98",
   "metadata": {},
   "source": [
    "6. La probabilidad de que a un estudiante le guste este modulo es de 0.7 (en Henry somos optimistas), cual es la probabilidad de que les guste este módulo a 6 de los 10 estudiantes."
   ]
  },
  {
   "cell_type": "code",
   "execution_count": 156,
   "id": "20875094",
   "metadata": {},
   "outputs": [
    {
     "data": {
      "text/plain": [
       "0.20012094900000005"
      ]
     },
     "execution_count": 156,
     "metadata": {},
     "output_type": "execute_result"
    }
   ],
   "source": [
    "binomial(6, 10, 0.7)"
   ]
  },
  {
   "cell_type": "code",
   "execution_count": null,
   "id": "d4783445",
   "metadata": {},
   "outputs": [],
   "source": []
  },
  {
   "cell_type": "markdown",
   "id": "a077a219",
   "metadata": {},
   "source": [
    "7. De todos los push a Git en un Henry Challenge, el 90% lo envía a término. Si se envían 9 ¿cuál es la probabilidad de que 7 lleguen a término?."
   ]
  },
  {
   "cell_type": "code",
   "execution_count": 157,
   "id": "a918d8a8",
   "metadata": {},
   "outputs": [
    {
     "data": {
      "text/plain": [
       "0.17218688399999993"
      ]
     },
     "execution_count": 157,
     "metadata": {},
     "output_type": "execute_result"
    }
   ],
   "source": [
    "binomial(7, 9, 0.9)"
   ]
  },
  {
   "cell_type": "markdown",
   "id": "ed7ec397",
   "metadata": {},
   "source": [
    "8. En relación con el enunciado anterior cálcule la probabilidad de que 7 o más lleguen a término."
   ]
  },
  {
   "cell_type": "code",
   "execution_count": 158,
   "id": "0ee3e2f7",
   "metadata": {},
   "outputs": [
    {
     "data": {
      "text/plain": [
       "0.9470278620000001"
      ]
     },
     "execution_count": 158,
     "metadata": {},
     "output_type": "execute_result"
    }
   ],
   "source": [
    "binomial(7, 9, 0.9) + binomial(8, 9, 0.9) + binomial(9, 9, 0.9)"
   ]
  },
  {
   "cell_type": "markdown",
   "id": "97c66512",
   "metadata": {},
   "source": [
    "Distribución de Poisson\n",
    "\n",
    "9. La cantidad de alumnos promedio que se ausentan en un día de clases en la carrera de Data Science es de 10. Calcular cual es la probabilidad de que se ausenten 7 alumnos."
   ]
  },
  {
   "cell_type": "code",
   "execution_count": 159,
   "id": "e7516c1f",
   "metadata": {},
   "outputs": [
    {
     "data": {
      "text/plain": [
       "0.09007922571921602"
      ]
     },
     "execution_count": 159,
     "metadata": {},
     "output_type": "execute_result"
    }
   ],
   "source": [
    "poisson(10, 7)"
   ]
  },
  {
   "cell_type": "markdown",
   "id": "152db4b2",
   "metadata": {},
   "source": [
    "10. Cuando inicia una clase, los estudiantes ingresan a un ritmo de 5 estudiantes por minuto. Calcular cual es la probabilidad de que ingresen 7 estudiantes por minuto."
   ]
  },
  {
   "cell_type": "code",
   "execution_count": 160,
   "id": "2a724288",
   "metadata": {},
   "outputs": [
    {
     "data": {
      "text/plain": [
       "0.10444486295705402"
      ]
     },
     "execution_count": 160,
     "metadata": {},
     "output_type": "execute_result"
    }
   ],
   "source": [
    "# lambda = 5\n",
    "# k = 7\n",
    "\n",
    "poisson(5, 7)"
   ]
  },
  {
   "cell_type": "markdown",
   "id": "cd3a0aa9",
   "metadata": {},
   "source": [
    "#### Ejercicios complementarios\n",
    "11. Cada 3 días ingresan 10 estudiantes nuevos al Prep Course de Henry, calcule la probabilidad de que ingresen 15 nuevos estudiantes en un período de 6 días."
   ]
  },
  {
   "cell_type": "code",
   "execution_count": 161,
   "id": "6c1049d5",
   "metadata": {},
   "outputs": [
    {
     "data": {
      "text/plain": [
       "0.0516488535317584"
      ]
     },
     "execution_count": 161,
     "metadata": {},
     "output_type": "execute_result"
    }
   ],
   "source": [
    "# lambda = 10 c/ 3 días\n",
    "# lambda = 20 c/ 6 días\n",
    "# k = 15\n",
    "\n",
    "poisson(20, 15)\n"
   ]
  },
  {
   "cell_type": "markdown",
   "id": "997ffabe",
   "metadata": {},
   "source": [
    "12. En una distribución de Poisson de lambda = 3, cual es la probabilidad de x >= 1."
   ]
  },
  {
   "cell_type": "code",
   "execution_count": 163,
   "id": "4950bfc5",
   "metadata": {},
   "outputs": [
    {
     "data": {
      "text/plain": [
       "0.950212931632136"
      ]
     },
     "execution_count": 163,
     "metadata": {},
     "output_type": "execute_result"
    }
   ],
   "source": [
    "1 - poisson(3, 0)"
   ]
  },
  {
   "cell_type": "markdown",
   "id": "16b27b6b",
   "metadata": {},
   "source": [
    "Distribución Normal:\n",
    "\n",
    "13. La calificación promedio de los estudiantes de Henry es de 78 con una desviación estandar de 25. Cual es la probabilidad de tener estudiantes con calificaciones mayores o iguales 90."
   ]
  },
  {
   "cell_type": "code",
   "execution_count": 164,
   "id": "e5fab705",
   "metadata": {},
   "outputs": [
    {
     "data": {
      "text/plain": [
       "0.31561369651622256"
      ]
     },
     "execution_count": 164,
     "metadata": {},
     "output_type": "execute_result"
    }
   ],
   "source": [
    "stats.norm(78, 25).sf(90)"
   ]
  },
  {
   "cell_type": "code",
   "execution_count": null,
   "id": "4b8b2cd7",
   "metadata": {},
   "outputs": [],
   "source": []
  }
 ],
 "metadata": {
  "kernelspec": {
   "display_name": "Python 3 (ipykernel)",
   "language": "python",
   "name": "python3"
  },
  "language_info": {
   "codemirror_mode": {
    "name": "ipython",
    "version": 3
   },
   "file_extension": ".py",
   "mimetype": "text/x-python",
   "name": "python",
   "nbconvert_exporter": "python",
   "pygments_lexer": "ipython3",
   "version": "3.9.13"
  }
 },
 "nbformat": 4,
 "nbformat_minor": 5
}
