{
 "cells": [
  {
   "attachments": {},
   "cell_type": "markdown",
   "metadata": {},
   "source": [
    "# Ejercicio propuesto por Maico respecto a pandas"
   ]
  },
  {
   "cell_type": "code",
   "execution_count": null,
   "metadata": {},
   "outputs": [],
   "source": [
    "def PreguntaNueva():\n",
    "    '''\n",
    "    Debes utilizar Pandas para ingestar en un objeto Dataframe el contenido del archivo provisto\n",
    "    \"disney_modificado.csv\".\n",
    "    Esta función debe informar cuál de la siguiente lista de países cual tuvo mayor cantidad de \"peliculas\" \n",
    "    que fueron filmadas en el año 2020: \n",
    "        * Argentina\n",
    "        * Estados Unidos\n",
    "        * Canada\n",
    "\n",
    "    Debe retornar el valor en un dato de tipo tupla, siendo el primer valor de la tupla el nombre del pais en \n",
    "    formato string, y el segundo valor la cantidad de peliculas en formato integer\n",
    "    '''\n",
    "    #Tu código aca:"
   ]
  },
  {
   "cell_type": "code",
   "execution_count": null,
   "metadata": {},
   "outputs": [],
   "source": [
    "import pandas as pd\n",
    "import numpy as np"
   ]
  },
  {
   "cell_type": "code",
   "execution_count": null,
   "metadata": {},
   "outputs": [],
   "source": [
    "df = pd.read_csv('./disney_modificado.csv')"
   ]
  },
  {
   "cell_type": "code",
   "execution_count": null,
   "metadata": {},
   "outputs": [],
   "source": []
  },
  {
   "cell_type": "code",
   "execution_count": null,
   "metadata": {},
   "outputs": [],
   "source": [
    "df =  df[['type', 'country', 'release_year']]"
   ]
  },
  {
   "cell_type": "code",
   "execution_count": null,
   "metadata": {},
   "outputs": [],
   "source": [
    "df2 = df.copy()"
   ]
  },
  {
   "cell_type": "code",
   "execution_count": null,
   "metadata": {},
   "outputs": [],
   "source": [
    "df_null_index = df2 [df2 ['country'] == 'None'].index\n",
    "df_null_index"
   ]
  },
  {
   "cell_type": "code",
   "execution_count": null,
   "metadata": {},
   "outputs": [],
   "source": [
    "df2 = df2.drop(df_null_index)"
   ]
  },
  {
   "cell_type": "code",
   "execution_count": null,
   "metadata": {},
   "outputs": [],
   "source": [
    "# for x in df2.index:\n",
    "#   if df2.loc[x, \"country\"] == 'None':\n",
    "#     df2.drop(x, inplace = True)\n",
    "# df2"
   ]
  },
  {
   "cell_type": "code",
   "execution_count": null,
   "metadata": {},
   "outputs": [],
   "source": [
    "df2 = df2.reset_index(drop=True)"
   ]
  },
  {
   "cell_type": "code",
   "execution_count": null,
   "metadata": {},
   "outputs": [],
   "source": [
    "df2"
   ]
  },
  {
   "cell_type": "code",
   "execution_count": null,
   "metadata": {},
   "outputs": [],
   "source": [
    "filtro = (df2['release_year'] == 2020) & (df2['type'] == 'Movie')\n",
    "df2[ filtro ].value_counts()"
   ]
  },
  {
   "cell_type": "code",
   "execution_count": null,
   "metadata": {},
   "outputs": [],
   "source": [
    "df2[ df2['country'] == 'Argentina']"
   ]
  },
  {
   "cell_type": "code",
   "execution_count": null,
   "metadata": {},
   "outputs": [],
   "source": [
    "df3 = df2[filtro]\n",
    "df4 = df3[ (df3['country'] == 'Argentina') | (df3['country'] == 'France') | (df3['country'] == 'United States')]\n",
    "print(f'Nombre del país con más pelis en 2020: {df4.value_counts().index[0][1]}')\n",
    "print(f'Cantidad de pelis: {df4.value_counts()[0]}')"
   ]
  },
  {
   "cell_type": "code",
   "execution_count": null,
   "metadata": {},
   "outputs": [],
   "source": []
  },
  {
   "cell_type": "code",
   "execution_count": 3,
   "metadata": {},
   "outputs": [],
   "source": [
    "def PreguntaNueva():\n",
    "    '''\n",
    "    Debes utilizar Pandas para ingestar en un objeto Dataframe el contenido del archivo provisto\n",
    "    \"disney_modificado.csv\".\n",
    "    Esta función debe informar cuál de la siguiente lista de países cual tuvo mayor cantidad de \"peliculas\" \n",
    "    que fueron filmadas en el año 2020: \n",
    "        * Argentina\n",
    "        * Estados Unidos\n",
    "        * Canada\n",
    "\n",
    "    Debe retornar el valor en un dato de tipo tupla, siendo el primer valor de la tupla el nombre del pais en \n",
    "    formato string, y el segundo valor la cantidad de peliculas en formato integer\n",
    "    '''\n",
    "    #Tu código aca:\n",
    "    import pandas as pd\n",
    "    import numpy as np\n",
    "    \n",
    "    df2 = pd.read_csv('./disney_modificado.csv')\n",
    "    df2 =  df2[['type', 'country', 'release_year']]\n",
    "\n",
    "    filtro = (df2['release_year'] == 2020) & (df2['type'] == 'Movie')\n",
    "\n",
    "    df3 = df2[filtro]\n",
    "    df4 = df3[ (df3['country'] == 'Argentina') | (df3['country'] == 'Canada') | (df3['country'] == 'United States')]\n",
    "\n",
    "    respuesta = (df4.value_counts().index[0][1], df4.value_counts()[0])\n",
    "    \n",
    "    return respuesta"
   ]
  },
  {
   "cell_type": "code",
   "execution_count": 5,
   "metadata": {},
   "outputs": [
    {
     "data": {
      "text/plain": [
       "('United States', 54)"
      ]
     },
     "execution_count": 5,
     "metadata": {},
     "output_type": "execute_result"
    }
   ],
   "source": [
    "PreguntaNueva()"
   ]
  }
 ],
 "metadata": {
  "kernelspec": {
   "display_name": "Python 3",
   "language": "python",
   "name": "python3"
  },
  "language_info": {
   "codemirror_mode": {
    "name": "ipython",
    "version": 3
   },
   "file_extension": ".py",
   "mimetype": "text/x-python",
   "name": "python",
   "nbconvert_exporter": "python",
   "pygments_lexer": "ipython3",
   "version": "3.11.1"
  },
  "orig_nbformat": 4,
  "vscode": {
   "interpreter": {
    "hash": "5238573367df39f7286bb46f9ff5f08f63a01a80960060ce41e3c79b190280fa"
   }
  }
 },
 "nbformat": 4,
 "nbformat_minor": 2
}
