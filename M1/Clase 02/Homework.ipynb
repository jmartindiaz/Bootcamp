{
 "cells": [
  {
   "cell_type": "markdown",
   "metadata": {},
   "source": [
    "# Práctica Clase 2"
   ]
  },
  {
   "cell_type": "markdown",
   "metadata": {},
   "source": [
    "1) Abrir el archivo \"Emisiones_CO2.csv\" y cargar sus datos en un diccionario."
   ]
  },
  {
   "cell_type": "code",
   "execution_count": 2,
   "metadata": {},
   "outputs": [],
   "source": [
    "import os\n",
    "archivo = open('Emisiones_CO2.csv', 'r') ### El primer argumento sera el nombre del archivo que quiero leer\n",
    "### el segundo argumento sera el modo de apertura del archivo, en este caso sera \"r\" de read, solo LEEREMOS el archivo\n",
    "### RECORDAR SIEMPRE QUE NO SE DEBE ESCRIBIR (write) EN LA FUENTE DE DATOS PROPIAMENTE DICHA, SINO QUE DEBEMOS LEERLA (read)\n",
    "### Nunca se debe editar la fuente de datos, la fuente queda como esta y se trabaja por fuera de ella."
   ]
  },
  {
   "cell_type": "code",
   "execution_count": null,
   "metadata": {},
   "outputs": [],
   "source": [
    "#  import os # no es necesario importar la libreria, podriamos ponerlo solamente para especificar con que libreria trabajamos\n",
    "\n",
    "### El archivo lo puedo abrir mediante solo \"open\": \n",
    "\n",
    "#  archivo = open('Emisiones_CO2.csv', 'r') \n",
    "\n",
    "# 1er argumento: ruta del archivo\n",
    "# 2do argumento: modo de apertura del archivo, en este caso, sera solo lectura (r=read).\n",
    "# Una vez terminado mi codigo debo cerrar el archivo haciendo:\n",
    "\n",
    "#  archivo.close()\n",
    "\n",
    "### o sino mediante:\n",
    "#  with open('Emisiones_CO2.csv','rt'):\n",
    "\n",
    "    # 1er argumento: ruta del archivo\n",
    "    # 2do argumento: modo de apertura del archivo, en este caso, sera lectura (r=read) de texto (t=text).\n",
    "    \n",
    "    # Aqui dentro codeo lo que quiero que haga mi proceso con este archivo\n",
    "    # La ventaja del with es que no necesito indicar que tengo que cerrar el archivo, una accion que si la olvidamos, puede tirarnos error al ejecutar nuestro codigo."
   ]
  },
  {
   "cell_type": "code",
   "execution_count": null,
   "metadata": {},
   "outputs": [],
   "source": [
    "dicc_emisiones = {  'cod_pais' : [],\n",
    "                    'nom_pais' : [],\n",
    "                    'region' : [],\n",
    "                    'anio' : [],\n",
    "                    'co2' : [],\n",
    "                    'co2_percapita' : []}\n",
    "\n",
    "# Cada key o clave es un encabezado de mi tabla en el que su value sera una lista\n",
    "# Cada uno de los values del diccionario sera una lista que contendra todos los registros de la tabla\n",
    "# A su vez cada uno de los elementos de esta lista value, esta reacionado con los elementos de otra lista value.\n",
    "\n",
    "CodigoPais = []\n",
    "Nombre_Pais = []\n",
    "Region = []\n",
    "Anio = []\n",
    "Co2 = []\n",
    "Co2_Percapita= []\n",
    "\n",
    "dicc_emisiones = {  'cod_pais' : CodigoPais,\n",
    "                    'nom_pais' : Nombre_Pais,\n",
    "                    'region' : Region,\n",
    "                    'anio' : Anio,\n",
    "                    'co2' : Co2,\n",
    "                    'co2_percapita' : Co2_Percapita}\n",
    "\n",
    "### ABRIMOS EL ARCHIVO ###\n",
    "with open('Emisiones_CO2.csv','rt') as file:\n",
    "    \n",
    "    ### PRIMER PASO: EXTRAIGO LOS ENCABEZADOS ###\n",
    "\n",
    "    headers = next(file)        # El modo de apertura sera \"rd\" (read text), por ende el puntero arrancara en el Inicio del archivo,\n",
    "                                # por lo tanto usando la funcion next() saltaremos la PRIMER LINEA (encabezados). Esta linea que \n",
    "                                # salteamos quedara guardada en la variable headers\n",
    "    headers = headers.strip()   # Eliminamos de la cadena el caracter \"\\n\"\n",
    "    headers = headers.split('|')  # Creamos una lista con los encabezados                             \n",
    "\n",
    "    ### SEGUNDO PASO: TRANSFORMO CADA LINEA DEL ARCHIVO EN UNA LISTA ###\n",
    "\n",
    "    lineas = file.readlines()   # .readlines() crea una lista en la que cada elemento es una linea del archivo\n",
    "    #lineas = lineas[0:6]        # LO PONGO PARA NO ESTAR CONSTANTEMENTE PRINTEANDO LA BASE DE DATOS COMPLETA\n",
    "\n",
    "    for linea in lineas:        # aqui, voy a transformar cada uno de esos elementos en una lista   \n",
    "        linea = linea.strip()   # Con strip, elimino el caracter \"\\n\" de mi linea y devuelvo una CADENA\n",
    "        linea= linea.split('|') ## Con split genero una lista de elementos separados por un caracter especial, en este caso \"|\" \n",
    "    \n",
    "        ### TERCER PASO: AGREGO CADA UNA DE ESTAS LINEAS A SU CAMPO CORRESPONDIENTE\n",
    "\n",
    "        ## Para agregar esto a mi diccionario hacemos: dicc_emisiones['cod_pais'] con esto INGRESO A EL value DE ESA key. \n",
    "        ## COMO EL value ES UNA LISTA ENTONCES USO EL METODO append PARA AGREGARLE EL ELEMENTO EN LA COLUMNA CORRESPONDIENTE. \n",
    "        ## LO MISMO HAGO CON LAS DEMAS COLUMNAS.\n",
    "\n",
    "        # EN ESTE CASO YO CREE UNAS LISTAS PREVIAMENTE Y AGREGO LOS ELEMENTOS EN ELLAS, ES LO MISMO CON CUALQUIERA DE LAS DOS FORMAS\n",
    "\n",
    "        CodigoPais.append(linea[0]) \n",
    "        Nombre_Pais.append(linea[1])\n",
    "        Region.append(linea[2])\n",
    "        Anio.append(linea[3])\n",
    "        Co2.append(linea[4])\n",
    "        Co2_Percapita.append(linea[5])\n",
    "\n",
    "### ACA YA TENGO MI DICCIONARIO CARGADO CON TODOS SUS DATOS ###\n",
    "\n",
    "print (dicc_emisiones)\n"
   ]
  },
  {
   "cell_type": "markdown",
   "metadata": {},
   "source": [
    "2) a) ¿Cuántas variables hay? <br>\n",
    "b) ¿Qué tipos de datos usar para cada una? <br>\n",
    "c) ¿Qué tipo de variables son? <br>\n",
    "d) ¿Hay valores faltantes? <br>\n",
    "e) ¿Cuál es el total de emisiones de CO2 para 'América Latina y Caribe' en el año 2010?"
   ]
  },
  {
   "cell_type": "code",
   "execution_count": 5,
   "metadata": {},
   "outputs": [],
   "source": [
    "### 2.a ¿Cuantas variables hay?\n",
    "\n",
    "#### cant_headers = len (headers)    # Averiguamos la cantidad de encabezados que tenemos\n",
    "\n",
    "#### cant_registros = len(CodigoPais) # Averiguamos la cantidad de registros\n",
    "\n",
    "### Entonces la cantidad de variables o cantidad de celdas será:\n",
    "\n",
    "####  cant_var = cant_headers * cant_registros\n",
    "#### print (f\"La cantidad de variables en nuestra fuente de datos es de {cant_var} variables\")\n",
    "\n",
    "### INCORRECTO: LA CANTIDAD DE VARIABLES NO ES LA CANTIDAD DE CELDAS DE MI TABLA, ES LA CANTIDAD DE CAMPOS QUE TENEMOS\n",
    "### EN ESTE CASO TENEMOS 6 ENCABEZADOS, ENTONCES TENEMOS 6 VARIABLES"
   ]
  },
  {
   "attachments": {},
   "cell_type": "markdown",
   "metadata": {},
   "source": [
    "2.b ¿Qué tipos de datos usara para cada una?\n",
    "\n",
    "Código:                 cualitativo - categórico\n",
    "nombre país:            cualitativo - categórico\n",
    "región:                 cualitativo - categórico\n",
    "año:                    cualitativo - ordinal\n",
    "co2:                    cuantitativo - contínuo\n",
    "co2 per capita:         cuantitativo - contínuo"
   ]
  },
  {
   "attachments": {},
   "cell_type": "markdown",
   "metadata": {},
   "source": [
    "2.c \n",
    "\n",
    "Código:                 string\n",
    "nombre país:            string\n",
    "región:                 string\n",
    "año:                    int\n",
    "co2:                    float\n",
    "co2 per capita:         float"
   ]
  },
  {
   "cell_type": "code",
   "execution_count": null,
   "metadata": {},
   "outputs": [],
   "source": [
    "### ITERAR DICCIONARIO MEDIANTE SUS CLAVES\n",
    "claves = dicc_emisiones.keys()\n",
    "\n",
    "for clave in claves:\n",
    "    print (clave, \":\", dicc_emisiones[clave][30])"
   ]
  },
  {
   "cell_type": "code",
   "execution_count": 1,
   "metadata": {},
   "outputs": [
    {
     "name": "stdout",
     "output_type": "stream",
     "text": [
      "no hay frase\n"
     ]
    }
   ],
   "source": [
    "frase = ''\n",
    "if not frase:\n",
    "    print(\"hay frase\")\n",
    "else:\n",
    "    print(\"no hay frase\")"
   ]
  },
  {
   "attachments": {},
   "cell_type": "markdown",
   "metadata": {},
   "source": [
    "2.d ¿Hay Faltantes?"
   ]
  },
  {
   "cell_type": "code",
   "execution_count": 11,
   "metadata": {},
   "outputs": [
    {
     "name": "stdout",
     "output_type": "stream",
     "text": [
      "{'co2_percapita', 'co2'}\n"
     ]
    }
   ],
   "source": [
    "###  PARA SABER SI HAY FALTANTES\n",
    "\n",
    "\n",
    "faltantes = []\n",
    "for key in dicc_emisiones:\n",
    "    for val in dicc_emisiones[key]:\n",
    "        if not val:\n",
    "            # print (\"Falta un elemento{}\".format(key))\n",
    "            faltantes.append(key)\n",
    "    \n",
    "print(set(faltantes)) ## solo me muestra los valores unicos"
   ]
  },
  {
   "cell_type": "code",
   "execution_count": 10,
   "metadata": {},
   "outputs": [
    {
     "ename": "AttributeError",
     "evalue": "'float' object has no attribute 'replace'",
     "output_type": "error",
     "traceback": [
      "\u001b[1;31m---------------------------------------------------------------------------\u001b[0m",
      "\u001b[1;31mAttributeError\u001b[0m                            Traceback (most recent call last)",
      "Cell \u001b[1;32mIn[10], line 17\u001b[0m\n\u001b[0;32m     14\u001b[0m         lista[indice] \u001b[39m=\u001b[39m elemento\n\u001b[0;32m     15\u001b[0m     \u001b[39mreturn\u001b[39;00m lista\n\u001b[1;32m---> 17\u001b[0m dicc_emisiones[\u001b[39m'\u001b[39m\u001b[39mco2\u001b[39m\u001b[39m'\u001b[39m] \u001b[39m=\u001b[39m normalizacion(dicc_emisiones[\u001b[39m'\u001b[39;49m\u001b[39mco2\u001b[39;49m\u001b[39m'\u001b[39;49m])\n\u001b[0;32m     18\u001b[0m dicc_emisiones[\u001b[39m'\u001b[39m\u001b[39mco2_percapita\u001b[39m\u001b[39m'\u001b[39m] \u001b[39m=\u001b[39m normalizacion(dicc_emisiones[\u001b[39m'\u001b[39m\u001b[39mco2_percapita\u001b[39m\u001b[39m'\u001b[39m])\n",
      "Cell \u001b[1;32mIn[10], line 9\u001b[0m, in \u001b[0;36mnormalizacion\u001b[1;34m(lista)\u001b[0m\n\u001b[0;32m      7\u001b[0m \u001b[39mfor\u001b[39;00m indice, elemento \u001b[39min\u001b[39;00m \u001b[39menumerate\u001b[39m(lista):\n\u001b[0;32m      8\u001b[0m     \u001b[39mif\u001b[39;00m elemento:\n\u001b[1;32m----> 9\u001b[0m         elemento \u001b[39m=\u001b[39m elemento\u001b[39m.\u001b[39;49mreplace(\u001b[39m'\u001b[39m\u001b[39m.\u001b[39m\u001b[39m'\u001b[39m, \u001b[39m'\u001b[39m\u001b[39m'\u001b[39m)\n\u001b[0;32m     10\u001b[0m         elemento \u001b[39m=\u001b[39m elemento\u001b[39m.\u001b[39mreplace(\u001b[39m'\u001b[39m\u001b[39m,\u001b[39m\u001b[39m'\u001b[39m, \u001b[39m'\u001b[39m\u001b[39m.\u001b[39m\u001b[39m'\u001b[39m)\n\u001b[0;32m     11\u001b[0m         elemento \u001b[39m=\u001b[39m \u001b[39mfloat\u001b[39m(elemento)\n",
      "\u001b[1;31mAttributeError\u001b[0m: 'float' object has no attribute 'replace'"
     ]
    }
   ],
   "source": [
    "### Normalizacion de datos\n",
    "# co2 y co2_percapita a float; anio a int. todos los elementos se leyeron como TEXTO.\n",
    "\n",
    "### co2 y co2_percapita\n",
    "\n",
    "def normalizacion(lista):\n",
    "    for indice, elemento in enumerate(lista):\n",
    "        if elemento:\n",
    "            elemento = elemento.replace('.', '')\n",
    "            elemento = elemento.replace(',', '.')\n",
    "            elemento = float(elemento)\n",
    "        else:\n",
    "            elemento = None\n",
    "        lista[indice] = elemento\n",
    "    return lista\n",
    "\n",
    "dicc_emisiones['co2'] = normalizacion(dicc_emisiones['co2'])\n",
    "dicc_emisiones['co2_percapita'] = normalizacion(dicc_emisiones['co2_percapita'])"
   ]
  },
  {
   "cell_type": "code",
   "execution_count": null,
   "metadata": {},
   "outputs": [],
   "source": [
    "### anio\n",
    "\n",
    "for indice, valor in enumerate(dicc_emisiones['anio']):\n",
    "    dicc_emisiones['anio']\n"
   ]
  },
  {
   "attachments": {},
   "cell_type": "markdown",
   "metadata": {},
   "source": [
    "2.e ¿Cuál es el total de emisiones de CO2 para 'América Latina y Caribe' en el año 2010?"
   ]
  },
  {
   "cell_type": "code",
   "execution_count": 9,
   "metadata": {},
   "outputs": [
    {
     "name": "stdout",
     "output_type": "stream",
     "text": [
      "0\n"
     ]
    }
   ],
   "source": [
    "### FILTRO DE DATA ###\n",
    "\n",
    "## Mis filtros ##\n",
    "\n",
    "anio =2010\n",
    "region = 'América Latina y Caribe'\n",
    "emisiones = 0 \n",
    "\n",
    "## Itero el diccionario ##\n",
    "\n",
    "for i in range(len(dicc_emisiones['region'])):\n",
    "    ## Aplicamos condiciones\n",
    "    if dicc_emisiones['region'][i] == region and dicc_emisiones['anio'][i] == anio:\n",
    "        if dicc_emisiones['co2'][i]: # tiene que existir, debe ser distinto de None\n",
    "            emisiones += dicc_emisiones ['co2'][i]\n",
    "\n",
    "print (emisiones)"
   ]
  }
 ],
 "metadata": {
  "kernelspec": {
   "display_name": "Python 3",
   "language": "python",
   "name": "python3"
  },
  "language_info": {
   "codemirror_mode": {
    "name": "ipython",
    "version": 3
   },
   "file_extension": ".py",
   "mimetype": "text/x-python",
   "name": "python",
   "nbconvert_exporter": "python",
   "pygments_lexer": "ipython3",
   "version": "3.11.1"
  },
  "orig_nbformat": 4,
  "vscode": {
   "interpreter": {
    "hash": "cde823daa362eef15ead0a0eae5429e5dd4c5c8fd52f568fcadebfec2887da44"
   }
  }
 },
 "nbformat": 4,
 "nbformat_minor": 2
}
