{
 "cells": [
  {
   "cell_type": "code",
   "execution_count": null,
   "metadata": {},
   "outputs": [],
   "source": [
    "dicc_emisiones = {  'cod_pais' : [],  \n",
    "                    'nom_pais' : [],  \n",
    "                    'region' : [],\n",
    "                    'anio' : [],\n",
    "                    'co2' : [],\n",
    "                    'co2_percapita' : []}\n",
    "# sacamos lineas del archivo CSV y queda cada linea en listas.\n",
    "\n",
    "# dicc_emisiones = {}\n",
    "with open(archivo, 'rt') as file:\n",
    "\n",
    "### PRIMER PASO: EXTRAIGO LOS ENCABEZADOS\n",
    "\n",
    "    headers = next(file)        # El modo de apertura sera \"rd\" (read text), \n",
    "                                # por ende el puntero arrancara en el Inicio del archivo, \n",
    "                                # por lo tanto usando la funcion next()\n",
    "                                # saltaremos la PRIMER LINEA (encabezados). Esta linea que \n",
    "                                # salteamos quedara guardada en la variable headers\n",
    "\n",
    "### SEGUNDO PASO: TRANSFORMO CADA LINEA DEL ARCHIVO EN UNA LISTA\n",
    "\n",
    "    lineas = file.readlines()   # .readlines() crea una lista en la que \n",
    "                                # cada elemento es una linea del archivo\n",
    "    for linea in lineas:        # aqui, voy a transformar cada uno de esos elementos en una lista   \n",
    "        linea = linea.strip().split('|') ## Con strip le saco el caracter \"\\n\" \n",
    "                                        #y con split saco el caracter \"|\". Estos metodos \n",
    "                                        #transforman a linea en lista.\n",
    "        \n",
    "        dicc_emisiones['cod_pais'].append(linea[0]) ## \n",
    "        dicc_emisiones['nom_pais'].append(linea[1])\n",
    "        dicc_emisiones['region'].append(linea[2])\n",
    "        dicc_emisiones['anio'].append(linea[3])\n",
    "        dicc_emisiones['co2'].append(linea[4])\n",
    "        dicc_emisiones['co2_percapita'].append(linea[5])"
   ]
  }
 ],
 "metadata": {
  "kernelspec": {
   "display_name": "Python 3",
   "language": "python",
   "name": "python3"
  },
  "language_info": {
   "name": "python",
   "version": "3.11.1"
  },
  "orig_nbformat": 4,
  "vscode": {
   "interpreter": {
    "hash": "cde823daa362eef15ead0a0eae5429e5dd4c5c8fd52f568fcadebfec2887da44"
   }
  }
 },
 "nbformat": 4,
 "nbformat_minor": 2
}
