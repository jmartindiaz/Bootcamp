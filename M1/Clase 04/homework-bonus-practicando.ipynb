{
 "cells": [
  {
   "attachments": {},
   "cell_type": "markdown",
   "metadata": {},
   "source": [
    "<h1>Aca vamos a practicar la tarea bonus de la clase 4<h1>"
   ]
  },
  {
   "attachments": {},
   "cell_type": "markdown",
   "metadata": {},
   "source": [
    "A partir del CSV hospitales2.csv, generar un archivo CSV de salida, que contenga los siguientes campos en este orden:\n",
    "* latitude\n",
    "* longitude\n",
    "* name\n",
    "* label\n",
    "\n",
    "Con los correspondientes datos extraídos del CSV original, el campo name tiene que corresponder con la dirección del hospital, y el campo label con el nombre del hospital.\n"
   ]
  },
  {
   "cell_type": "code",
   "execution_count": 1,
   "metadata": {},
   "outputs": [],
   "source": [
    "# importamos las librerias necesarias:\n",
    "import pandas as pd\n",
    "import numpy as np"
   ]
  },
  {
   "cell_type": "code",
   "execution_count": 6,
   "metadata": {},
   "outputs": [],
   "source": [
    "# leemos nuestra fuente de datos csv:\n",
    "df = pd.read_csv('hospitales2.csv')"
   ]
  },
  {
   "cell_type": "code",
   "execution_count": 7,
   "metadata": {},
   "outputs": [
    {
     "name": "stdout",
     "output_type": "stream",
     "text": [
      "                                           WKT   ID  \\\n",
      "0  POINT (-58.3775508488443 -34.6288473603881)  1.0   \n",
      "1  POINT (-58.4120700769456 -34.5941919726393)  2.0   \n",
      "2  POINT (-58.4027276547828 -34.5845283357505)  4.0   \n",
      "3  POINT (-58.3851559118889 -34.6394041316484)  6.0   \n",
      "4  POINT (-58.3913114406535 -34.6341535760002)  7.0   \n",
      "\n",
      "                                              NOMBRE  \\\n",
      "0        HOSPITAL GENERAL DE NIÑOS PEDRO DE ELIZALDE   \n",
      "1        HOSPITAL GENERAL DE NIÑOS RICARDO GUTIERREZ   \n",
      "2  HOSPITAL DE ODONTOLOGIA DR. RAMON CARRILLO (EX...   \n",
      "3            HOSPITAL DE SALUD MENTAL BRAULIO MOYANO   \n",
      "4           HOSPITAL DE GASTROENTEROLOGIA B. UDAONDO   \n",
      "\n",
      "                       NOM_MAP    OBJETO                    CALLE  ALTURA  \\\n",
      "0            HOSP. DE ELIZALDE  HOSPITAL  MANUEL A. MONTES DE OCA      40   \n",
      "1              HOSP. GUTIERREZ  HOSPITAL                    GALLO    1330   \n",
      "2  HOSP. ODONTOLOGICO CARRILLO  HOSPITAL    SANCHEZ DE BUSTAMANTE    2529   \n",
      "3                 HOSP. MOYANO  HOSPITAL                 BRANDSEN    2570   \n",
      "4                HOSP. UDAONDO  HOSPITAL                  CASEROS    2061   \n",
      "\n",
      "                      DOM_NORMA                       DOM_GEO  \\\n",
      "0  MONTES DE OCA, MANUEL AV. 40  40 MONTES DE OCA, MANUEL AV.   \n",
      "1                    GALLO 1330                    1330 GALLO   \n",
      "2    SANCHEZ DE BUSTAMANTE 2529    2529 SANCHEZ DE BUSTAMANTE   \n",
      "3                 BRANDSEN 2570                 2570 BRANDSEN   \n",
      "4              CASEROS AV. 2061              2061 CASEROS AV.   \n",
      "\n",
      "                  TELEFONO                     GUARDIA           FAX  \\\n",
      "0         4307-5842 / 5844       4307-5442 / 4300-1700     4302-7400   \n",
      "1  4962-9247 / 9248 / 9280                   4962-9232     4962-3762   \n",
      "2         4805-5521 / 7533                   4805-6407     4805-7533   \n",
      "3         4301-3655 / 3659                   4301-4522  4303-3655/59   \n",
      "4        4306-4641 al 4649  4306-4641 al 49 (int. 125)     4306-3013   \n",
      "\n",
      "                   WEB COD_POSTAL                    TIPO  \\\n",
      "0  www.elizalde.gov.ar   C1270AAN       Hospital de niños   \n",
      "1      www.guti.gov.ar   C1425EFD       Hospital de niños   \n",
      "2                  NaN   C1425DUY  Hospital especializado   \n",
      "3    www.moyano.org.ar   C1287ABJ  Hospital especializado   \n",
      "4                  NaN   C1264AAA  Hospital especializado   \n",
      "\n",
      "             TIPO_ESPEC              MOD_AT_1       MOD_AT_2  \\\n",
      "0             PEDIATRIA  AT. AMB./INTERNACION  DIAG./TRATAM.   \n",
      "1             PEDIATRIA  AT. AMB./INTERNACION  DIAG./TRATAM.   \n",
      "2           ODONTOLOGIA       AT. AMBULATORIA  DIAG./TRATAM.   \n",
      "3          SALUD MENTAL  AT. AMB./INTERNACION  DIAG./TRATAM.   \n",
      "4  ENF. APAR. DIGESTIVO  AT. AMB./INTERNACION  DIAG./TRATAM.   \n",
      "\n",
      "                 DEPEND_ADM                     DIRECTOR  \n",
      "0  Ministerio de Salud GCBA            Dr. Javier Indart  \n",
      "1  Ministerio de Salud GCBA  Dra. María Cristina Galoppo  \n",
      "2  Ministerio de Salud GCBA     Dra. Susana Rita Lisanti  \n",
      "3  Ministerio de Salud GCBA            Dra. Norma Derito  \n",
      "4  Ministerio de Salud GCBA     Dr. Eduardo Gustavo Sosa  \n"
     ]
    }
   ],
   "source": [
    "# analizamos su contenido imprimiendo las primeras filas:\n",
    "print (df.head())"
   ]
  },
  {
   "cell_type": "code",
   "execution_count": 11,
   "metadata": {},
   "outputs": [
    {
     "data": {
      "text/plain": [
       "0     POINT (-58.3775508488443 -34.6288473603881)\n",
       "1     POINT (-58.4120700769456 -34.5941919726393)\n",
       "2     POINT (-58.4027276547828 -34.5845283357505)\n",
       "3     POINT (-58.3851559118889 -34.6394041316484)\n",
       "4     POINT (-58.3913114406535 -34.6341535760002)\n",
       "5     POINT (-58.4349433479819 -34.6084721257413)\n",
       "6     POINT (-58.3758433488021 -34.6302112044495)\n",
       "7     POINT (-58.3823284509488 -34.6357022351559)\n",
       "8     POINT (-58.3821283746958 -34.6364350546569)\n",
       "9     POINT (-58.3601201271455 -34.6388917320834)\n",
       "10    POINT (-58.4409882382439 -34.5538963316473)\n",
       "11     POINT (-58.4027506275377 -34.634856308415)\n",
       "12    POINT (-58.4601855775528 -34.6054342750207)\n",
       "13    POINT (-58.4276597542837 -34.6146348348429)\n",
       "14    POINT (-58.4332484381295 -34.6070507603866)\n",
       "15    POINT (-58.4323966950244 -34.6255031952483)\n",
       "16    POINT (-58.3940641604746 -34.6227125075124)\n",
       "17    POINT (-58.5021449222222 -34.6179817540591)\n",
       "18    POINT (-58.3937269413225 -34.6375293258416)\n",
       "19    POINT (-58.4752588459761 -34.5972098729151)\n",
       "20    POINT (-58.4005134574423 -34.5847659581214)\n",
       "21     POINT (-58.365985088719 -34.6283448581677)\n",
       "22     POINT (-58.4068939142787 -34.581141710889)\n",
       "23     POINT (-58.437981361705 -34.6089728538414)\n",
       "24    POINT (-58.4695020363265 -34.6241704940114)\n",
       "25    POINT (-58.4096107488155 -34.6176598438607)\n",
       "26     POINT (-58.4710781593251 -34.565051956568)\n",
       "27     POINT (-58.5110525000569 -34.599979524264)\n",
       "28      POINT (-58.50761514092 -34.6253367952668)\n",
       "29    POINT (-58.5156291936709 -34.6491867281064)\n",
       "30    POINT (-58.4108602188291 -34.6431172591975)\n",
       "31    POINT (-58.4710976282168 -34.5873917690227)\n",
       "32     POINT (-58.4541167814714 -34.643894071866)\n",
       "33    POINT (-58.4566428491103 -34.6718480140772)\n",
       "34    POINT (-58.3918791813882 -34.6299453614404)\n",
       "35    POINT (-58.3814293381891 -34.6419888014928)\n",
       "Name: WKT, dtype: object"
      ]
     },
     "execution_count": 11,
     "metadata": {},
     "output_type": "execute_result"
    }
   ],
   "source": [
    "for elemento in df['WKT']:\n",
    "    elemento = elemento.split('POINT (')\n"
   ]
  }
 ],
 "metadata": {
  "kernelspec": {
   "display_name": "Python 3",
   "language": "python",
   "name": "python3"
  },
  "language_info": {
   "codemirror_mode": {
    "name": "ipython",
    "version": 3
   },
   "file_extension": ".py",
   "mimetype": "text/x-python",
   "name": "python",
   "nbconvert_exporter": "python",
   "pygments_lexer": "ipython3",
   "version": "3.11.1"
  },
  "orig_nbformat": 4,
  "vscode": {
   "interpreter": {
    "hash": "cde823daa362eef15ead0a0eae5429e5dd4c5c8fd52f568fcadebfec2887da44"
   }
  }
 },
 "nbformat": 4,
 "nbformat_minor": 2
}
