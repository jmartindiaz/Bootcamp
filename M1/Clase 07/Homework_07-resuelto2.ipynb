{
 "cells": [
  {
   "cell_type": "markdown",
   "metadata": {},
   "source": [
    "# Práctica Clase 7"
   ]
  },
  {
   "cell_type": "markdown",
   "metadata": {},
   "source": [
    "1) Diseñar una clase que permita trabajar con un árbol binario y que contenga los métodos:<br>\n",
    "    * insertaVal: para insertar un dato<br>\n",
    "    * buscaVal: que devuelva True o False si existe o no un dato<br>\n",
    "    * verVal: que imprima por pantalla los valores del árbol<br>\n",
    "\n",
    "Nota: Se puede utilizar la recursividad\n"
   ]
  },
  {
   "cell_type": "code",
   "execution_count": 36,
   "metadata": {},
   "outputs": [],
   "source": [
    "class Nodo():\n",
    "    def __init__(self, dato):\n",
    "        self.dato = dato\n",
    "        self.izq = None\n",
    "        self.der = None\n",
    "    \n",
    "    def insertaVal(self, dato):\n",
    "        ## mi dato es menor al valor actual --> me voy a la izquierda\n",
    "        if dato < self.dato:\n",
    "            ## a la izquierda este vacio\n",
    "            if self.izq == None:\n",
    "                self.izq = Nodo(dato)\n",
    "            ## que a la izquierda hay un dato\n",
    "            else:\n",
    "                self.izq.insertaVal(dato)            \n",
    "\n",
    "        ## mi dato es mayor al valor actual\n",
    "        elif dato > self.dato:\n",
    "            if self.der == None:\n",
    "                self.der = Nodo(dato)\n",
    "            else:\n",
    "                self.der.insertaVal(dato)\n",
    "\n",
    "        ## mi dato es igual al valor actual\n",
    "        else: \n",
    "            print('Valor repetido')\n",
    "    \n",
    "    def buscarVal(self, buscado):\n",
    "            ## si el valor que busco es menor al dato: me voy a la izq\n",
    "            if buscado < self.dato:\n",
    "                ## Hay lugar?\n",
    "                if self.izq == None:\n",
    "                    ## Si no hay nada a la izq: el numero no esta.\n",
    "                    print(buscado, 'No encontrado!')\n",
    "                else: \n",
    "                    ## si no desplazate al otro\n",
    "                    self.izq.buscarVal(buscado)\n",
    "            \n",
    "            elif buscado > self.dato:\n",
    "                # Nos vamos a la derecha\n",
    "                if self.der == None:\n",
    "                    print(buscado, 'No encontrado!')\n",
    "                else:\n",
    "                    self.der.buscarVal(buscado)\n",
    "            else: \n",
    "                print(buscado, 'Encontrado!')\n",
    "\n",
    "    def verVal(self):\n",
    "        \n",
    "        print(self.dato) \n",
    "        if self.izq:\n",
    "            self.izq.verVal()\n",
    "\n",
    "        if self.der:\n",
    "            self.der.verVal()        \n"
   ]
  },
  {
   "cell_type": "code",
   "execution_count": 37,
   "metadata": {},
   "outputs": [],
   "source": [
    "arbol = Nodo(5)\n",
    "arbol.insertaVal(7)\n",
    "arbol.insertaVal(11)\n",
    "arbol.insertaVal(2)\n",
    "arbol.insertaVal(6)\n",
    "arbol.insertaVal(4)\n",
    "arbol.insertaVal(8)\n",
    "arbol.insertaVal(1)"
   ]
  },
  {
   "cell_type": "code",
   "execution_count": 4,
   "metadata": {},
   "outputs": [
    {
     "name": "stdout",
     "output_type": "stream",
     "text": [
      "Valor repetido\n"
     ]
    }
   ],
   "source": [
    "arbol.insertaVal(11)"
   ]
  },
  {
   "cell_type": "code",
   "execution_count": 18,
   "metadata": {},
   "outputs": [
    {
     "name": "stdout",
     "output_type": "stream",
     "text": [
      "1 Encontrado!\n"
     ]
    }
   ],
   "source": [
    "arbol.buscarVal(1)"
   ]
  },
  {
   "cell_type": "code",
   "execution_count": 38,
   "metadata": {},
   "outputs": [
    {
     "name": "stdout",
     "output_type": "stream",
     "text": [
      "5\n",
      "2\n",
      "1\n",
      "4\n",
      "7\n",
      "6\n",
      "11\n",
      "8\n"
     ]
    }
   ],
   "source": [
    "arbol.verVal()"
   ]
  },
  {
   "cell_type": "code",
   "execution_count": null,
   "metadata": {},
   "outputs": [],
   "source": []
  }
 ],
 "metadata": {
  "kernelspec": {
   "display_name": "Python 3",
   "language": "python",
   "name": "python3"
  },
  "language_info": {
   "codemirror_mode": {
    "name": "ipython",
    "version": 3
   },
   "file_extension": ".py",
   "mimetype": "text/x-python",
   "name": "python",
   "nbconvert_exporter": "python",
   "pygments_lexer": "ipython3",
   "version": "3.10.5"
  },
  "vscode": {
   "interpreter": {
    "hash": "4bba7e2b24ea2d6c62673c3ed642d0129ead9d4c378b0ce2fb07275f742d82ac"
   }
  }
 },
 "nbformat": 4,
 "nbformat_minor": 4
}
