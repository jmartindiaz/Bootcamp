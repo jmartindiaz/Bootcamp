{
 "cells": [
  {
   "cell_type": "markdown",
   "metadata": {},
   "source": [
    "# Práctica Clase 2"
   ]
  },
  {
   "cell_type": "markdown",
   "metadata": {},
   "source": [
    "1) Abrir el archivo \"Emisiones_CO2.csv\" y cargar sus datos en un diccionario."
   ]
  },
  {
   "cell_type": "code",
   "execution_count": 30,
   "metadata": {},
   "outputs": [],
   "source": [
    "# import os\n",
    "archivo = open('../Clase 01/Emisiones_CO2.csv', 'r')\n",
    "\n",
    "# M1\\Clase 01\\Emisiones_CO2.csv\n",
    "# '../Clase 01/Emisiones_CO2.csv' --> Ruta relativa\n",
    "# C:\\Users\\vmena\\Documents\\data Vane\\1. Henry\\2023\\Contenido\\M1\\Clase 01\\Emisiones_CO2.csv --> Ruta absoluta\n"
   ]
  },
  {
   "attachments": {},
   "cell_type": "markdown",
   "metadata": {},
   "source": [
    "### Data\n",
    "https://www.w3schools.com/python/python_ref_string.asp"
   ]
  },
  {
   "cell_type": "code",
   "execution_count": 6,
   "metadata": {},
   "outputs": [
    {
     "name": "stdout",
     "output_type": "stream",
     "text": [
      "Hola \n",
      "Mundo\n"
     ]
    }
   ],
   "source": [
    "print('Hola \\nMundo')"
   ]
  },
  {
   "cell_type": "code",
   "execution_count": 8,
   "metadata": {},
   "outputs": [
    {
     "data": {
      "text/plain": [
       "_io.TextIOWrapper"
      ]
     },
     "execution_count": 8,
     "metadata": {},
     "output_type": "execute_result"
    }
   ],
   "source": [
    "type(archivo)"
   ]
  },
  {
   "cell_type": "code",
   "execution_count": 31,
   "metadata": {},
   "outputs": [
    {
     "data": {
      "text/plain": [
       "'Código de país|Nombre del país|Región|Año|CO2 (kt)|CO2 per cápita (toneladas métricas)\\n'"
      ]
     },
     "execution_count": 31,
     "metadata": {},
     "output_type": "execute_result"
    }
   ],
   "source": [
    "next(archivo) # salteamos la primer linea"
   ]
  },
  {
   "cell_type": "code",
   "execution_count": 32,
   "metadata": {},
   "outputs": [],
   "source": [
    "dicc_emisiones = {  'cod_pais' : [],\n",
    "                    'nom_pais' : [],\n",
    "                    'region' : [],\n",
    "                    'anio' : [],\n",
    "                    'co2' : [],\n",
    "                    'co2_percapita' : []}"
   ]
  },
  {
   "cell_type": "code",
   "execution_count": 21,
   "metadata": {},
   "outputs": [
    {
     "data": {
      "text/plain": [
       "['split', ' cambia las palabras', ' a listas']"
      ]
     },
     "execution_count": 21,
     "metadata": {},
     "output_type": "execute_result"
    }
   ],
   "source": [
    "a = \"split, cambia las palabras, a listas\"\n",
    "a.split(',')"
   ]
  },
  {
   "cell_type": "code",
   "execution_count": 25,
   "metadata": {},
   "outputs": [
    {
     "data": {
      "text/plain": [
       "'split cambia las palabras a listas'"
      ]
     },
     "execution_count": 25,
     "metadata": {},
     "output_type": "execute_result"
    }
   ],
   "source": [
    "b = \"     split cambia las palabras a listas   \"\n",
    "b.strip()"
   ]
  },
  {
   "cell_type": "code",
   "execution_count": 27,
   "metadata": {},
   "outputs": [
    {
     "name": "stdout",
     "output_type": "stream",
     "text": [
      "'split \\n cambia las palabras a \\n listas'\n"
     ]
    }
   ],
   "source": [
    "c = \"split \\n cambia las palabras a \\n listas\"\n",
    "print(repr(c))"
   ]
  },
  {
   "cell_type": "code",
   "execution_count": 33,
   "metadata": {},
   "outputs": [],
   "source": [
    "for linea in archivo:\n",
    "#    print(repr(linea))\n",
    "#    print(repr(linea.strip()))\n",
    "    linea = linea.strip()\n",
    "    lista = linea.split('|')\n",
    "\n",
    "    dicc_emisiones['cod_pais'].append(lista[0])\n",
    "    dicc_emisiones['nom_pais'].append(lista[1])\n",
    "    dicc_emisiones['region'].append(lista[2])\n",
    "    dicc_emisiones['anio'].append(lista[3])\n",
    "    dicc_emisiones['co2'].append(lista[4])\n",
    "    dicc_emisiones['co2_percapita'].append(lista[5])"
   ]
  },
  {
   "cell_type": "code",
   "execution_count": 35,
   "metadata": {},
   "outputs": [
    {
     "data": {
      "text/plain": [
       "11127"
      ]
     },
     "execution_count": 35,
     "metadata": {},
     "output_type": "execute_result"
    }
   ],
   "source": [
    "len(dicc_emisiones['cod_pais'])"
   ]
  },
  {
   "cell_type": "code",
   "execution_count": 36,
   "metadata": {},
   "outputs": [],
   "source": [
    "archivo.close()"
   ]
  },
  {
   "attachments": {},
   "cell_type": "markdown",
   "metadata": {},
   "source": [
    "2) a) ¿Cuántas variables hay? <br>"
   ]
  },
  {
   "cell_type": "code",
   "execution_count": 43,
   "metadata": {},
   "outputs": [
    {
     "name": "stdout",
     "output_type": "stream",
     "text": [
      "Hay 6 variables\n",
      "Hay 6 variables\n",
      "Hay 6 variables\n"
     ]
    }
   ],
   "source": [
    "cant = len(dicc_emisiones.keys())\n",
    "\n",
    "print(\"Hay {} variables\".format(cant))\n",
    "print(f\"Hay {cant} variables\")\n",
    "print(\"Hay\", cant,  \"variables\")\n"
   ]
  },
  {
   "attachments": {},
   "cell_type": "markdown",
   "metadata": {},
   "source": [
    "b) ¿Qué tipos de datos usar para cada una? <br>\n"
   ]
  },
  {
   "attachments": {},
   "cell_type": "markdown",
   "metadata": {},
   "source": [
    "c) ¿Qué tipo de variables son? <br>"
   ]
  },
  {
   "cell_type": "code",
   "execution_count": 47,
   "metadata": {},
   "outputs": [
    {
     "name": "stdout",
     "output_type": "stream",
     "text": [
      "cod_pais : ABW\n",
      "nom_pais : Aruba\n",
      "region : América Latina y Caribe\n",
      "anio : 1960\n",
      "co2 : \n",
      "co2_percapita : \n"
     ]
    }
   ],
   "source": [
    "claves = dicc_emisiones.keys()\n",
    "for clave in claves:\n",
    "    print(clave, \":\", dicc_emisiones[clave][0])"
   ]
  },
  {
   "attachments": {},
   "cell_type": "markdown",
   "metadata": {},
   "source": [
    "cod_pais : ABW --> Cualitativo Categorico\n",
    "nom_pais : Aruba --> Cualitativo Categorico\n",
    "region : América Latina y Caribe --> Cualitativo Categorico\n",
    "anio : 1990 --> Cualitativo Ordinal\n",
    "co2 : 1.840,83 --> Cuantitativo Continuo\n",
    "co2_percapita : 29,620164768 --> Cuantitativo Continuo"
   ]
  },
  {
   "cell_type": "code",
   "execution_count": null,
   "metadata": {},
   "outputs": [],
   "source": []
  },
  {
   "cell_type": "code",
   "execution_count": 54,
   "metadata": {},
   "outputs": [],
   "source": [
    "def normalizacion(lista):\n",
    "    for indice, elemento in enumerate(lista):\n",
    "        if elemento:\n",
    "            elemento = elemento.replace('.', '')\n",
    "            elemento = elemento.replace(',', '.')\n",
    "            elemento = float(elemento)\n",
    "        else:\n",
    "            elemento = None\n",
    "\n",
    "        lista[indice] = elemento\n",
    "\n",
    "    return lista"
   ]
  },
  {
   "cell_type": "code",
   "execution_count": null,
   "metadata": {},
   "outputs": [],
   "source": [
    "dicc_emisiones['co2'] = normalizacion(dicc_emisiones['co2'])"
   ]
  },
  {
   "cell_type": "code",
   "execution_count": 58,
   "metadata": {},
   "outputs": [],
   "source": [
    "dicc_emisiones['co2_percapita'] = normalizacion(dicc_emisiones['co2_percapita'])"
   ]
  },
  {
   "cell_type": "code",
   "execution_count": 60,
   "metadata": {},
   "outputs": [
    {
     "data": {
      "text/plain": [
       "29.620164768"
      ]
     },
     "execution_count": 60,
     "metadata": {},
     "output_type": "execute_result"
    }
   ],
   "source": [
    "dicc_emisiones['co2_percapita'][30]"
   ]
  },
  {
   "cell_type": "code",
   "execution_count": 61,
   "metadata": {},
   "outputs": [],
   "source": [
    "for indice, valor in enumerate(dicc_emisiones['anio']):\n",
    "    dicc_emisiones['anio'][indice] = int(valor)"
   ]
  },
  {
   "cell_type": "code",
   "execution_count": 63,
   "metadata": {},
   "outputs": [
    {
     "data": {
      "text/plain": [
       "int"
      ]
     },
     "execution_count": 63,
     "metadata": {},
     "output_type": "execute_result"
    }
   ],
   "source": [
    "type(dicc_emisiones['anio'][30])"
   ]
  },
  {
   "attachments": {},
   "cell_type": "markdown",
   "metadata": {},
   "source": [
    "d) ¿Hay valores faltantes? <br>\n"
   ]
  },
  {
   "cell_type": "code",
   "execution_count": 48,
   "metadata": {},
   "outputs": [
    {
     "name": "stdout",
     "output_type": "stream",
     "text": [
      "no hay frase\n"
     ]
    }
   ],
   "source": [
    "frase = ''\n",
    "if not frase:\n",
    "    print(\"no hay frase\")\n",
    "else: print('hay frase')"
   ]
  },
  {
   "cell_type": "code",
   "execution_count": 51,
   "metadata": {},
   "outputs": [],
   "source": [
    "faltantes = []\n",
    "for key in dicc_emisiones:\n",
    "    for val in dicc_emisiones[key]:\n",
    "        if not val:\n",
    "#            print(\"Falta un elemento en {}\".format(key))\n",
    "            faltantes.append(key)"
   ]
  },
  {
   "cell_type": "code",
   "execution_count": 52,
   "metadata": {},
   "outputs": [
    {
     "data": {
      "text/plain": [
       "{'co2', 'co2_percapita'}"
      ]
     },
     "execution_count": 52,
     "metadata": {},
     "output_type": "execute_result"
    }
   ],
   "source": [
    "set(faltantes)"
   ]
  },
  {
   "cell_type": "markdown",
   "metadata": {},
   "source": [
    "e) ¿Cuál es el total de emisiones de CO2 para 'América Latina y Caribe' en el año 2010?"
   ]
  },
  {
   "cell_type": "code",
   "execution_count": 67,
   "metadata": {},
   "outputs": [],
   "source": [
    "anio = 2010\n",
    "region = 'América Latina y Caribe'\n",
    "emisiones = 0\n",
    "\n",
    "for i in range(len(dicc_emisiones['region'])):\n",
    "    ## Aplicamos las condiciones\n",
    "    if dicc_emisiones['region'][i] == 'América Latina y Caribe' and dicc_emisiones['anio'][i] == 2010:\n",
    "        if dicc_emisiones['co2'][i]: # tiene que ser distinto de None\n",
    "            emisiones += dicc_emisiones['co2'][i]\n"
   ]
  },
  {
   "cell_type": "code",
   "execution_count": 68,
   "metadata": {},
   "outputs": [
    {
     "data": {
      "text/plain": [
       "1691634.8009999995"
      ]
     },
     "execution_count": 68,
     "metadata": {},
     "output_type": "execute_result"
    }
   ],
   "source": [
    "emisiones"
   ]
  },
  {
   "cell_type": "code",
   "execution_count": null,
   "metadata": {},
   "outputs": [],
   "source": []
  }
 ],
 "metadata": {
  "kernelspec": {
   "display_name": "Python 3",
   "language": "python",
   "name": "python3"
  },
  "language_info": {
   "codemirror_mode": {
    "name": "ipython",
    "version": 3
   },
   "file_extension": ".py",
   "mimetype": "text/x-python",
   "name": "python",
   "nbconvert_exporter": "python",
   "pygments_lexer": "ipython3",
   "version": "3.10.5"
  },
  "orig_nbformat": 4,
  "vscode": {
   "interpreter": {
    "hash": "4bba7e2b24ea2d6c62673c3ed642d0129ead9d4c378b0ce2fb07275f742d82ac"
   }
  }
 },
 "nbformat": 4,
 "nbformat_minor": 2
}
